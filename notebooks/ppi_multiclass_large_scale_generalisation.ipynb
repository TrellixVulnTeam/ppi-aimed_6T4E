{
 "cells": [
  {
   "cell_type": "code",
   "execution_count": 1,
   "metadata": {},
   "outputs": [],
   "source": [
    "import pandas as pd\n",
    "import os\n",
    "import matplotlib.pyplot as plt"
   ]
  },
  {
   "cell_type": "code",
   "execution_count": 33,
   "metadata": {},
   "outputs": [],
   "source": [
    "s3_prefix = \"s3://aegovan-data/pubmed_asbtract/predictions_largescale_ppimulticlass-bert-f1-2021-05-10-10_2022-07-01/\"\n",
    "s3_output_prefix = \"{}_negative_generalisation/\".format(s3_prefix.rstrip(\"/\"))\n",
    "s3_data =\"s3://aegovan-data/human_output/human_interactions_ppi_v2.json\"\n",
    "s3_train =\"s3://aegovan-data/processed_dataset/train_multiclass.json\""
   ]
  },
  {
   "cell_type": "code",
   "execution_count": 3,
   "metadata": {},
   "outputs": [],
   "source": [
    "is_download_files= False"
   ]
  },
  {
   "cell_type": "code",
   "execution_count": 4,
   "metadata": {},
   "outputs": [],
   "source": [
    "label_order = [\"acetylation\", \"methylation\", \"phosphorylation\", \"dephosphorylation\", \"ubiquitination\", \"deubiquitination\",  \"other\"]\n",
    "pos_labels = list( filter(lambda x: x != 'other', label_order))\n",
    "label_order_key = lambda x:  label_order.index(x)\n",
    "\n",
    "label_title_map = {\"other\" : \"Negative class\"}"
   ]
  },
  {
   "cell_type": "code",
   "execution_count": 5,
   "metadata": {},
   "outputs": [],
   "source": [
    "local_temp = \"../temp\"\n",
    "local_temp_pred_dir = os.path.join( local_temp, \"pred_results\")\n",
    "local_temp_wk_dir = os.path.join( local_temp, \"wk\")"
   ]
  },
  {
   "cell_type": "code",
   "execution_count": 6,
   "metadata": {},
   "outputs": [],
   "source": [
    "import shutil\n",
    "\n",
    "def setup_dir(local_temp,local_temp_pred_dir, local_temp_wk_dir):\n",
    "    if os.path.exists(local_temp):\n",
    "        shutil.rmtree(local_temp)\n",
    "    os.makedirs(local_temp_pred_dir)\n",
    "    os.makedirs(local_temp_wk_dir)\n"
   ]
  },
  {
   "cell_type": "code",
   "execution_count": 7,
   "metadata": {},
   "outputs": [],
   "source": [
    "import boto3\n",
    "import glob\n",
    "from multiprocessing.dummy import Pool as ThreadPool\n",
    "import argparse\n",
    "import datetime \n",
    "import os\n",
    "\n",
    "\n",
    "def upload_file(localpath, s3path):\n",
    "        \"\"\"\n",
    "Uploads a file to s3\n",
    "        :param localpath: The local path\n",
    "        :param s3path: The s3 path in format s3://mybucket/mydir/mysample.txt\n",
    "        \"\"\"\n",
    "\n",
    "        bucket, key = get_bucketname_key(s3path)\n",
    "\n",
    "        if key.endswith(\"/\"):\n",
    "            key = \"{}{}\".format(key, os.path.basename(localpath))\n",
    "        \n",
    "        s3 = boto3.client('s3')\n",
    "        \n",
    "        s3.upload_file(localpath, bucket, key)\n",
    "\n",
    "def get_bucketname_key(uripath):\n",
    "    assert uripath.startswith(\"s3://\")\n",
    "\n",
    "    path_without_scheme = uripath[5:]\n",
    "    bucket_end_index = path_without_scheme.find(\"/\")\n",
    "\n",
    "    bucket_name = path_without_scheme\n",
    "    key = \"/\"\n",
    "    if bucket_end_index > -1:\n",
    "        bucket_name = path_without_scheme[0:bucket_end_index]\n",
    "        key = path_without_scheme[bucket_end_index + 1:]\n",
    "\n",
    "    return bucket_name, key\n",
    "\n",
    "\n",
    "def download_file(s3path, local_dir):\n",
    "    bucket, key = get_bucketname_key(s3path)\n",
    "    \n",
    "    s3 = boto3.client('s3')\n",
    "    \n",
    "    local_file = os.path.join(local_dir, s3path.split(\"/\")[-1])\n",
    "    \n",
    "\n",
    "    s3.download_file(bucket, key, local_file)\n",
    "    \n",
    "def download_object(s3path):\n",
    "    bucket, key = get_bucketname_key(s3path)\n",
    "    \n",
    "    s3 = boto3.client('s3')    \n",
    "\n",
    "    s3_response_object = s3.get_object(Bucket=bucket, Key=key)\n",
    "    object_content = s3_response_object['Body'].read()\n",
    "    \n",
    "    return len(object_content)\n",
    "\n",
    "\n",
    "\n",
    "def list_files(s3path_prefix):\n",
    "    assert s3path_prefix.startswith(\"s3://\")\n",
    "    assert s3path_prefix.endswith(\"/\")\n",
    "    \n",
    "    bucket, key = get_bucketname_key(s3path_prefix)\n",
    "    \n",
    "   \n",
    "   \n",
    "    s3 = boto3.resource('s3')\n",
    "    \n",
    "    bucket = s3.Bucket(name=bucket)\n",
    "\n",
    "    return ( (o.bucket_name, o.key) for o in bucket.objects.filter(Prefix=key))\n",
    "\n",
    "\n",
    "\n",
    "\n",
    "\n",
    "def upload_files(local_dir, s3_prefix, num_threads=20):    \n",
    "    input_tuples = ( (f,  s3_prefix) for f in glob.glob(\"{}/*\".format(local_dir)))\n",
    "    \n",
    "    with ThreadPool(num_threads) as pool:\n",
    "        pool.starmap(uploadfile, input_tuples)\n",
    "    \n",
    "\n",
    "\n",
    "def download_files(s3_prefix, local_dir, num_threads=20):    \n",
    "    input_tuples = ( (\"s3://{}/{}\".format(s3_bucket,s3_key),  local_dir) for s3_bucket, s3_key in list_files(s3_prefix))\n",
    "    \n",
    "    with ThreadPool(num_threads) as pool:\n",
    "        results = pool.starmap(download_file, input_tuples)\n",
    "        \n",
    "        \n",
    "\n",
    "def download_objects(s3_prefix, num_threads=20):    \n",
    "    s3_files = ( \"s3://{}/{}\".format(s3_bucket,s3_key) for s3_bucket, s3_key in list_files(s3_prefix))\n",
    "    \n",
    "    with ThreadPool(num_threads) as pool:\n",
    "        results = pool.map(download_object, s3_files)\n",
    "        \n",
    "    return sum(results)/1024\n",
    "        \n",
    "\n",
    "def get_directory_size(start_path):\n",
    "    total_size = 0\n",
    "    for dirpath, dirnames, filenames in os.walk(start_path):\n",
    "        for f in filenames:\n",
    "            fp = os.path.join(dirpath, f)\n",
    "            # skip if it is symbolic link\n",
    "            if not os.path.islink(fp):\n",
    "                total_size += os.path.getsize(fp)\n",
    "    return total_size\n",
    "\n",
    "def get_s3file_size(bucket, key):\n",
    "    s3 = boto3.client('s3')\n",
    "    response = s3.head_object(Bucket=bucket, Key=key)\n",
    "    size = response['ContentLength']\n",
    "    return size\n",
    "    \n",
    "def download_files_min_files(s3_prefix, local_dir, min_file_size=310, num_threads=20):    \n",
    "    input_tuples = ( (\"s3://{}/{}\".format(s3_bucket,s3_key),  local_dir) for s3_bucket, s3_key in list_files(s3_prefix) if get_s3file_size(s3_bucket, s3_key) > min_file_size )\n",
    "    \n",
    "    with ThreadPool(num_threads) as pool:\n",
    "        results = pool.starmap(download_file, input_tuples)\n",
    "        \n"
   ]
  },
  {
   "cell_type": "code",
   "execution_count": 8,
   "metadata": {},
   "outputs": [
    {
     "name": "stdout",
     "output_type": "stream",
     "text": [
      "CPU times: user 2 µs, sys: 1e+03 ns, total: 3 µs\n",
      "Wall time: 5.01 µs\n"
     ]
    }
   ],
   "source": [
    "%%time\n",
    "\n",
    "if is_download_files:\n",
    "    setup_dir(local_temp,local_temp_pred_dir, local_temp_wk_dir)\n",
    "    download_files(s3_prefix, local_temp_pred_dir)"
   ]
  },
  {
   "cell_type": "code",
   "execution_count": 9,
   "metadata": {},
   "outputs": [
    {
     "name": "stdout",
     "output_type": "stream",
     "text": [
      "     251\r\n"
     ]
    }
   ],
   "source": [
    "!ls -l $local_temp_pred_dir | wc -l"
   ]
  },
  {
   "cell_type": "code",
   "execution_count": 10,
   "metadata": {},
   "outputs": [],
   "source": [
    "threshold_config = {'acetylation': {('confidence_std', 'count'): 5.0,\n",
    "  ('confidence_std', 'mean'): 0.20221626758575403,\n",
    "  ('confidence_std', 'std'): 0.010931891264366925,\n",
    "  ('confidence_std', 'min'): 0.186287313699722,\n",
    "  ('confidence_std', '25%'): 0.19900196790695102,\n",
    "  ('confidence_std', '50%'): 0.20083150267601002,\n",
    "  ('confidence_std', '75%'): 0.21166041493415802,\n",
    "  ('confidence_std', 'max'): 0.21330013871192902,\n",
    "  ('confidence', 'count'): 5.0,\n",
    "  ('confidence', 'mean'): 0.5777932286262508,\n",
    "  ('confidence', 'std'): 0.017217069729986746,\n",
    "  ('confidence', 'min'): 0.555882334709167,\n",
    "  ('confidence', '25%'): 0.572159707546234,\n",
    "  ('confidence', '50%'): 0.57360166311264,\n",
    "  ('confidence', '75%'): 0.5849224925041191,\n",
    "  ('confidence', 'max'): 0.602399945259094},\n",
    " 'dephosphorylation': {('confidence_std', 'count'): 29.0,\n",
    "  ('confidence_std', 'mean'): 0.21133935400124204,\n",
    "  ('confidence_std', 'std'): 0.07727310272430898,\n",
    "  ('confidence_std', 'min'): 0.11373741179704601,\n",
    "  ('confidence_std', '25%'): 0.141093701124191,\n",
    "  ('confidence_std', '50%'): 0.18553803861141202,\n",
    "  ('confidence_std', '75%'): 0.255215793848037,\n",
    "  ('confidence_std', 'max'): 0.41554290056228604,\n",
    "  ('confidence', 'count'): 29.0,\n",
    "  ('confidence', 'mean'): 0.8063360175182077,\n",
    "  ('confidence', 'std'): 0.13017405501056736,\n",
    "  ('confidence', 'min'): 0.32787588238716103,\n",
    "  ('confidence', '25%'): 0.7709274291992181,\n",
    "  ('confidence', '50%'): 0.8457427024841301,\n",
    "  ('confidence', '75%'): 0.8899683952331541,\n",
    "  ('confidence', 'max'): 0.914224922657012},\n",
    " 'deubiquitination': {('confidence_std', 'count'): 2.0,\n",
    "  ('confidence_std', 'mean'): 0.1863851696252815,\n",
    "  ('confidence_std', 'std'): 0.002637275825296506,\n",
    "  ('confidence_std', 'min'): 0.184520334005355,\n",
    "  ('confidence_std', '25%'): 0.18545275181531826,\n",
    "  ('confidence_std', '50%'): 0.1863851696252815,\n",
    "  ('confidence_std', '75%'): 0.18731758743524476,\n",
    "  ('confidence_std', 'max'): 0.18825000524520802,\n",
    "  ('confidence', 'count'): 2.0,\n",
    "  ('confidence', 'mean'): 0.4542059451341625,\n",
    "  ('confidence', 'std'): 0.010661192844799884,\n",
    "  ('confidence', 'min'): 0.446667343378067,\n",
    "  ('confidence', '25%'): 0.45043664425611474,\n",
    "  ('confidence', '50%'): 0.4542059451341625,\n",
    "  ('confidence', '75%'): 0.4579752460122103,\n",
    "  ('confidence', 'max'): 0.461744546890258},\n",
    " 'methylation': {('confidence_std', 'count'): 9.0,\n",
    "  ('confidence_std', 'mean'): 0.20187029076947058,\n",
    "  ('confidence_std', 'std'): 0.011129410572280824,\n",
    "  ('confidence_std', 'min'): 0.185736715793609,\n",
    "  ('confidence_std', '25%'): 0.19583970308303802,\n",
    "  ('confidence_std', '50%'): 0.19923907518386802,\n",
    "  ('confidence_std', '75%'): 0.210324048995971,\n",
    "  ('confidence_std', 'max'): 0.21908366680145203,\n",
    "  ('confidence', 'count'): 9.0,\n",
    "  ('confidence', 'mean'): 0.7966000636418656,\n",
    "  ('confidence', 'std'): 0.01647822043812186,\n",
    "  ('confidence', 'min'): 0.7693868875503541,\n",
    "  ('confidence', '25%'): 0.780769705772399,\n",
    "  ('confidence', '50%'): 0.798503041267395,\n",
    "  ('confidence', '75%'): 0.809625148773193,\n",
    "  ('confidence', 'max'): 0.8169981241226191},\n",
    " 'other': {('confidence_std', 'count'): 1116.0,\n",
    "  ('confidence_std', 'mean'): 0.015799599189941234,\n",
    "  ('confidence_std', 'std'): 0.0407698558038574,\n",
    "  ('confidence_std', 'min'): 0.0008510624757030001,\n",
    "  ('confidence_std', '25%'): 0.00117629769374575,\n",
    "  ('confidence_std', '50%'): 0.0021780409151680004,\n",
    "  ('confidence_std', '75%'): 0.007007123087532501,\n",
    "  ('confidence_std', 'max'): 0.303181886672973,\n",
    "  ('confidence', 'count'): 1116.0,\n",
    "  ('confidence', 'mean'): 0.9903799230800303,\n",
    "  ('confidence', 'std'): 0.026711376001797505,\n",
    "  ('confidence', 'min'): 0.5133088827133171,\n",
    "  ('confidence', '25%'): 0.9944566637277598,\n",
    "  ('confidence', '50%'): 0.9974353015422815,\n",
    "  ('confidence', '75%'): 0.998221039772033,\n",
    "  ('confidence', 'max'): 0.9985265731811521},\n",
    " 'phosphorylation': {('confidence_std', 'count'): 139.0,\n",
    "  ('confidence_std', 'mean'): 0.09348429794416534,\n",
    "  ('confidence_std', 'std'): 0.11442879568269237,\n",
    "  ('confidence_std', 'min'): 0.006378921680152001,\n",
    "  ('confidence_std', '25%'): 0.013172945939004001,\n",
    "  ('confidence_std', '50%'): 0.034169171005487005,\n",
    "  ('confidence_std', '75%'): 0.13673919439315751,\n",
    "  ('confidence_std', 'max'): 0.469867438077926,\n",
    "  ('confidence', 'count'): 139.0,\n",
    "  ('confidence', 'mean'): 0.9306538756802781,\n",
    "  ('confidence', 'std'): 0.09291076266425286,\n",
    "  ('confidence', 'min'): 0.548133730888366,\n",
    "  ('confidence', '25%'): 0.9297615289688106,\n",
    "  ('confidence', '50%'): 0.9758448600769041,\n",
    "  ('confidence', '75%'): 0.98560282588005,\n",
    "  ('confidence', 'max'): 0.990909934043884},\n",
    " 'ubiquitination': {('confidence_std', 'count'): 5.0,\n",
    "  ('confidence_std', 'mean'): 0.1845212131738658,\n",
    "  ('confidence_std', 'std'): 0.010037806334405529,\n",
    "  ('confidence_std', 'min'): 0.174075484275817,\n",
    "  ('confidence_std', '25%'): 0.177953422069549,\n",
    "  ('confidence_std', '50%'): 0.18058878183364802,\n",
    "  ('confidence_std', '75%'): 0.19217012822628002,\n",
    "  ('confidence_std', 'max'): 0.197818249464035,\n",
    "  ('confidence', 'count'): 5.0,\n",
    "  ('confidence', 'mean'): 0.5571501374244686,\n",
    "  ('confidence', 'std'): 0.07332355556921501,\n",
    "  ('confidence', 'min'): 0.42922157049179005,\n",
    "  ('confidence', '25%'): 0.5765218138694761,\n",
    "  ('confidence', '50%'): 0.579930007457733,\n",
    "  ('confidence', '75%'): 0.58320677280426,\n",
    "  ('confidence', 'max'): 0.616870522499084}}"
   ]
  },
  {
   "cell_type": "code",
   "execution_count": 11,
   "metadata": {},
   "outputs": [],
   "source": [
    "def load_df_from_files(local_temp_pred_dir):\n",
    "   \n",
    "    list_df = []\n",
    "    for f in os.listdir(local_temp_pred_dir):\n",
    "        df = pd.read_json(os.path.join(local_temp_pred_dir, f), orient=\"records\" )\n",
    "        list_df.append(df)\n",
    "    return pd.concat(list_df)\n"
   ]
  },
  {
   "cell_type": "code",
   "execution_count": 12,
   "metadata": {
    "scrolled": false
   },
   "outputs": [],
   "source": [
    "def get_summary_df(local_temp_pred_dir, use_std=True, conf_percentile=\"50%\", confidence_std_percentile=\"50%\"):\n",
    "    list_df_high_quality = []\n",
    "    list_df_low_quality = []\n",
    "    list_df_summary = []\n",
    "    for f in os.listdir(local_temp_pred_dir):\n",
    "        df = pd.read_json(os.path.join(local_temp_pred_dir, f), orient=\"records\" )\n",
    "        \n",
    "        list_df_summary.append(df[[\"prediction\", \"confidence\", \"confidence_std\", \"pubmedId\", \"participant1Id\", \"participant2Id\", \"participant1Name\", \"participant2Name\"]])\n",
    "\n",
    "        # Filter below threshold items\n",
    "        high_quality_frames_per_interaction = []\n",
    "        low_quality_frames_per_interaction = []\n",
    "\n",
    "\n",
    "        for k,t in threshold_config.items():\n",
    "            conf_median = t[('confidence', conf_percentile)]\n",
    "            conf_std_median = t[('confidence_std', confidence_std_percentile)]\n",
    "            \n",
    "            # HQ filter query\n",
    "            high_qry = \"prediction == '{}' and confidence >= {} and confidence_std <= {}\" .format(k, conf_median, conf_std_median)\n",
    "            if not use_std:\n",
    "                high_qry = \"prediction == '{}' and confidence >= {} \" .format(k, conf_median)\n",
    "            high_quality_frames_per_interaction.append(df.query(high_qry))\n",
    "\n",
    "\n",
    "            # Low quality filter query\n",
    "            conf_min = t[('confidence', \"min\")]\n",
    "            conf_std_min = t[('confidence_std', \"max\")]\n",
    "            low_qry = \"prediction == '{}' and confidence < {} and confidence_std > {}\" .format(k, conf_min, conf_std_min)\n",
    "            if not use_std:\n",
    "                low_qry = \"prediction == '{}' and confidence < {} \" .format(k, conf_median)\n",
    "            df_low = df.query(low_qry)\n",
    "            sample=max(int(len(df_low)*.1), min(len(df_low),2) )\n",
    "            low_quality_frames_per_interaction.append(df_low.sort_values(by=[\"prediction\", \"confidence_std\"]).head(n=sample))\n",
    "           \n",
    "\n",
    "        high_quality_df = pd.concat(high_quality_frames_per_interaction)\n",
    "        low_quality_df = pd.concat(low_quality_frames_per_interaction)\n",
    "\n",
    "\n",
    "        list_df_high_quality.append(high_quality_df)\n",
    "        list_df_low_quality.append(low_quality_df)\n",
    "\n",
    "\n",
    "    \n",
    "    return pd.concat(list_df_high_quality), pd.concat(list_df_summary), pd.concat(list_df_low_quality)\n",
    "\n"
   ]
  },
  {
   "cell_type": "code",
   "execution_count": 13,
   "metadata": {},
   "outputs": [],
   "source": [
    "def get_partipants_key_raw(participants):\n",
    "    \"\"\"\n",
    "    Example input\n",
    "    [{'uniprotid': 'P19388',\n",
    "  'alias': [['rpab1_human'],\n",
    "   ['DNA-directed RNA polymerases I, II, and III subunit RPABC1'],\n",
    "   ['POLR2E'],\n",
    "   ['DNA-directed RNA polymerase II subunit E'],\n",
    "   ['RPB5 homolog'],\n",
    "   ['DNA-directed RNA polymerase II 23 kDa polypeptide'],\n",
    "   ['XAP4']],\n",
    "  'alternative_uniprots': ['Q6PIH5', 'Q9BT06', 'O43380', 'B2R6L4', 'D6W5Y1']},\n",
    " {'uniprotid': 'Q96SB4',\n",
    "  'alias': [['srpk1_human'],\n",
    "   ['SRSF protein kinase 1'],\n",
    "   ['Serine/arginine-rich protein-specific kinase 1'],\n",
    "   ['SFRS protein kinase 1'],\n",
    "   ['SRPK1']],\n",
    "  'alternative_uniprots': ['Q5R365', 'Q5R364', 'B4DS61', 'Q8IY12', 'Q12890']}]\n",
    "    \"\"\"\n",
    "    participant_uniprot = []\n",
    "    for p in participants:\n",
    "        \n",
    "        participant_uniprot.append(str(p[\"uniprotid\"]))\n",
    "        \n",
    "        \n",
    "    result = frozenset( list(filter (lambda x: x is not None, participant_uniprot)))\n",
    "    \n",
    "    return result\n",
    "\n",
    "\n",
    "def is_ptm_ppi_in_training(df, training_df):\n",
    "    training_participants_pred = pd.DataFrame()\n",
    "    training_participants_pred[\"pubmedId\"] = training_df[\"pubmedId\"]\n",
    "    training_participants_pred[\"participants\"] = training_df[\"participants\"].apply(get_partipants_key_raw)\n",
    "    training_participants_pred[\"prediction\"] = training_df[\"interactionType\"]\n",
    "    training_participants_pred[\"ptm-ppi\"] = training_participants_pred[[\"prediction\", \"participants\"]].apply(tuple, axis=1)\n",
    "    training_participants_pred[\"ptm-ppi-pubmed\"] = training_participants_pred[[\"prediction\",\"participants\",\"pubmedId\" ]].apply(tuple, axis=1)\n",
    "\n",
    "\n",
    "    df_particpiants_pred = pd.DataFrame()\n",
    "    df_particpiants_pred[\"pubmedId\"] = df[\"pubmedId\"]\n",
    "    df_particpiants_pred[\"participants\"] = df[[\"participant2Id\", \"participant1Id\"]].apply(frozenset, axis=1)\n",
    "    df_particpiants_pred[\"prediction\"] = df[\"prediction\"]\n",
    "    df_particpiants_pred[\"ptm-ppi\"] = df_particpiants_pred[[\"prediction\",\"participants\" ]].apply(tuple, axis=1)\n",
    "    df_particpiants_pred[\"ptm-ppi-pubmed\"] = df_particpiants_pred[[\"prediction\",\"participants\",\"pubmedId\" ]].apply(tuple, axis=1)\n",
    " \n",
    "    result = pd.DataFrame()\n",
    "    result[\"is_in_train_ptmppi\"] =  df_particpiants_pred[\"ptm-ppi\"].isin(training_participants_pred[\"ptm-ppi\"])\n",
    "    result[\"is_in_train_record\"]=  df_particpiants_pred[\"ptm-ppi-pubmed\"].isin(training_participants_pred[\"ptm-ppi-pubmed\"])\n",
    "    \n",
    "    \n",
    "    return result\n",
    "\n",
    "\n",
    "def is_in_training_pubmed(df, training_df):\n",
    "    return df[\"pubmedId\"].isin(training_df[\"pubmedId\"])"
   ]
  },
  {
   "cell_type": "code",
   "execution_count": 14,
   "metadata": {},
   "outputs": [],
   "source": [
    "download_file(s3_data, local_temp_wk_dir)\n",
    "data_file = os.path.join(local_temp_wk_dir, s3_data.split(\"/\")[-1])\n",
    "data_training_full_df = pd.read_json(data_file)"
   ]
  },
  {
   "cell_type": "code",
   "execution_count": 15,
   "metadata": {},
   "outputs": [
    {
     "name": "stdout",
     "output_type": "stream",
     "text": [
      "CPU times: user 1min 6s, sys: 1.64 s, total: 1min 7s\n",
      "Wall time: 1min 8s\n"
     ]
    }
   ],
   "source": [
    "%%time \n",
    "\n",
    "\n",
    "df_high_quality_threshold, df_summary, df_low_quality_threshold = get_summary_df (local_temp_pred_dir, use_std=True)\n",
    "df_high_quality_threshold[[\"PTMPPIInTrainingData\", \"RecordInTrainingData\"]] = is_ptm_ppi_in_training( df_high_quality_threshold, data_training_full_df)\n",
    "df_summary[[\"PTMPPIInTrainingData\", \"RecordInTrainingData\"]] = is_ptm_ppi_in_training( df_summary, data_training_full_df)\n",
    "df_low_quality_threshold[[\"PTMPPIInTrainingData\", \"RecordInTrainingData\"]] = is_ptm_ppi_in_training( df_low_quality_threshold, data_training_full_df)"
   ]
  },
  {
   "cell_type": "code",
   "execution_count": 16,
   "metadata": {},
   "outputs": [],
   "source": [
    "import matplotlib.gridspec as gridspec\n",
    "\n",
    "import numpy as np\n",
    "\n",
    "def box_plot_prediction_confidence(df, df_high_quality, subplot_spec, title_prefix=\"\", set_title=True):\n",
    "    \n",
    "    df = df[~df.RecordInTrainingData].copy()\n",
    "    df_high_quality = df_high_quality[~df_high_quality.RecordInTrainingData].copy()\n",
    "    \n",
    "    \n",
    "    interaction_types = label_order\n",
    "    \n",
    "    num_plots = len(interaction_types)\n",
    "    gs = gridspec.GridSpecFromSubplotSpec(1, len(label_order), subplot_spec=subplot_spec)\n",
    "    \n",
    "    for i, interaction in enumerate(interaction_types):\n",
    "        df_interaction = df.query(f\"prediction == '{interaction}'\")\n",
    "        df_interaction_high_quality = df_high_quality.query(f\"prediction == '{interaction}'\")\n",
    "        \n",
    "        if len(df_interaction) == 0: continue\n",
    "        \n",
    "        ax = fig.add_subplot(gs[0, i])\n",
    "    \n",
    "    \n",
    "        # Rename columns\n",
    "        new_column_names = {\"confidence\":\"c\", \n",
    "                           \"confidence_std\" : \"v\"\n",
    "                            }\n",
    "        df_interaction = df_interaction.rename(columns = new_column_names)\n",
    "        df_interaction_high_quality=df_interaction_high_quality.rename(columns = new_column_names)\n",
    "        \n",
    "        \n",
    "        # Style and formatting..\n",
    "        \n",
    "        if set_title:\n",
    "            ax.set_title(\"{}{}\\nT={} (HQ={}%)\".format( title_prefix,\n",
    "                                               label_title_map.get(interaction, interaction).title(),\n",
    "                                               len(df_interaction),\n",
    "                                               round(100 * len(df_interaction_high_quality)/len(df_interaction),2)                \n",
    "                                              )\n",
    "                        )\n",
    "        ax.set_ylim(0,1)\n",
    "        \n",
    "        ax.tick_params(\n",
    "            axis='x',          # changes apply to the x-axis\n",
    "            which='both',      # both major and minor ticks are affected\n",
    "            bottom=False,      # ticks along the bottom edge are off\n",
    "            top=False,         # ticks along the top edge are off\n",
    "            labelbottom=False)\n",
    "        \n",
    "        ax.spines['bottom'].set_color('grey')\n",
    "        ax.spines['top'].set_color('grey') \n",
    "        ax.spines['right'].set_color('grey')\n",
    "        ax.spines['left'].set_color('grey')\n",
    "        \n",
    "        \n",
    "        # Plot violin plot        \n",
    "        ax.violinplot(df_interaction[[\"c\", \"v\" ]],  showmeans=True )\n",
    "        if len(df_interaction_high_quality) > 0:\n",
    "            ax.violinplot(df_interaction_high_quality[[\"c\", \"v\" ]],  showmeans=True )\n",
    "        \n",
    "        \n",
    "        x_labels = ['C', 'V']\n",
    "        \n",
    "        ax.xaxis.set_tick_params(direction='out')\n",
    "        ax.xaxis.set_ticks_position('bottom')\n",
    "        ax.set_xticks(np.arange(1, len(x_labels) + 1))\n",
    "        ax.set_xticklabels(x_labels)\n",
    "        ax.set_xlim(0.25, len(x_labels) + 0.75)\n",
    "        \n",
    "        \n",
    "       \n",
    "\n",
    "\n",
    "\n",
    "        \n"
   ]
  },
  {
   "cell_type": "code",
   "execution_count": 17,
   "metadata": {},
   "outputs": [
    {
     "data": {
      "text/plain": [
       "(36689, 23)"
      ]
     },
     "execution_count": 17,
     "metadata": {},
     "output_type": "execute_result"
    }
   ],
   "source": [
    "df_high_quality_threshold.shape"
   ]
  },
  {
   "cell_type": "code",
   "execution_count": 18,
   "metadata": {},
   "outputs": [
    {
     "data": {
      "image/png": "[encoded data removed]",
      "text/plain": [
       "<Figure size 1800x504 with 7 Axes>"
      ]
     },
     "metadata": {
      "needs_background": "light"
     },
     "output_type": "display_data"
    }
   ],
   "source": [
    "fig = plt.figure(figsize=(25 , 7))\n",
    "gs = fig.add_gridspec(nrows=2)\n",
    "\n",
    "box_plot_prediction_confidence(df_summary, df_high_quality_threshold, gs[0])\n",
    "\n",
    "plt.savefig(\"largescaleprediction_distribution.pdf\", bbox_inches=\"tight\")"
   ]
  },
  {
   "cell_type": "code",
   "execution_count": 19,
   "metadata": {},
   "outputs": [
    {
     "data": {
      "text/plain": [
       "other                2172\n",
       "methylation           701\n",
       "ubiquitination        655\n",
       "phosphorylation       389\n",
       "acetylation           189\n",
       "dephosphorylation      16\n",
       "deubiquitination        2\n",
       "Name: prediction, dtype: int64"
      ]
     },
     "execution_count": 19,
     "metadata": {},
     "output_type": "execute_result"
    }
   ],
   "source": [
    "df_low_quality_threshold[\"prediction\"].value_counts()"
   ]
  },
  {
   "cell_type": "code",
   "execution_count": 20,
   "metadata": {},
   "outputs": [
    {
     "data": {
      "image/png": "[encoded data removed]",
      "text/plain": [
       "<Figure size 1800x504 with 7 Axes>"
      ]
     },
     "metadata": {
      "needs_background": "light"
     },
     "output_type": "display_data"
    }
   ],
   "source": [
    "fig = plt.figure(figsize=(25 , 7))\n",
    "gs = fig.add_gridspec(nrows=2)\n",
    "\n",
    "box_plot_prediction_confidence(df_summary, df_low_quality_threshold, gs[0])\n",
    "\n"
   ]
  },
  {
   "cell_type": "code",
   "execution_count": 21,
   "metadata": {},
   "outputs": [
    {
     "data": {
      "text/plain": [
       "(439438, 10)"
      ]
     },
     "execution_count": 21,
     "metadata": {},
     "output_type": "execute_result"
    }
   ],
   "source": [
    "df_summary.shape"
   ]
  },
  {
   "cell_type": "code",
   "execution_count": 22,
   "metadata": {},
   "outputs": [
    {
     "data": {
      "text/html": [
       "<div>\n",
       "<style scoped>\n",
       "    .dataframe tbody tr th:only-of-type {\n",
       "        vertical-align: middle;\n",
       "    }\n",
       "\n",
       "    .dataframe tbody tr th {\n",
       "        vertical-align: top;\n",
       "    }\n",
       "\n",
       "    .dataframe thead th {\n",
       "        text-align: right;\n",
       "    }\n",
       "</style>\n",
       "<table border=\"1\" class=\"dataframe\">\n",
       "  <thead>\n",
       "    <tr style=\"text-align: right;\">\n",
       "      <th></th>\n",
       "      <th>prediction</th>\n",
       "      <th>acetylation</th>\n",
       "      <th>dephosphorylation</th>\n",
       "      <th>deubiquitination</th>\n",
       "      <th>methylation</th>\n",
       "      <th>other</th>\n",
       "      <th>phosphorylation</th>\n",
       "      <th>ubiquitination</th>\n",
       "    </tr>\n",
       "  </thead>\n",
       "  <tbody>\n",
       "    <tr>\n",
       "      <th rowspan=\"8\" valign=\"top\">confidence</th>\n",
       "      <th>count</th>\n",
       "      <td>6.990000e+02</td>\n",
       "      <td>1.147700e+04</td>\n",
       "      <td>1.800000e+01</td>\n",
       "      <td>7.185000e+03</td>\n",
       "      <td>2.838150e+05</td>\n",
       "      <td>1.268470e+05</td>\n",
       "      <td>9.397000e+03</td>\n",
       "    </tr>\n",
       "    <tr>\n",
       "      <th>mean</th>\n",
       "      <td>2.930808e-01</td>\n",
       "      <td>3.709867e-01</td>\n",
       "      <td>2.437239e-01</td>\n",
       "      <td>3.858045e-01</td>\n",
       "      <td>8.635541e-01</td>\n",
       "      <td>5.571496e-01</td>\n",
       "      <td>3.078330e-01</td>\n",
       "    </tr>\n",
       "    <tr>\n",
       "      <th>std</th>\n",
       "      <td>5.672533e-02</td>\n",
       "      <td>9.810365e-02</td>\n",
       "      <td>2.282310e-02</td>\n",
       "      <td>1.242425e-01</td>\n",
       "      <td>1.874035e-01</td>\n",
       "      <td>1.631432e-01</td>\n",
       "      <td>5.558877e-02</td>\n",
       "    </tr>\n",
       "    <tr>\n",
       "      <th>min</th>\n",
       "      <td>1.844778e-01</td>\n",
       "      <td>1.799101e-01</td>\n",
       "      <td>2.079704e-01</td>\n",
       "      <td>1.796805e-01</td>\n",
       "      <td>1.800849e-01</td>\n",
       "      <td>1.770113e-01</td>\n",
       "      <td>1.770117e-01</td>\n",
       "    </tr>\n",
       "    <tr>\n",
       "      <th>25%</th>\n",
       "      <td>2.512852e-01</td>\n",
       "      <td>2.974839e-01</td>\n",
       "      <td>2.228585e-01</td>\n",
       "      <td>2.883187e-01</td>\n",
       "      <td>7.863973e-01</td>\n",
       "      <td>4.327566e-01</td>\n",
       "      <td>2.673734e-01</td>\n",
       "    </tr>\n",
       "    <tr>\n",
       "      <th>50%</th>\n",
       "      <td>2.857745e-01</td>\n",
       "      <td>3.582928e-01</td>\n",
       "      <td>2.458449e-01</td>\n",
       "      <td>3.545788e-01</td>\n",
       "      <td>9.646357e-01</td>\n",
       "      <td>5.450867e-01</td>\n",
       "      <td>3.021228e-01</td>\n",
       "    </tr>\n",
       "    <tr>\n",
       "      <th>75%</th>\n",
       "      <td>3.294316e-01</td>\n",
       "      <td>4.268874e-01</td>\n",
       "      <td>2.580149e-01</td>\n",
       "      <td>4.601656e-01</td>\n",
       "      <td>9.958288e-01</td>\n",
       "      <td>6.754889e-01</td>\n",
       "      <td>3.419753e-01</td>\n",
       "    </tr>\n",
       "    <tr>\n",
       "      <th>max</th>\n",
       "      <td>4.974306e-01</td>\n",
       "      <td>8.947631e-01</td>\n",
       "      <td>2.916166e-01</td>\n",
       "      <td>7.954645e-01</td>\n",
       "      <td>9.985271e-01</td>\n",
       "      <td>9.897428e-01</td>\n",
       "      <td>5.720380e-01</td>\n",
       "    </tr>\n",
       "    <tr>\n",
       "      <th rowspan=\"8\" valign=\"top\">confidence_std</th>\n",
       "      <th>count</th>\n",
       "      <td>6.990000e+02</td>\n",
       "      <td>1.147700e+04</td>\n",
       "      <td>1.800000e+01</td>\n",
       "      <td>7.185000e+03</td>\n",
       "      <td>2.838150e+05</td>\n",
       "      <td>1.268470e+05</td>\n",
       "      <td>9.397000e+03</td>\n",
       "    </tr>\n",
       "    <tr>\n",
       "      <th>mean</th>\n",
       "      <td>2.011719e-01</td>\n",
       "      <td>3.402142e-01</td>\n",
       "      <td>1.398978e-01</td>\n",
       "      <td>2.899180e-01</td>\n",
       "      <td>1.471187e-01</td>\n",
       "      <td>3.700039e-01</td>\n",
       "      <td>2.086809e-01</td>\n",
       "    </tr>\n",
       "    <tr>\n",
       "      <th>std</th>\n",
       "      <td>3.342134e-02</td>\n",
       "      <td>5.072438e-02</td>\n",
       "      <td>3.173239e-02</td>\n",
       "      <td>4.534439e-02</td>\n",
       "      <td>1.567221e-01</td>\n",
       "      <td>7.698923e-02</td>\n",
       "      <td>3.891266e-02</td>\n",
       "    </tr>\n",
       "    <tr>\n",
       "      <th>min</th>\n",
       "      <td>9.571324e-02</td>\n",
       "      <td>1.453529e-01</td>\n",
       "      <td>6.696381e-02</td>\n",
       "      <td>1.198883e-01</td>\n",
       "      <td>7.238831e-04</td>\n",
       "      <td>6.695514e-03</td>\n",
       "      <td>7.173686e-02</td>\n",
       "    </tr>\n",
       "    <tr>\n",
       "      <th>25%</th>\n",
       "      <td>1.781769e-01</td>\n",
       "      <td>3.067458e-01</td>\n",
       "      <td>1.215737e-01</td>\n",
       "      <td>2.596361e-01</td>\n",
       "      <td>4.461263e-03</td>\n",
       "      <td>3.340991e-01</td>\n",
       "      <td>1.826638e-01</td>\n",
       "    </tr>\n",
       "    <tr>\n",
       "      <th>50%</th>\n",
       "      <td>2.023614e-01</td>\n",
       "      <td>3.441899e-01</td>\n",
       "      <td>1.375995e-01</td>\n",
       "      <td>2.916409e-01</td>\n",
       "      <td>7.578858e-02</td>\n",
       "      <td>3.890232e-01</td>\n",
       "      <td>2.093719e-01</td>\n",
       "    </tr>\n",
       "    <tr>\n",
       "      <th>75%</th>\n",
       "      <td>2.228953e-01</td>\n",
       "      <td>3.772184e-01</td>\n",
       "      <td>1.576167e-01</td>\n",
       "      <td>3.213449e-01</td>\n",
       "      <td>2.947168e-01</td>\n",
       "      <td>4.247452e-01</td>\n",
       "      <td>2.351275e-01</td>\n",
       "    </tr>\n",
       "    <tr>\n",
       "      <th>max</th>\n",
       "      <td>3.345895e-01</td>\n",
       "      <td>4.889568e-01</td>\n",
       "      <td>1.936462e-01</td>\n",
       "      <td>4.184169e-01</td>\n",
       "      <td>5.188307e-01</td>\n",
       "      <td>5.109221e-01</td>\n",
       "      <td>3.374282e-01</td>\n",
       "    </tr>\n",
       "    <tr>\n",
       "      <th rowspan=\"8\" valign=\"top\">pubmedId</th>\n",
       "      <th>count</th>\n",
       "      <td>6.990000e+02</td>\n",
       "      <td>1.147700e+04</td>\n",
       "      <td>1.800000e+01</td>\n",
       "      <td>7.185000e+03</td>\n",
       "      <td>2.838150e+05</td>\n",
       "      <td>1.268470e+05</td>\n",
       "      <td>9.397000e+03</td>\n",
       "    </tr>\n",
       "    <tr>\n",
       "      <th>mean</th>\n",
       "      <td>3.327039e+06</td>\n",
       "      <td>3.181249e+06</td>\n",
       "      <td>2.835417e+06</td>\n",
       "      <td>3.284221e+06</td>\n",
       "      <td>3.013521e+06</td>\n",
       "      <td>3.085311e+06</td>\n",
       "      <td>3.070209e+06</td>\n",
       "    </tr>\n",
       "    <tr>\n",
       "      <th>std</th>\n",
       "      <td>2.161681e+06</td>\n",
       "      <td>2.047374e+06</td>\n",
       "      <td>1.693707e+06</td>\n",
       "      <td>2.100459e+06</td>\n",
       "      <td>2.068632e+06</td>\n",
       "      <td>1.986533e+06</td>\n",
       "      <td>1.938521e+06</td>\n",
       "    </tr>\n",
       "    <tr>\n",
       "      <th>min</th>\n",
       "      <td>1.140000e+03</td>\n",
       "      <td>4.500000e+02</td>\n",
       "      <td>7.305440e+05</td>\n",
       "      <td>5.600000e+01</td>\n",
       "      <td>3.700000e+02</td>\n",
       "      <td>6.000000e+01</td>\n",
       "      <td>1.755000e+03</td>\n",
       "    </tr>\n",
       "    <tr>\n",
       "      <th>25%</th>\n",
       "      <td>1.715316e+06</td>\n",
       "      <td>1.714936e+06</td>\n",
       "      <td>1.903806e+06</td>\n",
       "      <td>1.730025e+06</td>\n",
       "      <td>1.666843e+06</td>\n",
       "      <td>1.704032e+06</td>\n",
       "      <td>1.714931e+06</td>\n",
       "    </tr>\n",
       "    <tr>\n",
       "      <th>50%</th>\n",
       "      <td>2.629613e+06</td>\n",
       "      <td>2.550298e+06</td>\n",
       "      <td>2.432075e+06</td>\n",
       "      <td>2.727042e+06</td>\n",
       "      <td>2.197510e+06</td>\n",
       "      <td>2.479690e+06</td>\n",
       "      <td>2.479359e+06</td>\n",
       "    </tr>\n",
       "    <tr>\n",
       "      <th>75%</th>\n",
       "      <td>6.085786e+06</td>\n",
       "      <td>3.897250e+06</td>\n",
       "      <td>3.060640e+06</td>\n",
       "      <td>4.029754e+06</td>\n",
       "      <td>3.226476e+06</td>\n",
       "      <td>3.519268e+06</td>\n",
       "      <td>3.456339e+06</td>\n",
       "    </tr>\n",
       "    <tr>\n",
       "      <th>max</th>\n",
       "      <td>7.529232e+06</td>\n",
       "      <td>7.530340e+06</td>\n",
       "      <td>7.300021e+06</td>\n",
       "      <td>7.530274e+06</td>\n",
       "      <td>7.530342e+06</td>\n",
       "      <td>7.530351e+06</td>\n",
       "      <td>7.530002e+06</td>\n",
       "    </tr>\n",
       "  </tbody>\n",
       "</table>\n",
       "</div>"
      ],
      "text/plain": [
       "prediction             acetylation  dephosphorylation  deubiquitination  \\\n",
       "confidence     count  6.990000e+02       1.147700e+04      1.800000e+01   \n",
       "               mean   2.930808e-01       3.709867e-01      2.437239e-01   \n",
       "               std    5.672533e-02       9.810365e-02      2.282310e-02   \n",
       "               min    1.844778e-01       1.799101e-01      2.079704e-01   \n",
       "               25%    2.512852e-01       2.974839e-01      2.228585e-01   \n",
       "               50%    2.857745e-01       3.582928e-01      2.458449e-01   \n",
       "               75%    3.294316e-01       4.268874e-01      2.580149e-01   \n",
       "               max    4.974306e-01       8.947631e-01      2.916166e-01   \n",
       "confidence_std count  6.990000e+02       1.147700e+04      1.800000e+01   \n",
       "               mean   2.011719e-01       3.402142e-01      1.398978e-01   \n",
       "               std    3.342134e-02       5.072438e-02      3.173239e-02   \n",
       "               min    9.571324e-02       1.453529e-01      6.696381e-02   \n",
       "               25%    1.781769e-01       3.067458e-01      1.215737e-01   \n",
       "               50%    2.023614e-01       3.441899e-01      1.375995e-01   \n",
       "               75%    2.228953e-01       3.772184e-01      1.576167e-01   \n",
       "               max    3.345895e-01       4.889568e-01      1.936462e-01   \n",
       "pubmedId       count  6.990000e+02       1.147700e+04      1.800000e+01   \n",
       "               mean   3.327039e+06       3.181249e+06      2.835417e+06   \n",
       "               std    2.161681e+06       2.047374e+06      1.693707e+06   \n",
       "               min    1.140000e+03       4.500000e+02      7.305440e+05   \n",
       "               25%    1.715316e+06       1.714936e+06      1.903806e+06   \n",
       "               50%    2.629613e+06       2.550298e+06      2.432075e+06   \n",
       "               75%    6.085786e+06       3.897250e+06      3.060640e+06   \n",
       "               max    7.529232e+06       7.530340e+06      7.300021e+06   \n",
       "\n",
       "prediction             methylation         other  phosphorylation  \\\n",
       "confidence     count  7.185000e+03  2.838150e+05     1.268470e+05   \n",
       "               mean   3.858045e-01  8.635541e-01     5.571496e-01   \n",
       "               std    1.242425e-01  1.874035e-01     1.631432e-01   \n",
       "               min    1.796805e-01  1.800849e-01     1.770113e-01   \n",
       "               25%    2.883187e-01  7.863973e-01     4.327566e-01   \n",
       "               50%    3.545788e-01  9.646357e-01     5.450867e-01   \n",
       "               75%    4.601656e-01  9.958288e-01     6.754889e-01   \n",
       "               max    7.954645e-01  9.985271e-01     9.897428e-01   \n",
       "confidence_std count  7.185000e+03  2.838150e+05     1.268470e+05   \n",
       "               mean   2.899180e-01  1.471187e-01     3.700039e-01   \n",
       "               std    4.534439e-02  1.567221e-01     7.698923e-02   \n",
       "               min    1.198883e-01  7.238831e-04     6.695514e-03   \n",
       "               25%    2.596361e-01  4.461263e-03     3.340991e-01   \n",
       "               50%    2.916409e-01  7.578858e-02     3.890232e-01   \n",
       "               75%    3.213449e-01  2.947168e-01     4.247452e-01   \n",
       "               max    4.184169e-01  5.188307e-01     5.109221e-01   \n",
       "pubmedId       count  7.185000e+03  2.838150e+05     1.268470e+05   \n",
       "               mean   3.284221e+06  3.013521e+06     3.085311e+06   \n",
       "               std    2.100459e+06  2.068632e+06     1.986533e+06   \n",
       "               min    5.600000e+01  3.700000e+02     6.000000e+01   \n",
       "               25%    1.730025e+06  1.666843e+06     1.704032e+06   \n",
       "               50%    2.727042e+06  2.197510e+06     2.479690e+06   \n",
       "               75%    4.029754e+06  3.226476e+06     3.519268e+06   \n",
       "               max    7.530274e+06  7.530342e+06     7.530351e+06   \n",
       "\n",
       "prediction            ubiquitination  \n",
       "confidence     count    9.397000e+03  \n",
       "               mean     3.078330e-01  \n",
       "               std      5.558877e-02  \n",
       "               min      1.770117e-01  \n",
       "               25%      2.673734e-01  \n",
       "               50%      3.021228e-01  \n",
       "               75%      3.419753e-01  \n",
       "               max      5.720380e-01  \n",
       "confidence_std count    9.397000e+03  \n",
       "               mean     2.086809e-01  \n",
       "               std      3.891266e-02  \n",
       "               min      7.173686e-02  \n",
       "               25%      1.826638e-01  \n",
       "               50%      2.093719e-01  \n",
       "               75%      2.351275e-01  \n",
       "               max      3.374282e-01  \n",
       "pubmedId       count    9.397000e+03  \n",
       "               mean     3.070209e+06  \n",
       "               std      1.938521e+06  \n",
       "               min      1.755000e+03  \n",
       "               25%      1.714931e+06  \n",
       "               50%      2.479359e+06  \n",
       "               75%      3.456339e+06  \n",
       "               max      7.530002e+06  "
      ]
     },
     "execution_count": 22,
     "metadata": {},
     "output_type": "execute_result"
    }
   ],
   "source": [
    "df_summary.groupby(\"prediction\").describe().T"
   ]
  },
  {
   "cell_type": "code",
   "execution_count": 23,
   "metadata": {},
   "outputs": [
    {
     "name": "stdout",
     "output_type": "stream",
     "text": [
      "\\begin{tabular}{lrrrr}\n",
      "\\toprule\n",
      "{} &  all\\_count &  all\\_count\\_unique &  thresh\\_count &  thresh\\_count\\_unique \\\\\n",
      "prediction        &            &                   &               &                      \\\\\n",
      "\\midrule\n",
      "acetylation       &        699 &               582 &             0 &                    0 \\\\\n",
      "dephosphorylation &      11476 &              6827 &             3 &                    3 \\\\\n",
      "deubiquitination  &         18 &                18 &             0 &                    0 \\\\\n",
      "methylation       &       7185 &              4260 &             0 &                    0 \\\\\n",
      "other             &     283815 &             73756 &         36417 &                15921 \\\\\n",
      "phosphorylation   &     126845 &             38925 &           267 &                  242 \\\\\n",
      "ubiquitination    &       9397 &              5382 &             0 &                    0 \\\\\n",
      "Total             &     439435 &            129750 &         36687 &                16166 \\\\\n",
      "\\bottomrule\n",
      "\\end{tabular}\n",
      "\n",
      "CPU times: user 6.78 s, sys: 14 ms, total: 6.79 s\n",
      "Wall time: 6.79 s\n"
     ]
    },
    {
     "data": {
      "text/html": [
       "<div>\n",
       "<style scoped>\n",
       "    .dataframe tbody tr th:only-of-type {\n",
       "        vertical-align: middle;\n",
       "    }\n",
       "\n",
       "    .dataframe tbody tr th {\n",
       "        vertical-align: top;\n",
       "    }\n",
       "\n",
       "    .dataframe thead th {\n",
       "        text-align: right;\n",
       "    }\n",
       "</style>\n",
       "<table border=\"1\" class=\"dataframe\">\n",
       "  <thead>\n",
       "    <tr style=\"text-align: right;\">\n",
       "      <th></th>\n",
       "      <th>all_count</th>\n",
       "      <th>all_count_unique</th>\n",
       "      <th>thresh_count</th>\n",
       "      <th>thresh_count_unique</th>\n",
       "    </tr>\n",
       "    <tr>\n",
       "      <th>prediction</th>\n",
       "      <th></th>\n",
       "      <th></th>\n",
       "      <th></th>\n",
       "      <th></th>\n",
       "    </tr>\n",
       "  </thead>\n",
       "  <tbody>\n",
       "    <tr>\n",
       "      <th>acetylation</th>\n",
       "      <td>699</td>\n",
       "      <td>582</td>\n",
       "      <td>0</td>\n",
       "      <td>0</td>\n",
       "    </tr>\n",
       "    <tr>\n",
       "      <th>dephosphorylation</th>\n",
       "      <td>11476</td>\n",
       "      <td>6827</td>\n",
       "      <td>3</td>\n",
       "      <td>3</td>\n",
       "    </tr>\n",
       "    <tr>\n",
       "      <th>deubiquitination</th>\n",
       "      <td>18</td>\n",
       "      <td>18</td>\n",
       "      <td>0</td>\n",
       "      <td>0</td>\n",
       "    </tr>\n",
       "    <tr>\n",
       "      <th>methylation</th>\n",
       "      <td>7185</td>\n",
       "      <td>4260</td>\n",
       "      <td>0</td>\n",
       "      <td>0</td>\n",
       "    </tr>\n",
       "    <tr>\n",
       "      <th>other</th>\n",
       "      <td>283815</td>\n",
       "      <td>73756</td>\n",
       "      <td>36417</td>\n",
       "      <td>15921</td>\n",
       "    </tr>\n",
       "    <tr>\n",
       "      <th>phosphorylation</th>\n",
       "      <td>126845</td>\n",
       "      <td>38925</td>\n",
       "      <td>267</td>\n",
       "      <td>242</td>\n",
       "    </tr>\n",
       "    <tr>\n",
       "      <th>ubiquitination</th>\n",
       "      <td>9397</td>\n",
       "      <td>5382</td>\n",
       "      <td>0</td>\n",
       "      <td>0</td>\n",
       "    </tr>\n",
       "    <tr>\n",
       "      <th>Total</th>\n",
       "      <td>439435</td>\n",
       "      <td>129750</td>\n",
       "      <td>36687</td>\n",
       "      <td>16166</td>\n",
       "    </tr>\n",
       "  </tbody>\n",
       "</table>\n",
       "</div>"
      ],
      "text/plain": [
       "                   all_count  all_count_unique  thresh_count  \\\n",
       "prediction                                                     \n",
       "acetylation              699               582             0   \n",
       "dephosphorylation      11476              6827             3   \n",
       "deubiquitination          18                18             0   \n",
       "methylation             7185              4260             0   \n",
       "other                 283815             73756         36417   \n",
       "phosphorylation       126845             38925           267   \n",
       "ubiquitination          9397              5382             0   \n",
       "Total                 439435            129750         36687   \n",
       "\n",
       "                   thresh_count_unique  \n",
       "prediction                              \n",
       "acetylation                          0  \n",
       "dephosphorylation                    3  \n",
       "deubiquitination                     0  \n",
       "methylation                          0  \n",
       "other                            15921  \n",
       "phosphorylation                    242  \n",
       "ubiquitination                       0  \n",
       "Total                            16166  "
      ]
     },
     "execution_count": 23,
     "metadata": {},
     "output_type": "execute_result"
    }
   ],
   "source": [
    "%%time\n",
    "\n",
    "def prepare_predictions_summary(df_full, df_high_quality_threshold):\n",
    "    \n",
    "    participants_cols = [\"participant1Id\", \"participant2Id\"]\n",
    "    \n",
    "    df_full = df_full[~df_full.RecordInTrainingData].copy()\n",
    "    df_full[\"participants\"] = df_full[participants_cols].apply(frozenset, axis=1)\n",
    "    \n",
    "    df_high_quality_threshold = df_high_quality_threshold[~df_high_quality_threshold.RecordInTrainingData].copy()\n",
    "    df_high_quality_threshold[\"participants\"] = df_high_quality_threshold[participants_cols].apply(frozenset,\n",
    "                                                                                                   axis=1)\n",
    "\n",
    "        \n",
    "    \n",
    "    summary_df = pd.DataFrame(df_full\n",
    "                  .groupby([ \"prediction\"]).size()).rename(columns={0: \"all_count\"})\n",
    "\n",
    "    summary_unique_df = pd.DataFrame(df_full\\\n",
    "                          .groupby([ \"prediction\", \"participants\"])\\\n",
    "                          .size()\\\n",
    "                          .groupby(level=0).size())\\\n",
    "                          .rename(columns={0: \"all_count_unique\"})\n",
    "    \n",
    "\n",
    "    thresh_df = pd.DataFrame(df_high_quality_threshold\\\n",
    "              .groupby('prediction').size())\\\n",
    "              .rename(columns={0: \"thresh_count\"})\n",
    "    \n",
    "    thresh_unique_df = pd.DataFrame(df_high_quality_threshold\\\n",
    "              .groupby([ \"prediction\", \"participants\"])\\\n",
    "              .size()\\\n",
    "              .groupby(level=0).size())\\\n",
    "              .rename(columns={0: \"thresh_count_unique\"})\n",
    "            \n",
    "    \n",
    "   \n",
    "    \n",
    "    \n",
    "    dfs = [summary_df, summary_unique_df, thresh_df, thresh_unique_df]\n",
    "    result_df = pd.DataFrame()\n",
    "    \n",
    "    for df in dfs:\n",
    "        result_df = result_df.merge(df, left_index=True,  right_index=True, how=\"outer\")\n",
    "        \n",
    "        \n",
    "    for col in result_df.columns:\n",
    "        result_df.loc[\"Total\",col] = result_df[col].sum()\n",
    "        \n",
    "    result_df = result_df.fillna(0)\n",
    "        \n",
    "    result_df = result_df.astype(int)\n",
    "    return result_df\n",
    "\n",
    "\n",
    "latex_df_results = prepare_predictions_summary(df_summary, df_high_quality_threshold)\n",
    "\n",
    "print(latex_df_results.to_latex( index=True))\n",
    "\n",
    "latex_df_results"
   ]
  },
  {
   "cell_type": "code",
   "execution_count": 24,
   "metadata": {},
   "outputs": [
    {
     "data": {
      "text/plain": [
       "prediction\n",
       "dephosphorylation        3\n",
       "other                36417\n",
       "phosphorylation        269\n",
       "dtype: int64"
      ]
     },
     "execution_count": 24,
     "metadata": {},
     "output_type": "execute_result"
    }
   ],
   "source": [
    "df_high_quality_threshold.groupby([\"prediction\"]).size()"
   ]
  },
  {
   "cell_type": "code",
   "execution_count": 25,
   "metadata": {},
   "outputs": [],
   "source": [
    "\n",
    "pd.set_option('display.max_columns', None)\n",
    "pd.set_option('display.max_rows', 100)\n",
    "\n",
    "plt.rcParams.update({'font.size': 12})"
   ]
  },
  {
   "cell_type": "code",
   "execution_count": 26,
   "metadata": {},
   "outputs": [],
   "source": [
    "df_all = load_df_from_files(local_temp_pred_dir)"
   ]
  },
  {
   "cell_type": "code",
   "execution_count": 27,
   "metadata": {},
   "outputs": [],
   "source": [
    "from utils.static_markers_ppi_multiclass import StaticMarkerPpiMulticlass\n",
    "\n",
    "local_file_high_q_sample = os.path.join(local_temp, \"highquality_sample.json\")\n",
    "local_file_low_q_sample = os.path.join(local_temp, \"lowquality_sample.json\")\n",
    "\n",
    "\n",
    "\n",
    "StaticMarkerPpiMulticlass().create(df_high_quality_threshold, local_file_high_q_sample,  additional_cols= \",\".join( list(df_high_quality_threshold.columns)))\n",
    "StaticMarkerPpiMulticlass().create(df_low_quality_threshold, local_file_low_q_sample,  additional_cols= \",\".join( list(df_low_quality_threshold.columns)))\n",
    "\n",
    "\n"
   ]
  },
  {
   "cell_type": "code",
   "execution_count": 37,
   "metadata": {},
   "outputs": [],
   "source": [
    "upload_file( local_file_high_q_sample, \"{}/\".format( s3_output_prefix.rstrip(\"/\")))\n",
    "upload_file( local_file_low_q_sample, \"{}/\".format( s3_output_prefix.rstrip(\"/\")))\n",
    "\n"
   ]
  },
  {
   "cell_type": "code",
   "execution_count": null,
   "metadata": {},
   "outputs": [],
   "source": []
  },
  {
   "cell_type": "code",
   "execution_count": 38,
   "metadata": {},
   "outputs": [
    {
     "data": {
      "text/plain": [
       "prediction\n",
       "acetylation             699\n",
       "dephosphorylation     11477\n",
       "deubiquitination         18\n",
       "methylation            7185\n",
       "other                283815\n",
       "phosphorylation      126847\n",
       "ubiquitination         9397\n",
       "dtype: int64"
      ]
     },
     "execution_count": 38,
     "metadata": {},
     "output_type": "execute_result"
    }
   ],
   "source": [
    "df_all.groupby([\"prediction\"]).size()"
   ]
  },
  {
   "cell_type": "code",
   "execution_count": 39,
   "metadata": {},
   "outputs": [
    {
     "data": {
      "text/plain": [
       "(439438, 21)"
      ]
     },
     "execution_count": 39,
     "metadata": {},
     "output_type": "execute_result"
    }
   ],
   "source": [
    "df_all.shape"
   ]
  },
  {
   "cell_type": "code",
   "execution_count": 40,
   "metadata": {},
   "outputs": [
    {
     "data": {
      "text/plain": [
       "Index(['pubmedId', 'participant1Id', 'participant1Name', 'participant2Id',\n",
       "       'participant2Name', 'abstract', 'normalised_abstract', 'annotations',\n",
       "       'gene_to_uniprot_map', 'normalised_abstract_annotations', 'other',\n",
       "       'phosphorylation', 'dephosphorylation', 'methylation', 'ubiquitination',\n",
       "       'acetylation', 'deubiquitination', 'prediction', 'confidence',\n",
       "       'confidence_std', 'raw_confidence'],\n",
       "      dtype='object')"
      ]
     },
     "execution_count": 40,
     "metadata": {},
     "output_type": "execute_result"
    }
   ],
   "source": [
    "df_all.columns"
   ]
  },
  {
   "cell_type": "code",
   "execution_count": 41,
   "metadata": {},
   "outputs": [],
   "source": [
    "from utils.ppi_multiclass_comparer import PpiMulticlassComparer\n",
    "from utils.similarity_comparer import SimilarityComparer\n",
    "from utils.static_markers_ppi_multiclass import StaticMarkerPpiMulticlass\n",
    "import pandas as pd\n",
    "import tempfile\n",
    "\n",
    "def get_sim_scores(ref_file_or_df, target_file_or_df, n_gram, additional_target_cols):\n",
    "    marker_ref_file = tempfile.mkstemp()[1]\n",
    "    marker_target_file = tempfile.mkstemp()[1]\n",
    "\n",
    "\n",
    "    StaticMarkerPpiMulticlass().create(ref_file_or_df, marker_ref_file)\n",
    "    StaticMarkerPpiMulticlass().create(target_file_or_df, marker_target_file,  additional_cols= \",\".join( additional_target_cols))\n",
    "    \n",
    "    \n",
    "    df_ref_marker = pd.read_json(marker_ref_file)\n",
    "    df_target_marker = pd.read_json(marker_target_file)\n",
    "    \n",
    "    comparer =  SimilarityComparer(n_gram=n_gram, max_features=1050)\n",
    "    comparison_result = comparer(df_ref_marker[\"x\"].tolist(), df_target_marker[\"x\"].tolist())\n",
    "    \n",
    "    sim_score = comparison_result[0]\n",
    "    \n",
    "    df_target_marker[\"sim_score\"]  = comparison_result[0]\n",
    "    return df_target_marker\n",
    "    \n",
    "def plot_sim_scores(df, ax, interaction, title_prefix ):\n",
    "    \n",
    "    for i, interaction_type in enumerate(interaction): \n",
    "        df_interaction = df.query(f\"interaction_type == '{interaction_type}'\")\n",
    "        \n",
    "        if len(df_interaction) ==0: continue\n",
    "            \n",
    "        ax[i].set_ylim(0,1)\n",
    "        \n",
    "        ax[i].set_title(f\"{title_prefix} {interaction_type}\")\n",
    "\n",
    "        ax[i].tick_params(\n",
    "            axis='x',          # changes apply to the x-axis\n",
    "            which='both',      # both major and minor ticks are affected\n",
    "            bottom=False,      # ticks along the bottom edge are off\n",
    "            top=False,         # ticks along the top edge are off\n",
    "            labelbottom=False)\n",
    "\n",
    "        ax[i].spines['bottom'].set_color('grey')\n",
    "        ax[i].spines['top'].set_color('grey') \n",
    "        ax[i].spines['right'].set_color('grey')\n",
    "        ax[i].spines['left'].set_color('grey')\n",
    "        \n",
    "        \n",
    "\n",
    "        ax[i].violinplot(df_interaction[\"best_score\"],  showmeans=True )"
   ]
  },
  {
   "cell_type": "code",
   "execution_count": 42,
   "metadata": {},
   "outputs": [],
   "source": [
    "download_file(s3_train, local_temp_wk_dir)\n",
    "train_data_file =  os.path.join(local_temp_wk_dir, s3_train.split(\"/\")[-1])\n",
    "training_df = pd.read_json(train_data_file)"
   ]
  },
  {
   "cell_type": "code",
   "execution_count": 43,
   "metadata": {},
   "outputs": [],
   "source": [
    "t =  df_all.query(\"prediction == 'phosphorylation'\").sample(n=10000)\n",
    "df_sim_score = get_sim_scores(training_df, t, n_gram=1, additional_target_cols=list(df_all.columns))\n"
   ]
  },
  {
   "cell_type": "code",
   "execution_count": 44,
   "metadata": {},
   "outputs": [
    {
     "data": {
      "text/plain": [
       "<AxesSubplot:>"
      ]
     },
     "execution_count": 44,
     "metadata": {},
     "output_type": "execute_result"
    },
    {
     "data": {
      "image/png": "[encoded data removed]",
      "text/plain": [
       "<Figure size 432x288 with 1 Axes>"
      ]
     },
     "metadata": {
      "needs_background": "light"
     },
     "output_type": "display_data"
    }
   ],
   "source": [
    "df_sim_score[\"confidence_std\"].plot.box()"
   ]
  },
  {
   "cell_type": "code",
   "execution_count": 45,
   "metadata": {},
   "outputs": [
    {
     "data": {
      "text/plain": [
       "(0.0, 1.0)"
      ]
     },
     "execution_count": 45,
     "metadata": {},
     "output_type": "execute_result"
    },
    {
     "data": {
      "image/png": "[encoded data removed]",
      "text/plain": [
       "<Figure size 432x288 with 1 Axes>"
      ]
     },
     "metadata": {
      "needs_background": "light"
     },
     "output_type": "display_data"
    }
   ],
   "source": [
    "df_sim_score.plot.scatter(y=\"sim_score\", x=\"confidence_std\")\n",
    "plt.ylim((0, 1.0)) \n",
    "plt.xlim((0, 1.0)) "
   ]
  },
  {
   "cell_type": "code",
   "execution_count": 46,
   "metadata": {},
   "outputs": [
    {
     "data": {
      "text/plain": [
       "(106, 25)"
      ]
     },
     "execution_count": 46,
     "metadata": {},
     "output_type": "execute_result"
    }
   ],
   "source": [
    "df_sim_score.query(\"confidence >= 0.93\").shape"
   ]
  },
  {
   "cell_type": "code",
   "execution_count": 47,
   "metadata": {},
   "outputs": [],
   "source": [
    "t =  df_all.query(\"confidence >= 0.93   and confidence_std < .03 and prediction == 'phosphorylation'\")\n",
    "df_sim_score_high = get_sim_scores(training_df, t, n_gram=1, additional_target_cols=list(df_all.columns))\n",
    "\n"
   ]
  },
  {
   "cell_type": "code",
   "execution_count": 48,
   "metadata": {},
   "outputs": [
    {
     "name": "stderr",
     "output_type": "stream",
     "text": [
      "/Users/aparnaelangovan/PycharmProjects/venv/large-scale-ptm-ppi/lib/python3.7/site-packages/pandas/plotting/_matplotlib/tools.py:331: MatplotlibDeprecationWarning: \n",
      "The is_first_col function was deprecated in Matplotlib 3.4 and will be removed two minor releases later. Use ax.get_subplotspec().is_first_col() instead.\n",
      "  if ax.is_first_col():\n",
      "/Users/aparnaelangovan/PycharmProjects/venv/large-scale-ptm-ppi/lib/python3.7/site-packages/pandas/plotting/_matplotlib/tools.py:331: MatplotlibDeprecationWarning: \n",
      "The is_first_col function was deprecated in Matplotlib 3.4 and will be removed two minor releases later. Use ax.get_subplotspec().is_first_col() instead.\n",
      "  if ax.is_first_col():\n",
      "/Users/aparnaelangovan/PycharmProjects/venv/large-scale-ptm-ppi/lib/python3.7/site-packages/pandas/plotting/_matplotlib/tools.py:331: MatplotlibDeprecationWarning: \n",
      "The is_first_col function was deprecated in Matplotlib 3.4 and will be removed two minor releases later. Use ax.get_subplotspec().is_first_col() instead.\n",
      "  if ax.is_first_col():\n",
      "/Users/aparnaelangovan/PycharmProjects/venv/large-scale-ptm-ppi/lib/python3.7/site-packages/pandas/plotting/_matplotlib/tools.py:331: MatplotlibDeprecationWarning: \n",
      "The is_first_col function was deprecated in Matplotlib 3.4 and will be removed two minor releases later. Use ax.get_subplotspec().is_first_col() instead.\n",
      "  if ax.is_first_col():\n"
     ]
    },
    {
     "data": {
      "text/plain": [
       "<AxesSubplot:>"
      ]
     },
     "execution_count": 48,
     "metadata": {},
     "output_type": "execute_result"
    },
    {
     "data": {
      "image/png": "[encoded data removed]",
      "text/plain": [
       "<Figure size 432x288 with 4 Axes>"
      ]
     },
     "metadata": {
      "needs_background": "light"
     },
     "output_type": "display_data"
    }
   ],
   "source": [
    "_,ax = plt.subplots(1,4)\n",
    "ax[0].set_ylim((0, 1.0)) \n",
    "ax[1].set_ylim((0, 1.0)) \n",
    "\n",
    "\n",
    "#ax[0].set_xticks([1, 1])\n",
    "df_sim_score.query(\"confidence < 0.93 and confidence_std > 0.03\")[\"sim_score\"].plot.box(ax=ax[0])\n",
    "df_sim_score_high.query(\"confidence >= 0.93   and confidence_std < .03 \")[\"sim_score\"].plot.box(ax=ax[1])\n",
    "df_sim_score.query(\"confidence < 0.93 \")[\"sim_score\"].plot.box(ax=ax[2])\n",
    "df_sim_score.query(\"confidence >= 0.93   \")[\"sim_score\"].plot.box(ax=ax[3])\n",
    "\n"
   ]
  },
  {
   "cell_type": "code",
   "execution_count": 49,
   "metadata": {},
   "outputs": [
    {
     "data": {
      "text/plain": [
       "count    10000.000000\n",
       "mean         0.440934\n",
       "std          0.135829\n",
       "min          0.091687\n",
       "25%          0.336291\n",
       "50%          0.443145\n",
       "75%          0.544528\n",
       "max          0.831915\n",
       "Name: sim_score, dtype: float64"
      ]
     },
     "execution_count": 49,
     "metadata": {},
     "output_type": "execute_result"
    }
   ],
   "source": [
    "df_sim_score[\"sim_score\"].describe()\n"
   ]
  },
  {
   "cell_type": "code",
   "execution_count": 50,
   "metadata": {},
   "outputs": [
    {
     "data": {
      "text/plain": [
       "(0.0, 1.0)"
      ]
     },
     "execution_count": 50,
     "metadata": {},
     "output_type": "execute_result"
    },
    {
     "data": {
      "image/png": "[encoded data removed]",
      "text/plain": [
       "<Figure size 432x288 with 1 Axes>"
      ]
     },
     "metadata": {
      "needs_background": "light"
     },
     "output_type": "display_data"
    }
   ],
   "source": [
    "#ax[0].set_xticks([1, 1])\n",
    "df_sim_score.query(\"sim_score < 0.33\")[\"confidence\"].plot.box()\n",
    "\n",
    "\n",
    "plt.ylim((0, 1.0)) \n"
   ]
  },
  {
   "cell_type": "code",
   "execution_count": 51,
   "metadata": {},
   "outputs": [
    {
     "data": {
      "text/plain": [
       "(0.0, 1.0)"
      ]
     },
     "execution_count": 51,
     "metadata": {},
     "output_type": "execute_result"
    },
    {
     "data": {
      "image/png": "[encoded data removed]",
      "text/plain": [
       "<Figure size 432x288 with 1 Axes>"
      ]
     },
     "metadata": {
      "needs_background": "light"
     },
     "output_type": "display_data"
    }
   ],
   "source": [
    "df_sim_score.query(\"sim_score >= 0.33\")[\"confidence\"].plot.box()\n",
    "plt.ylim((0, 1.0)) \n"
   ]
  },
  {
   "cell_type": "code",
   "execution_count": 52,
   "metadata": {},
   "outputs": [
    {
     "data": {
      "text/plain": [
       "<AxesSubplot:>"
      ]
     },
     "execution_count": 52,
     "metadata": {},
     "output_type": "execute_result"
    },
    {
     "data": {
      "image/png": "[encoded data removed]",
      "text/plain": [
       "<Figure size 432x288 with 1 Axes>"
      ]
     },
     "metadata": {
      "needs_background": "light"
     },
     "output_type": "display_data"
    }
   ],
   "source": [
    "df_all.query(\"prediction == 'phosphorylation'\")[\"confidence\"].plot.box()"
   ]
  },
  {
   "cell_type": "code",
   "execution_count": 53,
   "metadata": {},
   "outputs": [
    {
     "data": {
      "text/plain": [
       "<AxesSubplot:>"
      ]
     },
     "execution_count": 53,
     "metadata": {},
     "output_type": "execute_result"
    },
    {
     "data": {
      "image/png": "[encoded data removed]",
      "text/plain": [
       "<Figure size 432x288 with 1 Axes>"
      ]
     },
     "metadata": {
      "needs_background": "light"
     },
     "output_type": "display_data"
    }
   ],
   "source": [
    "df_all.query(\"prediction == 'acetylation'\")[\"confidence\"].plot.box()"
   ]
  },
  {
   "cell_type": "code",
   "execution_count": 54,
   "metadata": {},
   "outputs": [
    {
     "data": {
      "text/plain": [
       "<AxesSubplot:>"
      ]
     },
     "execution_count": 54,
     "metadata": {},
     "output_type": "execute_result"
    },
    {
     "data": {
      "image/png": "[encoded data removed]",
      "text/plain": [
       "<Figure size 432x288 with 1 Axes>"
      ]
     },
     "metadata": {
      "needs_background": "light"
     },
     "output_type": "display_data"
    }
   ],
   "source": [
    "df_all.query(\"prediction == 'other'\")[\"confidence\"].plot.box()"
   ]
  },
  {
   "cell_type": "code",
   "execution_count": 55,
   "metadata": {},
   "outputs": [
    {
     "data": {
      "text/plain": [
       "(106, 25)"
      ]
     },
     "execution_count": 55,
     "metadata": {},
     "output_type": "execute_result"
    }
   ],
   "source": [
    "df_sim_score.query(\"confidence >= 0.93\").shape"
   ]
  },
  {
   "cell_type": "code",
   "execution_count": 56,
   "metadata": {},
   "outputs": [
    {
     "data": {
      "text/plain": [
       "(9894, 25)"
      ]
     },
     "execution_count": 56,
     "metadata": {},
     "output_type": "execute_result"
    }
   ],
   "source": [
    "df_sim_score.query(\"confidence < 0.93\").shape"
   ]
  },
  {
   "cell_type": "code",
   "execution_count": 57,
   "metadata": {},
   "outputs": [
    {
     "data": {
      "text/html": [
       "<div>\n",
       "<style scoped>\n",
       "    .dataframe tbody tr th:only-of-type {\n",
       "        vertical-align: middle;\n",
       "    }\n",
       "\n",
       "    .dataframe tbody tr th {\n",
       "        vertical-align: top;\n",
       "    }\n",
       "\n",
       "    .dataframe thead th {\n",
       "        text-align: right;\n",
       "    }\n",
       "</style>\n",
       "<table border=\"1\" class=\"dataframe\">\n",
       "  <thead>\n",
       "    <tr style=\"text-align: right;\">\n",
       "      <th></th>\n",
       "      <th>x</th>\n",
       "      <th>y</th>\n",
       "      <th>y_raw</th>\n",
       "      <th>pubmedId</th>\n",
       "      <th>participant1Id</th>\n",
       "      <th>participant1Name</th>\n",
       "      <th>participant2Id</th>\n",
       "      <th>participant2Name</th>\n",
       "      <th>abstract</th>\n",
       "      <th>normalised_abstract</th>\n",
       "      <th>annotations</th>\n",
       "      <th>gene_to_uniprot_map</th>\n",
       "      <th>normalised_abstract_annotations</th>\n",
       "      <th>other</th>\n",
       "      <th>phosphorylation</th>\n",
       "      <th>dephosphorylation</th>\n",
       "      <th>methylation</th>\n",
       "      <th>ubiquitination</th>\n",
       "      <th>acetylation</th>\n",
       "      <th>deubiquitination</th>\n",
       "      <th>prediction</th>\n",
       "      <th>confidence</th>\n",
       "      <th>confidence_std</th>\n",
       "      <th>raw_confidence</th>\n",
       "      <th>sim_score</th>\n",
       "    </tr>\n",
       "  </thead>\n",
       "  <tbody>\n",
       "    <tr>\n",
       "      <th>7836</th>\n",
       "      <td>Using a characterized human PROTPART0 (PROTPAR...</td>\n",
       "      <td>0</td>\n",
       "      <td>other</td>\n",
       "      <td>3015768</td>\n",
       "      <td>P02774</td>\n",
       "      <td>vitamin D binding protein</td>\n",
       "      <td>Q10586</td>\n",
       "      <td>DBP</td>\n",
       "      <td>Using a characterized human vitamin D binding ...</td>\n",
       "      <td>Using a characterized human P02774 (Q10586) cD...</td>\n",
       "      <td>[{'start': '22', 'end': '27', 'name': 'human',...</td>\n",
       "      <td>{'2638': 'P02774', '1628': 'Q10586'}</td>\n",
       "      <td>[{'charOffset': 28, 'len': 6, 'text': 'P02774'...</td>\n",
       "      <td>0.004089</td>\n",
       "      <td>0.930495</td>\n",
       "      <td>0.003359</td>\n",
       "      <td>0.037227</td>\n",
       "      <td>0.007448</td>\n",
       "      <td>0.006015</td>\n",
       "      <td>0.011367</td>\n",
       "      <td>phosphorylation</td>\n",
       "      <td>0.930495</td>\n",
       "      <td>0.118635</td>\n",
       "      <td>[0.9944369793000001, 0.6849968433, 0.991866886...</td>\n",
       "      <td>0.523121</td>\n",
       "    </tr>\n",
       "    <tr>\n",
       "      <th>7328</th>\n",
       "      <td>PROTPART0 (PROTPART0) is known to inhibit hepa...</td>\n",
       "      <td>0</td>\n",
       "      <td>other</td>\n",
       "      <td>1705121</td>\n",
       "      <td>P01137</td>\n",
       "      <td>Transforming growth factor beta 1</td>\n",
       "      <td>P02771</td>\n",
       "      <td>alpha-fetoprotein</td>\n",
       "      <td>Transforming growth factor beta 1 (TGF-beta 1)...</td>\n",
       "      <td>P01137 (P01137) is known to inhibit hepatocyte...</td>\n",
       "      <td>[{'start': '0', 'end': '33', 'name': 'Transfor...</td>\n",
       "      <td>{'7040': 'P01137', '174': 'P02771', '213': 'P0...</td>\n",
       "      <td>[{'charOffset': 0, 'len': 6, 'text': 'P01137'}...</td>\n",
       "      <td>0.020447</td>\n",
       "      <td>0.931035</td>\n",
       "      <td>0.002879</td>\n",
       "      <td>0.003526</td>\n",
       "      <td>0.023182</td>\n",
       "      <td>0.004506</td>\n",
       "      <td>0.014424</td>\n",
       "      <td>phosphorylation</td>\n",
       "      <td>0.931035</td>\n",
       "      <td>0.154727</td>\n",
       "      <td>[0.9948065877000001, 0.9929466844, 0.982894361...</td>\n",
       "      <td>0.777280</td>\n",
       "    </tr>\n",
       "    <tr>\n",
       "      <th>4283</th>\n",
       "      <td>The specific DNA-binding PROTPART0 amino-termi...</td>\n",
       "      <td>0</td>\n",
       "      <td>other</td>\n",
       "      <td>1846955</td>\n",
       "      <td>P56470</td>\n",
       "      <td>Gal4</td>\n",
       "      <td>Q13889</td>\n",
       "      <td>p34</td>\n",
       "      <td>The specific DNA-binding Gal4 amino-terminal p...</td>\n",
       "      <td>The specific DNA-binding P56470 amino-terminal...</td>\n",
       "      <td>[{'start': '25', 'end': '29', 'name': 'Gal4', ...</td>\n",
       "      <td>{'3960': 'P56470', '2967': 'Q13889'}</td>\n",
       "      <td>[{'charOffset': 25, 'len': 6, 'text': 'P56470'...</td>\n",
       "      <td>0.003340</td>\n",
       "      <td>0.931509</td>\n",
       "      <td>0.004349</td>\n",
       "      <td>0.035903</td>\n",
       "      <td>0.008885</td>\n",
       "      <td>0.008372</td>\n",
       "      <td>0.007640</td>\n",
       "      <td>phosphorylation</td>\n",
       "      <td>0.931509</td>\n",
       "      <td>0.090067</td>\n",
       "      <td>[0.9928941131000001, 0.9333222508000001, 0.987...</td>\n",
       "      <td>0.326357</td>\n",
       "    </tr>\n",
       "    <tr>\n",
       "      <th>2607</th>\n",
       "      <td>We studied trophic effects of cholecystokinin ...</td>\n",
       "      <td>0</td>\n",
       "      <td>other</td>\n",
       "      <td>2583943</td>\n",
       "      <td>P06307</td>\n",
       "      <td>CCK</td>\n",
       "      <td>P06881</td>\n",
       "      <td>calcitonin gene-related peptide</td>\n",
       "      <td>We studied trophic effects of cholecystokinin ...</td>\n",
       "      <td>We studied trophic effects of cholecystokinin ...</td>\n",
       "      <td>[{'start': '47', 'end': '50', 'name': 'CCK', '...</td>\n",
       "      <td>{'885': 'P06307', '796': 'P06881'}</td>\n",
       "      <td>[{'charOffset': 47, 'len': 6, 'text': 'P06307'...</td>\n",
       "      <td>0.005973</td>\n",
       "      <td>0.932158</td>\n",
       "      <td>0.004102</td>\n",
       "      <td>0.034906</td>\n",
       "      <td>0.011161</td>\n",
       "      <td>0.003605</td>\n",
       "      <td>0.008096</td>\n",
       "      <td>phosphorylation</td>\n",
       "      <td>0.932158</td>\n",
       "      <td>0.144891</td>\n",
       "      <td>[0.9917069674000001, 0.5256627798, 0.986196935...</td>\n",
       "      <td>0.534582</td>\n",
       "    </tr>\n",
       "    <tr>\n",
       "      <th>3525</th>\n",
       "      <td>The neuropeptides PROTPART0 and vasoactive int...</td>\n",
       "      <td>0</td>\n",
       "      <td>other</td>\n",
       "      <td>2433561</td>\n",
       "      <td>P01282</td>\n",
       "      <td>VIP</td>\n",
       "      <td>P20366</td>\n",
       "      <td>substance P</td>\n",
       "      <td>The neuropeptides substance P and vasoactive i...</td>\n",
       "      <td>The neuropeptides P20366 and vasoactive intest...</td>\n",
       "      <td>[{'start': '18', 'end': '29', 'name': 'substan...</td>\n",
       "      <td>{'6863': 'P20366', '7432': 'P01282'}</td>\n",
       "      <td>[{'charOffset': 18, 'len': 6, 'text': 'P20366'...</td>\n",
       "      <td>0.003621</td>\n",
       "      <td>0.932853</td>\n",
       "      <td>0.003720</td>\n",
       "      <td>0.016099</td>\n",
       "      <td>0.013485</td>\n",
       "      <td>0.005316</td>\n",
       "      <td>0.024907</td>\n",
       "      <td>phosphorylation</td>\n",
       "      <td>0.932853</td>\n",
       "      <td>0.153057</td>\n",
       "      <td>[0.9939025640000001, 0.9702664018, 0.990264892...</td>\n",
       "      <td>0.572028</td>\n",
       "    </tr>\n",
       "  </tbody>\n",
       "</table>\n",
       "</div>"
      ],
      "text/plain": [
       "                                                      x  y  y_raw  pubmedId  \\\n",
       "7836  Using a characterized human PROTPART0 (PROTPAR...  0  other   3015768   \n",
       "7328  PROTPART0 (PROTPART0) is known to inhibit hepa...  0  other   1705121   \n",
       "4283  The specific DNA-binding PROTPART0 amino-termi...  0  other   1846955   \n",
       "2607  We studied trophic effects of cholecystokinin ...  0  other   2583943   \n",
       "3525  The neuropeptides PROTPART0 and vasoactive int...  0  other   2433561   \n",
       "\n",
       "     participant1Id                   participant1Name participant2Id  \\\n",
       "7836         P02774          vitamin D binding protein         Q10586   \n",
       "7328         P01137  Transforming growth factor beta 1         P02771   \n",
       "4283         P56470                               Gal4         Q13889   \n",
       "2607         P06307                                CCK         P06881   \n",
       "3525         P01282                                VIP         P20366   \n",
       "\n",
       "                     participant2Name  \\\n",
       "7836                              DBP   \n",
       "7328                alpha-fetoprotein   \n",
       "4283                              p34   \n",
       "2607  calcitonin gene-related peptide   \n",
       "3525                      substance P   \n",
       "\n",
       "                                               abstract  \\\n",
       "7836  Using a characterized human vitamin D binding ...   \n",
       "7328  Transforming growth factor beta 1 (TGF-beta 1)...   \n",
       "4283  The specific DNA-binding Gal4 amino-terminal p...   \n",
       "2607  We studied trophic effects of cholecystokinin ...   \n",
       "3525  The neuropeptides substance P and vasoactive i...   \n",
       "\n",
       "                                    normalised_abstract  \\\n",
       "7836  Using a characterized human P02774 (Q10586) cD...   \n",
       "7328  P01137 (P01137) is known to inhibit hepatocyte...   \n",
       "4283  The specific DNA-binding P56470 amino-terminal...   \n",
       "2607  We studied trophic effects of cholecystokinin ...   \n",
       "3525  The neuropeptides P20366 and vasoactive intest...   \n",
       "\n",
       "                                            annotations  \\\n",
       "7836  [{'start': '22', 'end': '27', 'name': 'human',...   \n",
       "7328  [{'start': '0', 'end': '33', 'name': 'Transfor...   \n",
       "4283  [{'start': '25', 'end': '29', 'name': 'Gal4', ...   \n",
       "2607  [{'start': '47', 'end': '50', 'name': 'CCK', '...   \n",
       "3525  [{'start': '18', 'end': '29', 'name': 'substan...   \n",
       "\n",
       "                                    gene_to_uniprot_map  \\\n",
       "7836               {'2638': 'P02774', '1628': 'Q10586'}   \n",
       "7328  {'7040': 'P01137', '174': 'P02771', '213': 'P0...   \n",
       "4283               {'3960': 'P56470', '2967': 'Q13889'}   \n",
       "2607                 {'885': 'P06307', '796': 'P06881'}   \n",
       "3525               {'6863': 'P20366', '7432': 'P01282'}   \n",
       "\n",
       "                        normalised_abstract_annotations     other  \\\n",
       "7836  [{'charOffset': 28, 'len': 6, 'text': 'P02774'...  0.004089   \n",
       "7328  [{'charOffset': 0, 'len': 6, 'text': 'P01137'}...  0.020447   \n",
       "4283  [{'charOffset': 25, 'len': 6, 'text': 'P56470'...  0.003340   \n",
       "2607  [{'charOffset': 47, 'len': 6, 'text': 'P06307'...  0.005973   \n",
       "3525  [{'charOffset': 18, 'len': 6, 'text': 'P20366'...  0.003621   \n",
       "\n",
       "      phosphorylation  dephosphorylation  methylation  ubiquitination  \\\n",
       "7836         0.930495           0.003359     0.037227        0.007448   \n",
       "7328         0.931035           0.002879     0.003526        0.023182   \n",
       "4283         0.931509           0.004349     0.035903        0.008885   \n",
       "2607         0.932158           0.004102     0.034906        0.011161   \n",
       "3525         0.932853           0.003720     0.016099        0.013485   \n",
       "\n",
       "      acetylation  deubiquitination       prediction  confidence  \\\n",
       "7836     0.006015          0.011367  phosphorylation    0.930495   \n",
       "7328     0.004506          0.014424  phosphorylation    0.931035   \n",
       "4283     0.008372          0.007640  phosphorylation    0.931509   \n",
       "2607     0.003605          0.008096  phosphorylation    0.932158   \n",
       "3525     0.005316          0.024907  phosphorylation    0.932853   \n",
       "\n",
       "      confidence_std                                     raw_confidence  \\\n",
       "7836        0.118635  [0.9944369793000001, 0.6849968433, 0.991866886...   \n",
       "7328        0.154727  [0.9948065877000001, 0.9929466844, 0.982894361...   \n",
       "4283        0.090067  [0.9928941131000001, 0.9333222508000001, 0.987...   \n",
       "2607        0.144891  [0.9917069674000001, 0.5256627798, 0.986196935...   \n",
       "3525        0.153057  [0.9939025640000001, 0.9702664018, 0.990264892...   \n",
       "\n",
       "      sim_score  \n",
       "7836   0.523121  \n",
       "7328   0.777280  \n",
       "4283   0.326357  \n",
       "2607   0.534582  \n",
       "3525   0.572028  "
      ]
     },
     "execution_count": 57,
     "metadata": {},
     "output_type": "execute_result"
    }
   ],
   "source": [
    "df_sim_score.query(\"confidence > 0.93\").sort_values(by=[\"confidence\"]).head()"
   ]
  },
  {
   "cell_type": "code",
   "execution_count": 58,
   "metadata": {},
   "outputs": [
    {
     "data": {
      "text/plain": [
       "(0,)"
      ]
     },
     "execution_count": 58,
     "metadata": {},
     "output_type": "execute_result"
    }
   ],
   "source": [
    "df_sim_score.query(\"confidence >= 0.99 \")[\"x\"].shape"
   ]
  },
  {
   "cell_type": "code",
   "execution_count": 59,
   "metadata": {},
   "outputs": [
    {
     "data": {
      "text/plain": [
       "(10000,)"
      ]
     },
     "execution_count": 59,
     "metadata": {},
     "output_type": "execute_result"
    }
   ],
   "source": [
    "df_sim_score.query(\"confidence < 0.99\")[\"x\"].shape"
   ]
  }
 ],
 "metadata": {
  "kernelspec": {
   "display_name": "Python 3 (ipykernel)",
   "language": "python",
   "name": "python3"
  },
  "language_info": {
   "codemirror_mode": {
    "name": "ipython",
    "version": 3
   },
   "file_extension": ".py",
   "mimetype": "text/x-python",
   "name": "python",
   "nbconvert_exporter": "python",
   "pygments_lexer": "ipython3",
   "version": "3.7.9"
  }
 },
 "nbformat": 4,
 "nbformat_minor": 1
}