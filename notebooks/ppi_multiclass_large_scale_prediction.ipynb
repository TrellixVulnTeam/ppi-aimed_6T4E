{
 "cells": [
  {
   "cell_type": "markdown",
   "metadata": {},
   "source": [
    "### SageMaker Large Scale prediction"
   ]
  },
  {
   "cell_type": "code",
   "execution_count": 1,
   "metadata": {},
   "outputs": [],
   "source": [
    "import sagemaker\n",
    "import boto3\n",
    "\n",
    "sagemaker_session = sagemaker.Session()\n",
    "account_id =  boto3.client('sts').get_caller_identity().get('Account')\n",
    "region = boto3.session.Session().region_name\n",
    "\n",
    "\n",
    "#role = sagemaker.get_execution_role()\n",
    "role=\"arn:aws:iam::{}:role/service-role/AmazonSageMaker-ExecutionRole-20190118T115449\".format(account_id)\n"
   ]
  },
  {
   "cell_type": "code",
   "execution_count": 2,
   "metadata": {},
   "outputs": [],
   "source": [
    "version_tag=\"202106010047\"\n",
    "pytorch_custom_image_name=f\"ppi:cpu-{version_tag}\"\n",
    "instance_type = \"ml.m5.large\" "
   ]
  },
  {
   "cell_type": "code",
   "execution_count": 3,
   "metadata": {},
   "outputs": [],
   "source": [
    "docker_repo = \"{}.dkr.ecr.{}.amazonaws.com/{}\".format(account_id, region, pytorch_custom_image_name)"
   ]
  },
  {
   "cell_type": "code",
   "execution_count": 4,
   "metadata": {},
   "outputs": [],
   "source": [
    "bucket = \"aegovan-data\""
   ]
  },
  {
   "cell_type": "code",
   "execution_count": 5,
   "metadata": {},
   "outputs": [],
   "source": [
    "testfile= \"s3://{}/processed_dataset/test_multiclass.json\".format(bucket)\n",
    "valfile=\"s3://{}/processed_dataset/val_multiclass.json\".format(bucket)\n",
    "trainfile= \"s3://{}/processed_dataset/train_multiclass.json\".format(bucket)\n",
    "largescalefiles = \"s3://aegovan-data/pubmed_asbtract/inference_multi_2021053113/\"\n",
    "largescalefiles_manifest = \"s3://aegovan-data/pubmed_asbtract/inference_mainifest/{}\"\\\n",
    "                                .format(largescalefiles.rstrip(\"/\").split(\"/\")[-1])"
   ]
  },
  {
   "cell_type": "markdown",
   "metadata": {},
   "source": [
    "### Step 1: Convert pubtator format to inference json\n",
    "\n",
    "The input pubtator files look like this.. These are converted to produce inference \n",
    "\n",
    "```text\n",
    "20791654|a|Liver scan characteristics and liver function tests of 72 patients with proved hepatic malignancy (54 metastatic, 18 primary) were evaluated. Well-defined focal defects were observed in 83% of patients with metastatic and 77% of patients with primary liver carcinoma. In 10% of the patients with metastatic liver disease the distribution of radioactivity was normal. Four or more biochemical liver function tests were normal in 33% of metastatic and 29% of primary liver cancer patients. Hepatic enlargement was present in the scan in 94% of the patients with liver metastases; however, data obtained from 104 necropsies of patients with hepatic metastases showed that only 46% had hepatomegaly. We recommend, therefore, that a liver scan should be performed before major tumour surgery in every patient with known malignancy regardless of normal liver size or normal liver function tests.\n",
    "20791654\t58\t66\tpatients\tSpecies\t9606\n",
    "20791654\t193\t201\tpatients\tSpecies\t9606\n",
    "20791654\t229\t237\tpatients\tSpecies\t9606\n",
    "20791654\t282\t290\tpatients\tSpecies\t9606\n",
    "20791654\t478\t486\tpatients\tSpecies\t9606\n",
    "20791654\t546\t554\tpatients\tSpecies\t9606\n",
    "20791654\t624\t632\tpatients\tSpecies\t9606\n",
    "20791654\t796\t803\tpatient\tSpecies\t9606\n",
    "\n",
    "20791817|a|5-Aminosalicylic acid given to rats as a single intravenous injection led to necrosis of the proximal convoluted tubules and of the renal papilla. These two lesions developed at the same time and the cortical lesions did not appear to be a consequence of the renal papillary necrosis. Since the compound possesses the molecular structure both of a phenacetin derivative and of a salicylate these observations may be relevant to the problem of renal damage incident to abuse of analgesic compounds and suggest the possibility that in this syndrome cortical lesions may develop independently of renal papillary necrosis.\n",
    "20791817\t31\t35\trats\tSpecies\t10116\n",
    "\n",
    "```"
   ]
  },
  {
   "cell_type": "code",
   "execution_count": 6,
   "metadata": {},
   "outputs": [],
   "source": [
    "import datetime\n",
    "date_fmt = datetime.datetime.today().strftime(\"%Y%m%d%H\")"
   ]
  },
  {
   "cell_type": "code",
   "execution_count": 7,
   "metadata": {},
   "outputs": [],
   "source": [
    "#s3_input_pubtator = \"s3://aegovan-data/pubmed_json_parts_annotation_iseries/pubmed19n0550.json.txt\"\n",
    "s3_input_pubtator = \"s3://aegovan-data/pubmed_json_parts_annotation_iseries/\"\n",
    "s3_id_mapping_file=\"s3://aegovan-data/settings/HUMAN_9606_idmapping.dat\"\n",
    "\n",
    "s3_output_pubmed_asbtract = f\"s3://aegovan-data/pubmed_asbtract/inference_multi_{date_fmt}/\""
   ]
  },
  {
   "cell_type": "code",
   "execution_count": 8,
   "metadata": {},
   "outputs": [],
   "source": [
    "# from sagemaker.network import NetworkConfig\n",
    "# from sagemaker.processing import ProcessingInput, ProcessingOutput\n",
    "# from sagemaker.processing import ScriptProcessor\n",
    "\n",
    "# script_processor = ScriptProcessor(image_uri=docker_repo,\n",
    "#                                        command=[\"python\"],\n",
    "#                                        env={'mode': 'python', 'PYTHONPATH':'/opt/ml/code'},\n",
    "#                                        role=role,\n",
    "#                                        instance_type=instance_type,\n",
    "#                                        instance_count=10,\n",
    "#                                        max_runtime_in_seconds=172800,\n",
    "#                                        volume_size_in_gb = 50,\n",
    "#                                        network_config=NetworkConfig(enable_network_isolation=False),\n",
    "#                                        base_job_name =\"ppi-large-inference-data-prep\"\n",
    "\n",
    "\n",
    "#                                        )\n",
    "\n",
    "\n",
    "# sm_local_input_pubtator_txt = \"/opt/ml/processing/input/data/json\"\n",
    "# sm_local_input_idmapping = \"/opt/ml/processing/input/data/mapping\"\n",
    "# sm_local_output = \"/opt/ml/processing/output\"\n",
    "\n",
    "\n",
    "# script_processor.run(\n",
    "#         code='source/datatransformer/pubtator_annotations_inference_transformer.py',\n",
    "\n",
    "#         arguments=[\n",
    "        \n",
    "#             sm_local_input_pubtator_txt,\n",
    "#             sm_local_output,\n",
    "#            \"{}/{}\".format(sm_local_input_idmapping,s3_id_mapping_file.split(\"/\")[-1]) \n",
    "\n",
    "#         ],\n",
    "    \n",
    "#        inputs=[\n",
    "#                 ProcessingInput(\n",
    "#                     source=s3_input_pubtator,\n",
    "#                     destination=sm_local_input_pubtator_txt,\n",
    "#                     s3_data_distribution_type=\"ShardedByS3Key\")\n",
    "\n",
    "#             ,ProcessingInput(\n",
    "#                     source=s3_id_mapping_file,\n",
    "#                     destination=sm_local_input_idmapping,\n",
    "#                     s3_data_distribution_type=\"FullyReplicated\")\n",
    "#             ],\n",
    "\n",
    "#         outputs=[ProcessingOutput(\n",
    "#                 source=sm_local_output, \n",
    "#                 destination=s3_output_pubmed_asbtract,\n",
    "#                 output_name='inferenceabstracts')]\n",
    "#    )"
   ]
  },
  {
   "cell_type": "markdown",
   "metadata": {},
   "source": [
    "## Step 2: Run predictions"
   ]
  },
  {
   "cell_type": "code",
   "execution_count": 9,
   "metadata": {},
   "outputs": [],
   "source": [
    "prepare_models = False"
   ]
  },
  {
   "cell_type": "code",
   "execution_count": 10,
   "metadata": {},
   "outputs": [],
   "source": [
    "jobs_f1 = [\n",
    "\"ppimulticlass-bert-f1-2021-05-11-03-51-45-979\",\n",
    "\"ppimulticlass-bert-f1-2021-05-11-03-51-32-646\",\n",
    "\"ppimulticlass-bert-f1-2021-05-11-03-51-18-103\",\n",
    "\"ppimulticlass-bert-f1-2021-05-11-03-51-11-189\",\n",
    "\"ppimulticlass-bert-f1-2021-05-10-19-31-36-944\",\n",
    "\"ppimulticlass-bert-f1-2021-05-10-19-31-18-988\",\n",
    "\"ppimulticlass-bert-f1-2021-05-10-16-23-25-703\",\n",
    "\"ppimulticlass-bert-f1-2021-05-10-16-23-19-189\",\n",
    "\"ppimulticlass-bert-f1-2021-05-10-16-23-03-547\",\n",
    "\"ppimulticlass-bert-f1-2021-05-10-16-22-33-226\"\n",
    "]"
   ]
  },
  {
   "cell_type": "code",
   "execution_count": 11,
   "metadata": {},
   "outputs": [],
   "source": [
    "jobs_loss = [\n",
    "   \n",
    "\"ppimulticlass-bert-2021-05-08-20-29-59-117\",\n",
    "\"ppimulticlass-bert-2021-05-08-20-29-39-694\",\n",
    "\"ppimulticlass-bert-2021-05-08-20-29-11-549\",\n",
    "\"ppimulticlass-bert-2021-05-08-20-29-06-842\",\n",
    "\"ppimulticlass-bert-2021-05-08-19-21-50-296\",\n",
    "\"ppimulticlass-bert-2021-05-08-19-21-43-271\",\n",
    "\"ppimulticlass-bert-2021-05-08-19-21-15-995\",\n",
    "\"ppimulticlass-bert-2021-05-08-19-08-50-131\",\n",
    "\"ppimulticlass-bert-2021-05-08-17-12-32-759\",\n",
    "\"ppimulticlass-bert-2021-05-08-17-11-49-920\"\n",
    "\n",
    "]\n",
    "\n"
   ]
  },
  {
   "cell_type": "code",
   "execution_count": 12,
   "metadata": {},
   "outputs": [],
   "source": [
    "jobs=jobs_f1"
   ]
  },
  {
   "cell_type": "code",
   "execution_count": 13,
   "metadata": {},
   "outputs": [],
   "source": [
    "s3_model_path_format = \"s3://aegovan-data/ppi_multiclass_sagemakerresults/{}/output/model.tar.gz\"\n",
    "\n",
    "s3_model_paths = [s3_model_path_format.format(j) for j in jobs]"
   ]
  },
  {
   "cell_type": "code",
   "execution_count": 14,
   "metadata": {},
   "outputs": [],
   "source": [
    "job_prefix = \"{}-{}\".format(jobs[-1][:32], len(jobs) )\n",
    "s3_output_ensemble_models = \"s3://aegovan-data/ppi_multiclass_ensemble_models/{}\".format(job_prefix)"
   ]
  },
  {
   "cell_type": "markdown",
   "metadata": {},
   "source": [
    "### Prepare ensemble models\n",
    "TODO: This is just a hack to untar a bunch of zipped models and upload them to a single s3 locaton. Have a single processing job to do this is an overkill..."
   ]
  },
  {
   "cell_type": "code",
   "execution_count": 15,
   "metadata": {},
   "outputs": [],
   "source": [
    "def get_processing_inputs_s3_local_path(s3_model_paths, sm_local_input):\n",
    "    # Map the s3 model path to local input path\n",
    "    inputs = []\n",
    "    for i, s3_path in enumerate(s3_model_paths):\n",
    "         p = ProcessingInput(\n",
    "                        source=s3_path,\n",
    "                        destination=\"{}/{}\".format(sm_local_input.rstrip(\"/\"), i)\n",
    "         )\n",
    "         inputs.append(p)\n",
    "    return inputs\n"
   ]
  },
  {
   "cell_type": "code",
   "execution_count": 16,
   "metadata": {},
   "outputs": [],
   "source": [
    "from sagemaker.network import NetworkConfig\n",
    "from sagemaker.processing import ProcessingInput, ProcessingOutput\n",
    "from sagemaker.processing import ScriptProcessor\n",
    "\n",
    "\n",
    "sm_local_input = \"/opt/ml/processing/input/models\"\n",
    "sm_local_output = \"/opt/ml/processing/output\"\n",
    "\n",
    "script_processor = ScriptProcessor(image_uri=docker_repo,\n",
    "                                       command=[\"python\"],\n",
    "                                       env={'mode': 'python', 'PYTHONPATH':'/opt/ml/code'},\n",
    "                                       role=role,\n",
    "                                       instance_type=instance_type,\n",
    "                                       instance_count=1,\n",
    "                                       max_runtime_in_seconds=172800,\n",
    "                                       volume_size_in_gb = 50,\n",
    "                                       network_config=NetworkConfig(enable_network_isolation=False),\n",
    "                                       base_job_name =\"ppi-ensemble-model-packer\"\n",
    "                                       )\n"
   ]
  },
  {
   "cell_type": "code",
   "execution_count": 17,
   "metadata": {},
   "outputs": [],
   "source": [
    "\n",
    "if prepare_models:\n",
    "    # Work around to get over the processing job input limit size\n",
    "    chunk_size=5\n",
    "    for i in range(0, len(s3_model_paths), chunk_size ):\n",
    "\n",
    "        script_processor.run(\n",
    "                code='../src/inference/ensemble_inference_prepare_models.py',\n",
    "\n",
    "                arguments=[\n",
    "                    \"--input-dir\",\n",
    "                    sm_local_input,\n",
    "                    \"--dest-dir\",\n",
    "                    sm_local_output\n",
    "\n",
    "                ],\n",
    "\n",
    "                inputs=get_processing_inputs_s3_local_path(s3_model_paths[i:i+chunk_size], sm_local_input),\n",
    "\n",
    "\n",
    "                outputs=[ProcessingOutput(\n",
    "                        source=sm_local_output, \n",
    "                        destination=s3_output_ensemble_models,\n",
    "                        output_name='models')]\n",
    "            )\n",
    "\n"
   ]
  },
  {
   "cell_type": "markdown",
   "metadata": {},
   "source": [
    "### Run ensemble prediction"
   ]
  },
  {
   "cell_type": "code",
   "execution_count": 18,
   "metadata": {},
   "outputs": [],
   "source": [
    "prepare_manifest=True"
   ]
  },
  {
   "cell_type": "code",
   "execution_count": 19,
   "metadata": {},
   "outputs": [],
   "source": [
    "from sagemaker.s3 import S3Downloader, S3Uploader, parse_s3_url\n",
    "import tempfile\n",
    "import boto3, json\n",
    "from datetime import datetime\n",
    "\n",
    "\n",
    "def prepare_manifest_file(s3_input_file_prefix, s3_manifest_output_prefix, batch_size=250):\n",
    "    \"\"\"\n",
    "    As a workaround to get around the 5 day limit, use split manifest file...\n",
    "    \"\"\"\n",
    "    s3_files_list =  S3Downloader.list(s3_input_file_prefix)\n",
    "    \n",
    "    s3_manifest_output_prefix = s3_manifest_output_prefix.rstrip(\"/\")\n",
    "    \n",
    "    for i, r in enumerate(range(0, len(s3_files_list), batch_size)) :\n",
    "        manifest_file =  \"manifest_{:05}.json\".format(i)\n",
    "        s3_manifest_file = \"{}/{}\".format(s3_manifest_output_prefix, manifest_file)\n",
    "        \n",
    "        files_batch = s3_files_list[r:r+batch_size]\n",
    "        \n",
    "        manifest_lst = [{\"prefix\": s3_input_file_prefix}]\n",
    "        \n",
    "        manifest_lst.extend(list(map(lambda x: x[len(s3_input_file_prefix):], files_batch)))\n",
    "        \n",
    "        manifest_body = json.dumps(manifest_lst)\n",
    "        \n",
    "        S3Uploader.upload_string_as_file_body(manifest_body, desired_s3_uri=s3_manifest_file)\n",
    "        \n",
    "\n",
    "def _s3_move_file(s3_src, s3_dest):\n",
    "    src_bucket, src_key = parse_s3_url(s3_src)\n",
    "    dest_bucket, dest_key = parse_s3_url(s3_dest)\n",
    "    \n",
    "    client = boto3.resource('s3')\n",
    "    copy_source = {\n",
    "        'Bucket': src_bucket,\n",
    "        'Key': src_key\n",
    "    }\n",
    "    bucket = client.Bucket(dest_bucket)\n",
    "    obj = bucket.Object(dest_key)\n",
    "    obj.copy(copy_source)\n",
    "    \n",
    "    src_obj = client.Object(src_bucket,src_key)\n",
    "    src_obj.delete()\n",
    "\n",
    "\n",
    "def _s3_delete_files(s3_prefix, filter_func=None):\n",
    "    s3_files =  S3Downloader.list(\"{}/\".format( s3_prefix.rstrip(\"/\")))\n",
    "    \n",
    "    client = boto3.resource('s3')\n",
    "    \n",
    "    filter_func = filter_func or (lambda x: True)\n",
    "\n",
    "    for s in filter( filter_func, s3_files):\n",
    "        src_bucket, src_key = parse_s3_url(s)\n",
    "        print(\"Deleting {}\".format(s))\n",
    "        src_obj = client.Object(src_bucket,src_key)\n",
    "        src_obj.delete()\n",
    " \n",
    "def get_manifest_file_with_rename(s3_manifest_output_prefix, rename_file=True):\n",
    "    s3_pending_manifest_files =  S3Downloader.list(\"{}/manifest_\".format( s3_manifest_output_prefix.rstrip(\"/\")))\n",
    "    \n",
    "    src_file = s3_pending_manifest_files[0]\n",
    "    \n",
    "    processed_file_prefix, processed_file_name = \"/\".join(src_file.split(\"/\")[:-1]), src_file.split(\"/\")[-1]\n",
    "    \n",
    "    process_date = datetime.now().strftime(\"%Y%m%d%H%M\")\n",
    "    \n",
    "    processed_file=\"{}/processed_{}_{}\".format(processed_file_prefix, process_date, processed_file_name)\n",
    "    \n",
    "    result = src_file\n",
    "    if rename_file :\n",
    "        _s3_move_file(src_file, processed_file )\n",
    "        result = processed_file\n",
    "    \n",
    "    return result\n",
    "\n",
    "\n",
    "    "
   ]
  },
  {
   "cell_type": "code",
   "execution_count": 20,
   "metadata": {},
   "outputs": [],
   "source": [
    "if prepare_manifest: prepare_manifest_file(largescalefiles, largescalefiles_manifest)"
   ]
  },
  {
   "cell_type": "code",
   "execution_count": 21,
   "metadata": {},
   "outputs": [],
   "source": [
    "#s3_output_predictions = \"s3://aegovan-data/pubmed_asbtract/predictions_largescale_{}_{}/\".format(job_prefix,date_fmt)\n",
    "s3_output_predictions = \"s3://aegovan-data/pubmed_asbtract/predictions_largescale_{}_{}/\".format(job_prefix,\"2021-07-01\")\n",
    "s3_input_data = get_manifest_file_with_rename(largescalefiles_manifest)\n",
    "s3_data_type=\"ManifestFile\" # S3Prefix\n",
    "usefilter=1\n",
    "filter_threshold_std=1.0\n",
    "instance_count = 2\n",
    "\n",
    "s3_input_models = s3_output_ensemble_models\n",
    "s3_input_vocab = \"s3://{}/embeddings/bert/\".format(bucket)"
   ]
  },
  {
   "cell_type": "code",
   "execution_count": 22,
   "metadata": {},
   "outputs": [
    {
     "data": {
      "text/plain": [
       "('s3://aegovan-data/pubmed_asbtract/inference_mainifest/inference_multi_2021053113/processed_202106030930_manifest_00000.json',\n",
       " 'ManifestFile')"
      ]
     },
     "execution_count": 22,
     "metadata": {},
     "output_type": "execute_result"
    }
   ],
   "source": [
    "s3_input_data, s3_data_type"
   ]
  },
  {
   "cell_type": "code",
   "execution_count": 23,
   "metadata": {},
   "outputs": [],
   "source": [
    "pytorch_custom_image_name=f\"ppi:gpu-{version_tag}\"\n",
    "\n",
    "\n",
    "instance_type = \"ml.p3.2xlarge\" \n"
   ]
  },
  {
   "cell_type": "code",
   "execution_count": 24,
   "metadata": {},
   "outputs": [],
   "source": [
    "docker_repo = \"{}.dkr.ecr.{}.amazonaws.com/{}\".format(account_id, region, pytorch_custom_image_name)"
   ]
  },
  {
   "cell_type": "code",
   "execution_count": null,
   "metadata": {},
   "outputs": [
    {
     "name": "stdout",
     "output_type": "stream",
     "text": [
      "\n",
      "Job Name:  ppi-ensemble-inference-2021-06-03-16-30-29-429\n",
      "Inputs:  [{'InputName': 'input-1', 'AppManaged': False, 'S3Input': {'S3Uri': 's3://aegovan-data/pubmed_asbtract/inference_mainifest/inference_multi_2021053113/processed_202106030930_manifest_00000.json', 'LocalPath': '/opt/ml/processing/input/data/jsonlines', 'S3DataType': 'ManifestFile', 'S3InputMode': 'File', 'S3DataDistributionType': 'ShardedByS3Key', 'S3CompressionType': 'None'}}, {'InputName': 'input-2', 'AppManaged': False, 'S3Input': {'S3Uri': 's3://aegovan-data/ppi_multiclass_ensemble_models/ppimulticlass-bert-f1-2021-05-10-10', 'LocalPath': '/opt/ml/processing/input/data/models', 'S3DataType': 'S3Prefix', 'S3InputMode': 'File', 'S3DataDistributionType': 'FullyReplicated', 'S3CompressionType': 'None'}}, {'InputName': 'input-3', 'AppManaged': False, 'S3Input': {'S3Uri': 's3://aegovan-data/embeddings/bert/', 'LocalPath': '/opt/ml/processing/input/data/vocab', 'S3DataType': 'S3Prefix', 'S3InputMode': 'File', 'S3DataDistributionType': 'FullyReplicated', 'S3CompressionType': 'None'}}, {'InputName': 'code', 'AppManaged': False, 'S3Input': {'S3Uri': 's3://sagemaker-us-east-2-324346001917/ppi-ensemble-inference-2021-06-03-16-30-29-429/input/code/ppi_multiclass_batch_predict.py', 'LocalPath': '/opt/ml/processing/input/code', 'S3DataType': 'S3Prefix', 'S3InputMode': 'File', 'S3DataDistributionType': 'FullyReplicated', 'S3CompressionType': 'None'}}]\n",
      "Outputs:  [{'OutputName': 'predictions', 'AppManaged': False, 'S3Output': {'S3Uri': 's3://aegovan-data/pubmed_asbtract/predictions_largescale_ppimulticlass-bert-f1-2021-05-10-10_2021-07-01/', 'LocalPath': '/opt/ml/processing/output', 'S3UploadMode': 'EndOfJob'}}]\n",
      "....."
     ]
    }
   ],
   "source": [
    "from sagemaker.network import NetworkConfig\n",
    "from sagemaker.processing import ProcessingInput, ProcessingOutput\n",
    "from sagemaker.processing import ScriptProcessor\n",
    "\n",
    "script_processor = ScriptProcessor(image_uri=docker_repo,\n",
    "                                       command=[\"python\"],\n",
    "                                       env={'mode': 'python', 'PYTHONPATH':'/opt/ml/code'},\n",
    "                                       role=role,\n",
    "                                       instance_type=instance_type,\n",
    "                                       instance_count=instance_count,\n",
    "                                       max_runtime_in_seconds= 5 * 24 * 60 * 60,\n",
    "                                       volume_size_in_gb = 250,\n",
    "                                       network_config=NetworkConfig(enable_network_isolation=False),\n",
    "                                       base_job_name =\"ppi-ensemble-inference\"\n",
    "                                       )\n",
    "\n",
    "\n",
    "sm_local_input_models = \"/opt/ml/processing/input/data/models\"\n",
    "sm_local_input_data = \"/opt/ml/processing/input/data/jsonlines\"\n",
    "sm_local_input_vocab = \"/opt/ml/processing/input/data/vocab\"\n",
    "\n",
    "\n",
    "sm_local_output = \"/opt/ml/processing/output\"\n",
    "\n",
    "\n",
    "\n",
    "script_processor.run(\n",
    "        code='../src/inference/ppi_multiclass_batch_predict.py',\n",
    "\n",
    "        arguments=[\n",
    "            sm_local_input_data,\n",
    "            sm_local_input_models,\n",
    "            sm_local_output,\n",
    "            \"--ensemble\", \"1\",\n",
    "            \"--tokenisor_data_dir\", sm_local_input_vocab,\n",
    "            \"--protein_name_replacer_random_seed\", \"43\",\n",
    "            \"--filter\", str(usefilter),\n",
    "            \"--batch\", \"32\",\n",
    "            \"--filterstdthreshold\", str(filter_threshold_std)\n",
    "        ],\n",
    "\n",
    "        inputs=[\n",
    "                ProcessingInput(\n",
    "                    source=s3_input_data,\n",
    "                    s3_data_type = s3_data_type,\n",
    "                    destination=sm_local_input_data,\n",
    "                    s3_data_distribution_type=\"ShardedByS3Key\"),\n",
    "\n",
    "            ProcessingInput(\n",
    "                    source=s3_input_models,\n",
    "                    destination=sm_local_input_models,\n",
    "                    s3_data_distribution_type=\"FullyReplicated\"),\n",
    "            \n",
    "            ProcessingInput(\n",
    "                    source=s3_input_vocab,\n",
    "                    destination=sm_local_input_vocab,\n",
    "                    s3_data_distribution_type=\"FullyReplicated\")\n",
    "            ],\n",
    "\n",
    "\n",
    "        outputs=[ProcessingOutput(\n",
    "                source=sm_local_output, \n",
    "                destination=s3_output_predictions,\n",
    "                output_name='predictions')]\n",
    "    )\n",
    "\n",
    "\n"
   ]
  }
 ],
 "metadata": {
  "kernelspec": {
   "display_name": "Python 3",
   "language": "python",
   "name": "python3"
  },
  "language_info": {
   "codemirror_mode": {
    "name": "ipython",
    "version": 3
   },
   "file_extension": ".py",
   "mimetype": "text/x-python",
   "name": "python",
   "nbconvert_exporter": "python",
   "pygments_lexer": "ipython3",
   "version": "3.7.4"
  }
 },
 "nbformat": 4,
 "nbformat_minor": 1
}
