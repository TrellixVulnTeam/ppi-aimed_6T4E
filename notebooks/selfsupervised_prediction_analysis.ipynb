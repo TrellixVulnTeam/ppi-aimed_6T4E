{
 "cells": [
  {
   "cell_type": "code",
   "execution_count": 1,
   "metadata": {},
   "outputs": [],
   "source": [
    "#s3_prediction = \"s3://aegovan-data/chemprot/predictions_chemprot-bert-f1-2022-05-22-23-18-21-560/prediction_chemprot_test.json\"\n",
    "s3_train=\"s3://aegovan-data/selfsupervised_chemprot/predictions_selfsupervised-bert-f1-2022-09-17-23-42-42-470/2022091718/train.json.json\"\n",
    "s3_test=\"s3://aegovan-data/selfsupervised_chemprot/predictions_selfsupervised-bert-f1-2022-09-17-23-42-42-470/2022091718/test.json.json\"\n",
    "s3_val=\"s3://aegovan-data/selfsupervised_chemprot/predictions_selfsupervised-bert-f1-2022-09-17-23-42-42-470/2022091718/val.json.json\"\n",
    "\n",
    "\n",
    "\n"
   ]
  },
  {
   "cell_type": "code",
   "execution_count": 2,
   "metadata": {},
   "outputs": [],
   "source": [
    "import sys, os, pandas as pd\n",
    "sys.path.append(\"../src\")\n",
    "\n",
    "import utils"
   ]
  },
  {
   "cell_type": "code",
   "execution_count": 3,
   "metadata": {},
   "outputs": [],
   "source": [
    "from utils.s3_utils import download_file as download_s3_file\n"
   ]
  },
  {
   "cell_type": "code",
   "execution_count": 4,
   "metadata": {},
   "outputs": [],
   "source": [
    "local_temp =\"./temp\""
   ]
  },
  {
   "cell_type": "code",
   "execution_count": 5,
   "metadata": {},
   "outputs": [],
   "source": [
    "def self_label(df):\n",
    "    keywords1 = [\"activation\", \"trigger\", \"interact\", \"inhibit\", \"regulat\", \"supress\"]\n",
    "\n",
    "    keywords2 = [\"gene\", \"protein\", \"chemical\"]\n",
    "\n",
    "\n",
    "    df[\"label\"] = df[\"abstract\"].apply(lambda x: any([ k.lower() in x.lower() for k in keywords1]) \n",
    "                                        and sum([  k.lower() in x.lower() for k in keywords2])>=2\n",
    "                                     \n",
    "                                       )\n",
    "    \n",
    "    \n",
    "    return df"
   ]
  },
  {
   "cell_type": "code",
   "execution_count": 6,
   "metadata": {},
   "outputs": [],
   "source": [
    "local_prediction_dir = os.path.join(local_temp, \"prediction\")\n",
    "os.makedirs(local_prediction_dir, exist_ok=True)\n",
    "local_train_file  = download_s3_file( s3_train, local_prediction_dir)\n",
    "local_test_file  = download_s3_file( s3_test, local_prediction_dir)"
   ]
  },
  {
   "cell_type": "code",
   "execution_count": 7,
   "metadata": {},
   "outputs": [
    {
     "data": {
      "text/html": [
       "<div>\n",
       "<style scoped>\n",
       "    .dataframe tbody tr th:only-of-type {\n",
       "        vertical-align: middle;\n",
       "    }\n",
       "\n",
       "    .dataframe tbody tr th {\n",
       "        vertical-align: top;\n",
       "    }\n",
       "\n",
       "    .dataframe thead th {\n",
       "        text-align: right;\n",
       "    }\n",
       "</style>\n",
       "<table border=\"1\" class=\"dataframe\">\n",
       "  <thead>\n",
       "    <tr style=\"text-align: right;\">\n",
       "      <th></th>\n",
       "      <th>abstract</th>\n",
       "      <th>abstract_id</th>\n",
       "      <th>false</th>\n",
       "      <th>true</th>\n",
       "      <th>prediction</th>\n",
       "      <th>confidence</th>\n",
       "      <th>confidence_std</th>\n",
       "      <th>raw_confidence</th>\n",
       "      <th>label</th>\n",
       "    </tr>\n",
       "  </thead>\n",
       "  <tbody>\n",
       "    <tr>\n",
       "      <th>0</th>\n",
       "      <td>Androgen antagonistic effect of estramustine p...</td>\n",
       "      <td>10076535</td>\n",
       "      <td>0.999099</td>\n",
       "      <td>0.000901</td>\n",
       "      <td>False</td>\n",
       "      <td>0.999099</td>\n",
       "      <td>NaN</td>\n",
       "      <td>[0.9990991353988641]</td>\n",
       "      <td>False</td>\n",
       "    </tr>\n",
       "    <tr>\n",
       "      <th>1</th>\n",
       "      <td>Static Laue diffraction studies on acetylcholi...</td>\n",
       "      <td>10089512</td>\n",
       "      <td>0.999178</td>\n",
       "      <td>0.000822</td>\n",
       "      <td>False</td>\n",
       "      <td>0.999178</td>\n",
       "      <td>NaN</td>\n",
       "      <td>[0.9991783499717711]</td>\n",
       "      <td>False</td>\n",
       "    </tr>\n",
       "    <tr>\n",
       "      <th>2</th>\n",
       "      <td>Selective inhibition of cyclooxygenase 2 spare...</td>\n",
       "      <td>10220509</td>\n",
       "      <td>0.998987</td>\n",
       "      <td>0.001013</td>\n",
       "      <td>False</td>\n",
       "      <td>0.998987</td>\n",
       "      <td>NaN</td>\n",
       "      <td>[0.9989868998527521]</td>\n",
       "      <td>False</td>\n",
       "    </tr>\n",
       "    <tr>\n",
       "      <th>3</th>\n",
       "      <td>Inhibition of cPLA2 translocation and leukotri...</td>\n",
       "      <td>10351938</td>\n",
       "      <td>0.993466</td>\n",
       "      <td>0.006534</td>\n",
       "      <td>False</td>\n",
       "      <td>0.993466</td>\n",
       "      <td>NaN</td>\n",
       "      <td>[0.9934660792350761]</td>\n",
       "      <td>False</td>\n",
       "    </tr>\n",
       "    <tr>\n",
       "      <th>4</th>\n",
       "      <td>Desipramine treatment decreases 3H-nisoxetine ...</td>\n",
       "      <td>10424850</td>\n",
       "      <td>0.998602</td>\n",
       "      <td>0.001398</td>\n",
       "      <td>False</td>\n",
       "      <td>0.998602</td>\n",
       "      <td>NaN</td>\n",
       "      <td>[0.9986017346382141]</td>\n",
       "      <td>False</td>\n",
       "    </tr>\n",
       "  </tbody>\n",
       "</table>\n",
       "</div>"
      ],
      "text/plain": [
       "                                            abstract  abstract_id     false  \\\n",
       "0  Androgen antagonistic effect of estramustine p...     10076535  0.999099   \n",
       "1  Static Laue diffraction studies on acetylcholi...     10089512  0.999178   \n",
       "2  Selective inhibition of cyclooxygenase 2 spare...     10220509  0.998987   \n",
       "3  Inhibition of cPLA2 translocation and leukotri...     10351938  0.993466   \n",
       "4  Desipramine treatment decreases 3H-nisoxetine ...     10424850  0.998602   \n",
       "\n",
       "       true  prediction  confidence  confidence_std        raw_confidence  \\\n",
       "0  0.000901       False    0.999099             NaN  [0.9990991353988641]   \n",
       "1  0.000822       False    0.999178             NaN  [0.9991783499717711]   \n",
       "2  0.001013       False    0.998987             NaN  [0.9989868998527521]   \n",
       "3  0.006534       False    0.993466             NaN  [0.9934660792350761]   \n",
       "4  0.001398       False    0.998602             NaN  [0.9986017346382141]   \n",
       "\n",
       "   label  \n",
       "0  False  \n",
       "1  False  \n",
       "2  False  \n",
       "3  False  \n",
       "4  False  "
      ]
     },
     "execution_count": 7,
     "metadata": {},
     "output_type": "execute_result"
    }
   ],
   "source": [
    "df_test = pd.read_json(local_test_file).pipe(self_label)\n",
    "df_test.head()"
   ]
  },
  {
   "cell_type": "code",
   "execution_count": 8,
   "metadata": {},
   "outputs": [
    {
     "data": {
      "text/html": [
       "<div>\n",
       "<style scoped>\n",
       "    .dataframe tbody tr th:only-of-type {\n",
       "        vertical-align: middle;\n",
       "    }\n",
       "\n",
       "    .dataframe tbody tr th {\n",
       "        vertical-align: top;\n",
       "    }\n",
       "\n",
       "    .dataframe thead th {\n",
       "        text-align: right;\n",
       "    }\n",
       "</style>\n",
       "<table border=\"1\" class=\"dataframe\">\n",
       "  <thead>\n",
       "    <tr style=\"text-align: right;\">\n",
       "      <th></th>\n",
       "      <th>abstract</th>\n",
       "      <th>abstract_id</th>\n",
       "      <th>false</th>\n",
       "      <th>true</th>\n",
       "      <th>prediction</th>\n",
       "      <th>confidence</th>\n",
       "      <th>confidence_std</th>\n",
       "      <th>raw_confidence</th>\n",
       "      <th>label</th>\n",
       "    </tr>\n",
       "  </thead>\n",
       "  <tbody>\n",
       "    <tr>\n",
       "      <th>0</th>\n",
       "      <td>Cyclin E-cdk2 activation is associated with ce...</td>\n",
       "      <td>10047461</td>\n",
       "      <td>0.997039</td>\n",
       "      <td>0.002961</td>\n",
       "      <td>False</td>\n",
       "      <td>0.997039</td>\n",
       "      <td>NaN</td>\n",
       "      <td>[0.9970393776893611]</td>\n",
       "      <td>False</td>\n",
       "    </tr>\n",
       "    <tr>\n",
       "      <th>1</th>\n",
       "      <td>New aspects in the management of obesity: oper...</td>\n",
       "      <td>10095983</td>\n",
       "      <td>0.999303</td>\n",
       "      <td>0.000697</td>\n",
       "      <td>False</td>\n",
       "      <td>0.999303</td>\n",
       "      <td>NaN</td>\n",
       "      <td>[0.999302744865417]</td>\n",
       "      <td>False</td>\n",
       "    </tr>\n",
       "    <tr>\n",
       "      <th>2</th>\n",
       "      <td>Cyclopentenone prostaglandins suppress activat...</td>\n",
       "      <td>10200320</td>\n",
       "      <td>0.011538</td>\n",
       "      <td>0.988462</td>\n",
       "      <td>True</td>\n",
       "      <td>0.988462</td>\n",
       "      <td>NaN</td>\n",
       "      <td>[0.9884617328643791]</td>\n",
       "      <td>True</td>\n",
       "    </tr>\n",
       "    <tr>\n",
       "      <th>3</th>\n",
       "      <td>Phospholipase A2 inhibitors p-bromophenacyl br...</td>\n",
       "      <td>10207608</td>\n",
       "      <td>0.002117</td>\n",
       "      <td>0.997883</td>\n",
       "      <td>True</td>\n",
       "      <td>0.997883</td>\n",
       "      <td>NaN</td>\n",
       "      <td>[0.9978830218315121]</td>\n",
       "      <td>True</td>\n",
       "    </tr>\n",
       "    <tr>\n",
       "      <th>4</th>\n",
       "      <td>Both 5-HT1B and 5-HT1F receptors modulate c-fo...</td>\n",
       "      <td>10225363</td>\n",
       "      <td>0.998454</td>\n",
       "      <td>0.001546</td>\n",
       "      <td>False</td>\n",
       "      <td>0.998454</td>\n",
       "      <td>NaN</td>\n",
       "      <td>[0.998453855514526]</td>\n",
       "      <td>False</td>\n",
       "    </tr>\n",
       "  </tbody>\n",
       "</table>\n",
       "</div>"
      ],
      "text/plain": [
       "                                            abstract  abstract_id     false  \\\n",
       "0  Cyclin E-cdk2 activation is associated with ce...     10047461  0.997039   \n",
       "1  New aspects in the management of obesity: oper...     10095983  0.999303   \n",
       "2  Cyclopentenone prostaglandins suppress activat...     10200320  0.011538   \n",
       "3  Phospholipase A2 inhibitors p-bromophenacyl br...     10207608  0.002117   \n",
       "4  Both 5-HT1B and 5-HT1F receptors modulate c-fo...     10225363  0.998454   \n",
       "\n",
       "       true  prediction  confidence  confidence_std        raw_confidence  \\\n",
       "0  0.002961       False    0.997039             NaN  [0.9970393776893611]   \n",
       "1  0.000697       False    0.999303             NaN   [0.999302744865417]   \n",
       "2  0.988462        True    0.988462             NaN  [0.9884617328643791]   \n",
       "3  0.997883        True    0.997883             NaN  [0.9978830218315121]   \n",
       "4  0.001546       False    0.998454             NaN   [0.998453855514526]   \n",
       "\n",
       "   label  \n",
       "0  False  \n",
       "1  False  \n",
       "2   True  \n",
       "3   True  \n",
       "4  False  "
      ]
     },
     "execution_count": 8,
     "metadata": {},
     "output_type": "execute_result"
    }
   ],
   "source": [
    "df_train = pd.read_json(local_train_file).pipe(self_label)\n",
    "df_train.head()"
   ]
  },
  {
   "cell_type": "code",
   "execution_count": 9,
   "metadata": {},
   "outputs": [
    {
     "name": "stdout",
     "output_type": "stream",
     "text": [
      "False\n",
      "(628, 9)\n",
      "True\n",
      "(139, 9)\n"
     ]
    },
    {
     "name": "stderr",
     "output_type": "stream",
     "text": [
      "/Users/aparnaelangovan/PycharmProjects/venv/large-scale-ptm-ppi/lib/python3.7/site-packages/pandas/plotting/_matplotlib/tools.py:331: MatplotlibDeprecationWarning: \n",
      "The is_first_col function was deprecated in Matplotlib 3.4 and will be removed two minor releases later. Use ax.get_subplotspec().is_first_col() instead.\n",
      "  if ax.is_first_col():\n",
      "/Users/aparnaelangovan/PycharmProjects/venv/large-scale-ptm-ppi/lib/python3.7/site-packages/pandas/plotting/_matplotlib/tools.py:331: MatplotlibDeprecationWarning: \n",
      "The is_first_col function was deprecated in Matplotlib 3.4 and will be removed two minor releases later. Use ax.get_subplotspec().is_first_col() instead.\n",
      "  if ax.is_first_col():\n"
     ]
    },
    {
     "data": {
      "image/png": "[encoded data removed]",
      "text/plain": [
       "<Figure size 1080x504 with 2 Axes>"
      ]
     },
     "metadata": {
      "needs_background": "light"
     },
     "output_type": "display_data"
    }
   ],
   "source": [
    "import matplotlib.pyplot as plt\n",
    "\n",
    "def plot(df):\n",
    "    labels = list(df[\"label\"].unique())\n",
    "    fig, axes = plt.subplots(int(len(labels)/2), 2, figsize=(15,7))\n",
    "    axes = axes.reshape(-1)\n",
    "    for ax, l in zip(axes,labels):\n",
    "        print(l)\n",
    "        df_l = df.query(f\"label == {l}\")\n",
    "        print(df_l.shape)\n",
    "        df_l[\"confidence\"].plot.hist(ax=ax, bins=10, density=False, stacked=True)\n",
    "        ax.set_title(f\"Confidence {l} - {df_l.shape[0]}\")\n",
    "        ticks = list(map(lambda x:x/10 ,range(0,10)))\n",
    "        ax.set_xticks (ticks)\n",
    "        ax.set_xticklabels(ticks)\n",
    "#         ax.set_yticks (ticks)\n",
    "#         ax.set_yticklabels(ticks)\n",
    "\n",
    "\n",
    "plot(df_train)        "
   ]
  },
  {
   "cell_type": "code",
   "execution_count": 10,
   "metadata": {},
   "outputs": [
    {
     "data": {
      "text/html": [
       "<div>\n",
       "<style scoped>\n",
       "    .dataframe tbody tr th:only-of-type {\n",
       "        vertical-align: middle;\n",
       "    }\n",
       "\n",
       "    .dataframe tbody tr th {\n",
       "        vertical-align: top;\n",
       "    }\n",
       "\n",
       "    .dataframe thead th {\n",
       "        text-align: right;\n",
       "    }\n",
       "</style>\n",
       "<table border=\"1\" class=\"dataframe\">\n",
       "  <thead>\n",
       "    <tr style=\"text-align: right;\">\n",
       "      <th></th>\n",
       "      <th>count</th>\n",
       "      <th>mean</th>\n",
       "      <th>std</th>\n",
       "      <th>min</th>\n",
       "      <th>25%</th>\n",
       "      <th>50%</th>\n",
       "      <th>75%</th>\n",
       "      <th>max</th>\n",
       "    </tr>\n",
       "    <tr>\n",
       "      <th>label</th>\n",
       "      <th></th>\n",
       "      <th></th>\n",
       "      <th></th>\n",
       "      <th></th>\n",
       "      <th></th>\n",
       "      <th></th>\n",
       "      <th></th>\n",
       "      <th></th>\n",
       "    </tr>\n",
       "  </thead>\n",
       "  <tbody>\n",
       "    <tr>\n",
       "      <th>False</th>\n",
       "      <td>628.0</td>\n",
       "      <td>0.996143</td>\n",
       "      <td>0.010153</td>\n",
       "      <td>0.824948</td>\n",
       "      <td>0.997200</td>\n",
       "      <td>0.998786</td>\n",
       "      <td>0.999215</td>\n",
       "      <td>0.999617</td>\n",
       "    </tr>\n",
       "    <tr>\n",
       "      <th>True</th>\n",
       "      <td>139.0</td>\n",
       "      <td>0.993010</td>\n",
       "      <td>0.009931</td>\n",
       "      <td>0.902190</td>\n",
       "      <td>0.991227</td>\n",
       "      <td>0.996777</td>\n",
       "      <td>0.997752</td>\n",
       "      <td>0.998383</td>\n",
       "    </tr>\n",
       "  </tbody>\n",
       "</table>\n",
       "</div>"
      ],
      "text/plain": [
       "       count      mean       std       min       25%       50%       75%  \\\n",
       "label                                                                      \n",
       "False  628.0  0.996143  0.010153  0.824948  0.997200  0.998786  0.999215   \n",
       "True   139.0  0.993010  0.009931  0.902190  0.991227  0.996777  0.997752   \n",
       "\n",
       "            max  \n",
       "label            \n",
       "False  0.999617  \n",
       "True   0.998383  "
      ]
     },
     "execution_count": 10,
     "metadata": {},
     "output_type": "execute_result"
    }
   ],
   "source": [
    "df_train.groupby(\"label\")[\"confidence\"].describe()"
   ]
  },
  {
   "cell_type": "code",
   "execution_count": 11,
   "metadata": {},
   "outputs": [
    {
     "name": "stdout",
     "output_type": "stream",
     "text": [
      "False\n",
      "(513, 9)\n",
      "True\n",
      "(107, 9)\n"
     ]
    },
    {
     "name": "stderr",
     "output_type": "stream",
     "text": [
      "/Users/aparnaelangovan/PycharmProjects/venv/large-scale-ptm-ppi/lib/python3.7/site-packages/pandas/plotting/_matplotlib/tools.py:331: MatplotlibDeprecationWarning: \n",
      "The is_first_col function was deprecated in Matplotlib 3.4 and will be removed two minor releases later. Use ax.get_subplotspec().is_first_col() instead.\n",
      "  if ax.is_first_col():\n",
      "/Users/aparnaelangovan/PycharmProjects/venv/large-scale-ptm-ppi/lib/python3.7/site-packages/pandas/plotting/_matplotlib/tools.py:331: MatplotlibDeprecationWarning: \n",
      "The is_first_col function was deprecated in Matplotlib 3.4 and will be removed two minor releases later. Use ax.get_subplotspec().is_first_col() instead.\n",
      "  if ax.is_first_col():\n"
     ]
    },
    {
     "data": {
      "image/png": "[encoded data removed]",
      "text/plain": [
       "<Figure size 1080x504 with 2 Axes>"
      ]
     },
     "metadata": {
      "needs_background": "light"
     },
     "output_type": "display_data"
    }
   ],
   "source": [
    "plot(df_test)        "
   ]
  },
  {
   "cell_type": "code",
   "execution_count": 12,
   "metadata": {},
   "outputs": [],
   "source": [
    "from sklearn.metrics import confusion_matrix, ConfusionMatrixDisplay\n",
    "\n",
    "def plot_confusion_matrix(df):\n",
    "\n",
    "    cm = confusion_matrix(df[\"label\"], df[\"prediction\"], labels=[True, False])\n",
    "    disp = ConfusionMatrixDisplay(confusion_matrix=cm, display_labels=[True, False])\n",
    "    \n",
    "    disp.plot()\n",
    "    \n",
    "    plt.show()"
   ]
  },
  {
   "cell_type": "code",
   "execution_count": 13,
   "metadata": {},
   "outputs": [
    {
     "data": {
      "image/png": "[encoded data removed]",
      "text/plain": [
       "<Figure size 432x288 with 2 Axes>"
      ]
     },
     "metadata": {
      "needs_background": "light"
     },
     "output_type": "display_data"
    }
   ],
   "source": [
    "plot_confusion_matrix(df_train)"
   ]
  },
  {
   "cell_type": "code",
   "execution_count": 14,
   "metadata": {},
   "outputs": [
    {
     "data": {
      "image/png": "[encoded data removed]",
      "text/plain": [
       "<Figure size 432x288 with 2 Axes>"
      ]
     },
     "metadata": {
      "needs_background": "light"
     },
     "output_type": "display_data"
    }
   ],
   "source": [
    "plot_confusion_matrix(df_test)"
   ]
  }
 ],
 "metadata": {
  "kernelspec": {
   "display_name": "Python 3 (ipykernel)",
   "language": "python",
   "name": "python3"
  },
  "language_info": {
   "codemirror_mode": {
    "name": "ipython",
    "version": 3
   },
   "file_extension": ".py",
   "mimetype": "text/x-python",
   "name": "python",
   "nbconvert_exporter": "python",
   "pygments_lexer": "ipython3",
   "version": "3.7.9"
  }
 },
 "nbformat": 4,
 "nbformat_minor": 1
}