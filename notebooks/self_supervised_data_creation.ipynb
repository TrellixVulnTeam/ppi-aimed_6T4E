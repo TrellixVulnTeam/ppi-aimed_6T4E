{
 "cells": [
  {
   "cell_type": "markdown",
   "metadata": {},
   "source": [
    "### Create self supervised dataset"
   ]
  },
  {
   "cell_type": "code",
   "execution_count": 1,
   "metadata": {},
   "outputs": [],
   "source": [
    "import pandas as pd\n",
    "import numpy as np\n",
    "import json\n",
    "import sagemaker,  io\n",
    "import re"
   ]
  },
  {
   "cell_type": "code",
   "execution_count": 2,
   "metadata": {},
   "outputs": [],
   "source": [
    "train_data_file = \"../chemprot_abstract_train.json\"\n",
    "test_data_file = \"../chemprot_abstract_test.json\"\n",
    "val_data_file = \"../chemprot_abstract_val.json\""
   ]
  },
  {
   "cell_type": "code",
   "execution_count": 3,
   "metadata": {},
   "outputs": [],
   "source": [
    "keywords1 = [\"activation\", \"trigger\", \"interact\", \"inhibit\", \"regulat\", \"supress\"]\n",
    "\n",
    "keywords2 = [\"gene\", \"protein\", \"chemical\"]\n",
    "\n",
    "\n",
    "\n",
    "    \n",
    "def load_unique_abstract(datafile):\n",
    "    with open(datafile) as f:\n",
    "        data = json.load(f)\n",
    "    \n",
    "    abstracts = set()\n",
    "    results = []\n",
    "    \n",
    "    for r in data:\n",
    "        if r[\"abstract_id\"] not in abstracts:\n",
    "            abstracts.add(r[\"abstract_id\"])\n",
    "            results.append({\n",
    "                \"abstract_id\" : r[\"abstract_id\"],\n",
    "                 \"abstract\" : r[\"abstract\"]\n",
    "            })\n",
    "    return pd.DataFrame(results)\n",
    "\n",
    "\n",
    "def self_label(df):\n",
    "   \n",
    "\n",
    "    df[\"self_label\"] = df[\"abstract\"].apply(lambda x: any([ k.lower() in x.lower() for k in keywords1]) \n",
    "                                        and sum([  k.lower() in x.lower() for k in keywords2])>=2\n",
    "                                     \n",
    "                                       )\n",
    "    \n",
    "    \n",
    "    return df\n",
    "\n",
    "\n",
    "def randomly_replace_keywords(x):\n",
    "    np.random.seed(2020)\n",
    "    \n",
    "    \n",
    "    key_i = np.random.choice([0,1])\n",
    "    if key_i == 0:\n",
    "        for k in keywords1:\n",
    "            insensitive = re.compile(re.escape(k), re.IGNORECASE)\n",
    "            x = insensitive.sub(\"\", x)\n",
    "    else:\n",
    "        for k in keywords2:\n",
    "            insensitive = re.compile(re.escape(k), re.IGNORECASE)\n",
    "            x = insensitive.sub(\"\", x)\n",
    "    return x\n",
    "\n",
    "def create_negative_samples(df):\n",
    "    \n",
    "    remove_n = len(df.query(\"self_label == True\"))\n",
    "    df_negative = df.query(\"self_label == False\")\n",
    "    drop_indices =np.random.choice(df_negative.index, remove_n, replace=False)\n",
    "    df_subset_negative = df_negative[ ~df_negative.index.isin (drop_indices)].copy(deep=True)\n",
    "    df_subset_negative[\"is_fake\"] = False\n",
    "    \n",
    "    df_fake = df.query(\"self_label == True\").copy(deep=True)\n",
    "    df_fake[\"abstract\"] = df_fake[\"abstract\"].apply(randomly_replace_keywords)\n",
    "    df_fake[\"abstract_id\"] = df_fake[\"abstract_id\"].apply(lambda x: f\"{x}_1\")\n",
    "    df_fake = df_fake.pipe(self_label)\n",
    "    df_fake[\"is_fake\"] = True\n",
    "    \n",
    "    df_true = df.query(\"self_label == True\").copy(deep=True)\n",
    "    df_true[\"is_fake\"]= False\n",
    "    \n",
    "    df = pd.concat([df_subset_negative, \n",
    "                    df_true,\n",
    "                    df_fake\n",
    "                    \n",
    "                   ])\n",
    "    df = df.reset_index()\n",
    "    return df"
   ]
  },
  {
   "cell_type": "code",
   "execution_count": 4,
   "metadata": {},
   "outputs": [],
   "source": [
    "df_train_unique = load_unique_abstract(train_data_file).pipe(self_label)\n",
    "df_test_unique = load_unique_abstract(test_data_file).pipe(self_label)\n",
    "df_val_unique = load_unique_abstract(val_data_file).pipe(self_label)"
   ]
  },
  {
   "cell_type": "code",
   "execution_count": 5,
   "metadata": {},
   "outputs": [],
   "source": [
    "df_train_fake = df_train_unique.pipe(create_negative_samples)\n",
    "df_test_fake = df_test_unique.pipe(create_negative_samples)\n",
    "df_val_fake = df_val_unique.pipe(create_negative_samples)"
   ]
  },
  {
   "cell_type": "code",
   "execution_count": 6,
   "metadata": {},
   "outputs": [
    {
     "data": {
      "text/html": [
       "<div>\n",
       "<style scoped>\n",
       "    .dataframe tbody tr th:only-of-type {\n",
       "        vertical-align: middle;\n",
       "    }\n",
       "\n",
       "    .dataframe tbody tr th {\n",
       "        vertical-align: top;\n",
       "    }\n",
       "\n",
       "    .dataframe thead th {\n",
       "        text-align: right;\n",
       "    }\n",
       "</style>\n",
       "<table border=\"1\" class=\"dataframe\">\n",
       "  <thead>\n",
       "    <tr style=\"text-align: right;\">\n",
       "      <th></th>\n",
       "      <th>abstract_id</th>\n",
       "      <th>abstract</th>\n",
       "      <th>self_label</th>\n",
       "    </tr>\n",
       "  </thead>\n",
       "  <tbody>\n",
       "    <tr>\n",
       "      <th>0</th>\n",
       "      <td>10047461</td>\n",
       "      <td>Cyclin E-cdk2 activation is associated with ce...</td>\n",
       "      <td>False</td>\n",
       "    </tr>\n",
       "    <tr>\n",
       "      <th>1</th>\n",
       "      <td>10095983</td>\n",
       "      <td>New aspects in the management of obesity: oper...</td>\n",
       "      <td>False</td>\n",
       "    </tr>\n",
       "    <tr>\n",
       "      <th>2</th>\n",
       "      <td>10200320</td>\n",
       "      <td>Cyclopentenone prostaglandins suppress activat...</td>\n",
       "      <td>True</td>\n",
       "    </tr>\n",
       "  </tbody>\n",
       "</table>\n",
       "</div>"
      ],
      "text/plain": [
       "  abstract_id                                           abstract  self_label\n",
       "0    10047461  Cyclin E-cdk2 activation is associated with ce...       False\n",
       "1    10095983  New aspects in the management of obesity: oper...       False\n",
       "2    10200320  Cyclopentenone prostaglandins suppress activat...        True"
      ]
     },
     "execution_count": 6,
     "metadata": {},
     "output_type": "execute_result"
    }
   ],
   "source": [
    "df_train_unique.head(n=3)"
   ]
  },
  {
   "cell_type": "code",
   "execution_count": 7,
   "metadata": {},
   "outputs": [
    {
     "data": {
      "text/plain": [
       "False    628\n",
       "True     139\n",
       "Name: self_label, dtype: int64"
      ]
     },
     "execution_count": 7,
     "metadata": {},
     "output_type": "execute_result"
    }
   ],
   "source": [
    "df_train_unique[\"self_label\"].value_counts()"
   ]
  },
  {
   "cell_type": "code",
   "execution_count": 8,
   "metadata": {},
   "outputs": [
    {
     "data": {
      "text/plain": [
       "False    513\n",
       "True     107\n",
       "Name: self_label, dtype: int64"
      ]
     },
     "execution_count": 8,
     "metadata": {},
     "output_type": "execute_result"
    }
   ],
   "source": [
    "df_test_unique[\"self_label\"].value_counts()"
   ]
  },
  {
   "cell_type": "code",
   "execution_count": 9,
   "metadata": {},
   "outputs": [
    {
     "data": {
      "text/plain": [
       "False    371\n",
       "True      72\n",
       "Name: self_label, dtype: int64"
      ]
     },
     "execution_count": 9,
     "metadata": {},
     "output_type": "execute_result"
    }
   ],
   "source": [
    "df_val_unique[\"self_label\"].value_counts()"
   ]
  },
  {
   "cell_type": "code",
   "execution_count": 10,
   "metadata": {},
   "outputs": [
    {
     "data": {
      "text/plain": [
       "False    628\n",
       "True     139\n",
       "Name: self_label, dtype: int64"
      ]
     },
     "execution_count": 10,
     "metadata": {},
     "output_type": "execute_result"
    }
   ],
   "source": [
    "df_train_fake[\"self_label\"].value_counts()"
   ]
  },
  {
   "cell_type": "code",
   "execution_count": 11,
   "metadata": {},
   "outputs": [
    {
     "data": {
      "text/plain": [
       "is_fake  self_label\n",
       "False    False         489\n",
       "         True          139\n",
       "True     False         139\n",
       "dtype: int64"
      ]
     },
     "execution_count": 11,
     "metadata": {},
     "output_type": "execute_result"
    }
   ],
   "source": [
    "df_train_fake.groupby([\"is_fake\",\"self_label\"]).size()"
   ]
  },
  {
   "cell_type": "code",
   "execution_count": 12,
   "metadata": {},
   "outputs": [
    {
     "data": {
      "text/html": [
       "<div>\n",
       "<style scoped>\n",
       "    .dataframe tbody tr th:only-of-type {\n",
       "        vertical-align: middle;\n",
       "    }\n",
       "\n",
       "    .dataframe tbody tr th {\n",
       "        vertical-align: top;\n",
       "    }\n",
       "\n",
       "    .dataframe thead th {\n",
       "        text-align: right;\n",
       "    }\n",
       "</style>\n",
       "<table border=\"1\" class=\"dataframe\">\n",
       "  <thead>\n",
       "    <tr style=\"text-align: right;\">\n",
       "      <th></th>\n",
       "      <th>index</th>\n",
       "      <th>abstract_id</th>\n",
       "      <th>abstract</th>\n",
       "      <th>self_label</th>\n",
       "      <th>is_fake</th>\n",
       "    </tr>\n",
       "  </thead>\n",
       "  <tbody>\n",
       "    <tr>\n",
       "      <th>628</th>\n",
       "      <td>2</td>\n",
       "      <td>10200320_1</td>\n",
       "      <td>Cyclopentenone prostaglandins suppress  of mic...</td>\n",
       "      <td>False</td>\n",
       "      <td>True</td>\n",
       "    </tr>\n",
       "    <tr>\n",
       "      <th>629</th>\n",
       "      <td>3</td>\n",
       "      <td>10207608_1</td>\n",
       "      <td>Phospholipase A2 ors p-bromophenacyl bromide a...</td>\n",
       "      <td>False</td>\n",
       "      <td>True</td>\n",
       "    </tr>\n",
       "  </tbody>\n",
       "</table>\n",
       "</div>"
      ],
      "text/plain": [
       "     index abstract_id                                           abstract  \\\n",
       "628      2  10200320_1  Cyclopentenone prostaglandins suppress  of mic...   \n",
       "629      3  10207608_1  Phospholipase A2 ors p-bromophenacyl bromide a...   \n",
       "\n",
       "     self_label  is_fake  \n",
       "628       False     True  \n",
       "629       False     True  "
      ]
     },
     "execution_count": 12,
     "metadata": {},
     "output_type": "execute_result"
    }
   ],
   "source": [
    "df_train_fake.query(\"is_fake==True\").head(n=2)"
   ]
  },
  {
   "cell_type": "code",
   "execution_count": 13,
   "metadata": {},
   "outputs": [
    {
     "data": {
      "text/plain": [
       "False    371\n",
       "True      72\n",
       "Name: self_label, dtype: int64"
      ]
     },
     "execution_count": 13,
     "metadata": {},
     "output_type": "execute_result"
    }
   ],
   "source": [
    "df_val_fake[\"self_label\"].value_counts()"
   ]
  },
  {
   "cell_type": "code",
   "execution_count": 14,
   "metadata": {},
   "outputs": [
    {
     "data": {
      "text/plain": [
       "False    513\n",
       "True     107\n",
       "Name: self_label, dtype: int64"
      ]
     },
     "execution_count": 14,
     "metadata": {},
     "output_type": "execute_result"
    }
   ],
   "source": [
    "df_test_fake[\"self_label\"].value_counts()"
   ]
  },
  {
   "cell_type": "code",
   "execution_count": 15,
   "metadata": {},
   "outputs": [],
   "source": [
    "def upload_to_s3(df, s3_dest):\n",
    "    b = io.StringIO()\n",
    "    df.to_json(b)\n",
    "    \n",
    "    sagemaker.s3.S3Uploader.upload_string_as_file_body(b.getvalue(), s3_dest)"
   ]
  },
  {
   "cell_type": "code",
   "execution_count": 16,
   "metadata": {},
   "outputs": [],
   "source": [
    "def create_sample(df):\n",
    "    b = io.StringIO()\n",
    "    df.sample(n=10).to_json(\"self-supervised-sample.json\")\n",
    "    \n"
   ]
  },
  {
   "cell_type": "code",
   "execution_count": 17,
   "metadata": {},
   "outputs": [],
   "source": [
    "create_sample(df_train_unique)"
   ]
  },
  {
   "cell_type": "code",
   "execution_count": 18,
   "metadata": {},
   "outputs": [],
   "source": [
    "upload_to_s3(df_train_unique, \"s3://aegovan-data/self-supervised/train.json\" )\n",
    "upload_to_s3(df_val_unique, \"s3://aegovan-data/self-supervised/val.json\" )\n",
    "upload_to_s3(df_test_unique, \"s3://aegovan-data/self-supervised/test.json\" )"
   ]
  },
  {
   "cell_type": "code",
   "execution_count": 19,
   "metadata": {},
   "outputs": [],
   "source": [
    "upload_to_s3(df_train_fake, \"s3://aegovan-data/self-supervised-fake/train.json\" )\n",
    "upload_to_s3(df_val_fake, \"s3://aegovan-data/self-supervised-fake/val.json\" )\n",
    "upload_to_s3(df_test_fake, \"s3://aegovan-data/self-supervised-fake/test.json\" )"
   ]
  }
 ],
 "metadata": {
  "kernelspec": {
   "display_name": "Python 3 (ipykernel)",
   "language": "python",
   "name": "python3"
  },
  "language_info": {
   "codemirror_mode": {
    "name": "ipython",
    "version": 3
   },
   "file_extension": ".py",
   "mimetype": "text/x-python",
   "name": "python",
   "nbconvert_exporter": "python",
   "pygments_lexer": "ipython3",
   "version": "3.7.9"
  }
 },
 "nbformat": 4,
 "nbformat_minor": 1
}