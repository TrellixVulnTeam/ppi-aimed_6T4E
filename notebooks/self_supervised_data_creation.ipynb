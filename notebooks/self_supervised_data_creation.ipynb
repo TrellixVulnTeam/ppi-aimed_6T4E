{
 "cells": [
  {
   "cell_type": "markdown",
   "metadata": {},
   "source": [
    "### Create self supervised dataset"
   ]
  },
  {
   "cell_type": "code",
   "execution_count": 1,
   "metadata": {},
   "outputs": [],
   "source": [
    "import pandas as pd\n",
    "import numpy as np\n",
    "import json\n",
    "import sagemaker,  io\n",
    "import re"
   ]
  },
  {
   "cell_type": "code",
   "execution_count": 2,
   "metadata": {},
   "outputs": [],
   "source": [
    "train_data_file = \"../chemprot_abstract_train.json\"\n",
    "test_data_file = \"../chemprot_abstract_test.json\"\n",
    "val_data_file = \"../chemprot_abstract_val.json\""
   ]
  },
  {
   "cell_type": "code",
   "execution_count": 3,
   "metadata": {},
   "outputs": [],
   "source": [
    "keywords1 = [\"activation\", \"trigger\", \"interact\", \"inhibit\", \"regulat\", \"supress\"]\n",
    "\n",
    "keywords2 = [\"gene\", \"protein\", \"chemical\"]\n",
    "\n",
    "\n",
    "\n",
    "    \n",
    "def load_unique_abstract(datafile):\n",
    "    with open(datafile) as f:\n",
    "        data = json.load(f)\n",
    "    \n",
    "    abstracts = set()\n",
    "    results = []\n",
    "    \n",
    "    for r in data:\n",
    "        if r[\"abstract_id\"] not in abstracts:\n",
    "            abstracts.add(r[\"abstract_id\"])\n",
    "            results.append({\n",
    "                \"abstract_id\" : r[\"abstract_id\"],\n",
    "                 \"abstract\" : r[\"abstract\"]\n",
    "            })\n",
    "    return pd.DataFrame(results)\n",
    "\n",
    "\n",
    "def self_label(df):\n",
    "   \n",
    "\n",
    "    df[\"self_label\"] = df[\"abstract\"].apply(lambda x: any([ k.lower() in x.lower() for k in keywords1]) \n",
    "                                        and sum([  k.lower() in x.lower() for k in keywords2])>=2\n",
    "                                     \n",
    "                                       )\n",
    "    \n",
    "    \n",
    "    return df\n",
    "\n",
    "\n",
    "def randomly_substitute_keywords(x):\n",
    "    words = x.split(\" \")\n",
    "    \n",
    "    key_i = np.random.choice([0,1])\n",
    "    if key_i == 0:\n",
    "        for k in keywords1:\n",
    "            insensitive = re.compile(re.escape(k), re.IGNORECASE)\n",
    "            w =  np.random.randint(0,len(words)-1)\n",
    "            x = insensitive.sub(words[w], x)\n",
    "    else:\n",
    "        for k in keywords2:\n",
    "            insensitive = re.compile(re.escape(k), re.IGNORECASE)\n",
    "            w =  np.random.randint(0,len(words)-1)\n",
    "            x = insensitive.sub(words[w], x)\n",
    "    return x\n",
    "\n",
    "def randomly_add_keywords(x):\n",
    "    \n",
    "    key_i1 = np.random.randint(0,len(keywords1)-1)\n",
    "    key_i2 = np.random.randint(0,len(keywords2)-1)\n",
    "    \n",
    "    key_1 = keywords1[key_i1]\n",
    "    keys_2 = keywords2[:key_i2] + keywords2[key_i2+1:]\n",
    "        \n",
    "    words = x.split(\" \")\n",
    "    l1 =  np.random.randint(0,len(words)-1)\n",
    "    l2 =  np.random.randint(0,len(words)-1)\n",
    "    l3 =  np.random.randint(0,len(words)-1)\n",
    "    \n",
    "    words.insert(l1, key_1)\n",
    "    words.insert(l2, keys_2[0])\n",
    "    words.insert(l3, keys_2[1])\n",
    "\n",
    "    return \" \".join(words)\n",
    "\n"
   ]
  },
  {
   "cell_type": "code",
   "execution_count": 4,
   "metadata": {},
   "outputs": [],
   "source": [
    "df_train_unique = load_unique_abstract(train_data_file).pipe(self_label)\n",
    "df_test_unique = load_unique_abstract(test_data_file).pipe(self_label)\n",
    "df_val_unique = load_unique_abstract(val_data_file).pipe(self_label)"
   ]
  },
  {
   "cell_type": "code",
   "execution_count": null,
   "metadata": {},
   "outputs": [],
   "source": []
  },
  {
   "cell_type": "code",
   "execution_count": 5,
   "metadata": {},
   "outputs": [
    {
     "data": {
      "text/html": [
       "<div>\n",
       "<style scoped>\n",
       "    .dataframe tbody tr th:only-of-type {\n",
       "        vertical-align: middle;\n",
       "    }\n",
       "\n",
       "    .dataframe tbody tr th {\n",
       "        vertical-align: top;\n",
       "    }\n",
       "\n",
       "    .dataframe thead th {\n",
       "        text-align: right;\n",
       "    }\n",
       "</style>\n",
       "<table border=\"1\" class=\"dataframe\">\n",
       "  <thead>\n",
       "    <tr style=\"text-align: right;\">\n",
       "      <th></th>\n",
       "      <th>abstract_id</th>\n",
       "      <th>abstract</th>\n",
       "      <th>self_label</th>\n",
       "    </tr>\n",
       "  </thead>\n",
       "  <tbody>\n",
       "    <tr>\n",
       "      <th>0</th>\n",
       "      <td>10047461</td>\n",
       "      <td>Cyclin E-cdk2 activation is associated with ce...</td>\n",
       "      <td>False</td>\n",
       "    </tr>\n",
       "    <tr>\n",
       "      <th>1</th>\n",
       "      <td>10095983</td>\n",
       "      <td>New aspects in the management of obesity: oper...</td>\n",
       "      <td>False</td>\n",
       "    </tr>\n",
       "    <tr>\n",
       "      <th>2</th>\n",
       "      <td>10200320</td>\n",
       "      <td>Cyclopentenone prostaglandins suppress activat...</td>\n",
       "      <td>True</td>\n",
       "    </tr>\n",
       "  </tbody>\n",
       "</table>\n",
       "</div>"
      ],
      "text/plain": [
       "  abstract_id                                           abstract  self_label\n",
       "0    10047461  Cyclin E-cdk2 activation is associated with ce...       False\n",
       "1    10095983  New aspects in the management of obesity: oper...       False\n",
       "2    10200320  Cyclopentenone prostaglandins suppress activat...        True"
      ]
     },
     "execution_count": 5,
     "metadata": {},
     "output_type": "execute_result"
    }
   ],
   "source": [
    "df_train_unique.head(n=3)"
   ]
  },
  {
   "cell_type": "code",
   "execution_count": 6,
   "metadata": {},
   "outputs": [
    {
     "data": {
      "text/plain": [
       "False    628\n",
       "True     139\n",
       "Name: self_label, dtype: int64"
      ]
     },
     "execution_count": 6,
     "metadata": {},
     "output_type": "execute_result"
    }
   ],
   "source": [
    "df_train_unique[\"self_label\"].value_counts()"
   ]
  },
  {
   "cell_type": "code",
   "execution_count": 7,
   "metadata": {},
   "outputs": [
    {
     "data": {
      "text/plain": [
       "False    513\n",
       "True     107\n",
       "Name: self_label, dtype: int64"
      ]
     },
     "execution_count": 7,
     "metadata": {},
     "output_type": "execute_result"
    }
   ],
   "source": [
    "df_test_unique[\"self_label\"].value_counts()"
   ]
  },
  {
   "cell_type": "code",
   "execution_count": 8,
   "metadata": {},
   "outputs": [
    {
     "data": {
      "text/plain": [
       "False    371\n",
       "True      72\n",
       "Name: self_label, dtype: int64"
      ]
     },
     "execution_count": 8,
     "metadata": {},
     "output_type": "execute_result"
    }
   ],
   "source": [
    "df_val_unique[\"self_label\"].value_counts()"
   ]
  },
  {
   "cell_type": "code",
   "execution_count": 9,
   "metadata": {},
   "outputs": [],
   "source": [
    "def upload_to_s3(df, s3_dest):\n",
    "    b = io.StringIO()\n",
    "    df.to_json(b)\n",
    "    \n",
    "    sagemaker.s3.S3Uploader.upload_string_as_file_body(b.getvalue(), s3_dest)"
   ]
  },
  {
   "cell_type": "code",
   "execution_count": 10,
   "metadata": {},
   "outputs": [],
   "source": [
    "def create_sample(df):\n",
    "    b = io.StringIO()\n",
    "    df.sample(n=10).to_json(\"self-supervised-sample.json\")\n",
    "    \n"
   ]
  },
  {
   "cell_type": "code",
   "execution_count": 11,
   "metadata": {},
   "outputs": [],
   "source": [
    "create_sample(df_train_unique)"
   ]
  },
  {
   "cell_type": "code",
   "execution_count": 12,
   "metadata": {},
   "outputs": [],
   "source": [
    "upload_to_s3(df_train_unique, \"s3://aegovan-data/self-supervised/train.json\" )\n",
    "upload_to_s3(df_val_unique, \"s3://aegovan-data/self-supervised/val.json\" )\n",
    "upload_to_s3(df_test_unique, \"s3://aegovan-data/self-supervised/test.json\" )"
   ]
  },
  {
   "cell_type": "code",
   "execution_count": 13,
   "metadata": {},
   "outputs": [],
   "source": [
    "def synthetize_abstract(label, abstract):\n",
    "    if label == True:\n",
    "        return randomly_substitute_keywords(abstract)\n",
    "    else:\n",
    "        return randomly_add_keywords(abstract)\n",
    "\n",
    "def drop_n_subsititue(df,  synthetic_size ):\n",
    "    synth_i = 0\n",
    "    \n",
    "    result = [df]\n",
    "    \n",
    "    while  synth_i < synthetic_size:\n",
    "        sample_size = min(len(df),  synthetic_size-synth_i)\n",
    "        \n",
    "        synthetic_indices = np.random.choice(df.index, sample_size, replace=False)\n",
    "        \n",
    "   \n",
    "        df_substitute = df[ df.index.isin (synthetic_indices)].copy(deep=True)\n",
    "\n",
    "        df_substitute[\"abstract\"] = df_substitute.apply(lambda r:synthetize_abstract(r[\"self_label\"],r[\"abstract\"]),  axis=1)\n",
    "        df_substitute[\"abstract_id\"] = df_substitute[\"abstract_id\"].apply(lambda x: f\"{x}_1\")\n",
    "        df_substitute[\"is_synthetic\"] = True\n",
    "        result.append(df_substitute)\n",
    "        \n",
    "        synth_i += sample_size\n",
    "\n",
    "    \n",
    "    df_result = pd.concat(result).reset_index()\n",
    "    \n",
    "    df_result = df_result.pipe(self_label)\n",
    "    \n",
    "    \n",
    "    assert len(df_result) == len(df) + synthetic_size, f\"Length do not match {len(df_result)} =={ len(df)+synthetic_size}\"\n",
    "    \n",
    "    return df_result\n",
    "\n",
    "\n",
    "def create_synthetic_samples(df, duplicate_ratio = .1):\n",
    "    \n",
    "    df_orig_pos = df.query(\"self_label == True\")\n",
    "    df_orig_neg = df.query(\"self_label == False\")\n",
    "\n",
    "    synthetic_size= int(len(df_orig_neg) * duplicate_ratio)\n",
    "    df_pos = drop_n_subsititue(df_orig_pos, synthetic_size)\n",
    "    \n",
    "    synthetic_size= int(len(df_orig_pos) * duplicate_ratio)\n",
    "    df_neg = drop_n_subsititue(df_orig_neg,  synthetic_size)\n",
    "    df = pd.concat([df_pos, df_neg]).reset_index()\n",
    "    \n",
    "    return df\n",
    "    \n",
    "    \n",
    "    "
   ]
  },
  {
   "cell_type": "code",
   "execution_count": 14,
   "metadata": {},
   "outputs": [
    {
     "data": {
      "text/plain": [
       "(139, 3)"
      ]
     },
     "execution_count": 14,
     "metadata": {},
     "output_type": "execute_result"
    }
   ],
   "source": [
    "df_train_unique.query(\"self_label == True\").shape"
   ]
  },
  {
   "cell_type": "code",
   "execution_count": 15,
   "metadata": {},
   "outputs": [],
   "source": [
    "def create_fake():\n",
    "    ratios = [.5, 1,2,3,4,5,6,7, 8, 9, 10 ]\n",
    "    for r in ratios:\n",
    "        df_train_fake = df_train_unique.pipe(create_synthetic_samples, r).drop_duplicates(subset=['abstract'])\n",
    "        df_test_fake = df_test_unique.pipe(create_synthetic_samples, r).drop_duplicates(subset=['abstract'])\n",
    "        df_val_fake = df_val_unique.pipe(create_synthetic_samples, r).drop_duplicates(subset=['abstract'])\n",
    "\n",
    "        true_label = df_train_fake.query(\"self_label == True\").shape[0]\n",
    "        unique = df_train_fake[\"abstract_id\"].apply(lambda x: x.split(\"_\")[0]).nunique()\n",
    "        total = df_train_fake.shape[0]\n",
    "        \n",
    "\n",
    "        suffix=f\"{total}_{unique}_{true_label}\"\n",
    "        \n",
    "        print(suffix, true_label/total)\n",
    "        \n",
    "        upload_to_s3(df_train_fake, f\"s3://aegovan-data/self-supervised-fake/{suffix}/train.json\" )\n",
    "        upload_to_s3(df_val_fake, f\"s3://aegovan-data/self-supervised-fake/{suffix}/val.json\" )\n",
    "        upload_to_s3(df_test_fake, f\"s3://aegovan-data/self-supervised-fake/{suffix}/test.json\" )\n",
    "        \n",
    "\n",
    "\n",
    "\n"
   ]
  },
  {
   "cell_type": "code",
   "execution_count": 16,
   "metadata": {},
   "outputs": [
    {
     "name": "stdout",
     "output_type": "stream",
     "text": [
      "1149_767_213 0.185378590078329\n",
      "1531_767_286 0.1868060091443501\n",
      "2293_767_445 0.19406890536415178\n",
      "3048_767_573 0.18799212598425197\n",
      "3805_767_723 0.1900131406044678\n",
      "4558_767_882 0.193505923650724\n",
      "5271_767_1026 0.19464997154240182\n",
      "6021_767_1164 0.1933233682112606\n",
      "6754_767_1302 0.19277465205803967\n",
      "7482_767_1465 0.19580326116011762\n",
      "8217_767_1593 0.19386637458926614\n"
     ]
    }
   ],
   "source": [
    "create_fake()"
   ]
  }
 ],
 "metadata": {
  "kernelspec": {
   "display_name": "Python 3 (ipykernel)",
   "language": "python",
   "name": "python3"
  },
  "language_info": {
   "codemirror_mode": {
    "name": "ipython",
    "version": 3
   },
   "file_extension": ".py",
   "mimetype": "text/x-python",
   "name": "python",
   "nbconvert_exporter": "python",
   "pygments_lexer": "ipython3",
   "version": "3.7.9"
  }
 },
 "nbformat": 4,
 "nbformat_minor": 1
}