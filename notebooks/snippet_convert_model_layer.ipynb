{
 "cells": [
  {
   "cell_type": "code",
   "execution_count": 1,
   "id": "sunset-software",
   "metadata": {},
   "outputs": [],
   "source": [
    "import os\n",
    "\n",
    "model_checkpoint=\"../temp_data/model-2\"\n",
    "output_checkpoint=\"../temp_data/model-2-7\""
   ]
  },
  {
   "cell_type": "code",
   "execution_count": 2,
   "id": "bottom-tracker",
   "metadata": {},
   "outputs": [],
   "source": [
    "from transformers import AutoConfig, AutoModelForTokenClassification"
   ]
  },
  {
   "cell_type": "code",
   "execution_count": 3,
   "id": "athletic-vessel",
   "metadata": {},
   "outputs": [],
   "source": [
    "config = AutoConfig.from_pretrained(model_checkpoint)\n",
    "config.num_labels = 7\n",
    "model = AutoModelForTokenClassification.from_config(config)"
   ]
  },
  {
   "cell_type": "code",
   "execution_count": 4,
   "id": "thrown-rotation",
   "metadata": {},
   "outputs": [],
   "source": [
    "model.save_pretrained(output_checkpoint)"
   ]
  }
 ],
 "metadata": {
  "kernelspec": {
   "display_name": "Python 3",
   "language": "python",
   "name": "python3"
  },
  "language_info": {
   "codemirror_mode": {
    "name": "ipython",
    "version": 3
   },
   "file_extension": ".py",
   "mimetype": "text/x-python",
   "name": "python",
   "nbconvert_exporter": "python",
   "pygments_lexer": "ipython3",
   "version": "3.7.4"
  }
 },
 "nbformat": 4,
 "nbformat_minor": 5
}
