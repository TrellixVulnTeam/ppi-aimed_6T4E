{
 "cells": [
  {
   "cell_type": "code",
   "execution_count": 1,
   "id": "sunset-software",
   "metadata": {},
   "outputs": [],
   "source": [
    "import os\n",
    "\n",
    "temp_dir=\"../temp_data/temp_model_dir\"\n",
    "temp_dir_model_original = os.path.join(temp_dir, \"original\")\n",
    "temp_dir_model_updated = os.path.join(temp_dir, \"updated\")\n",
    "\n",
    "model_original_url = \"s3://aegovan-data/sagemakerresults/aimed-bert-unique-1fold-loss-2021-05-13-18-00-33-913/output/model.tar.gz\"\n",
    "model_updated_url = \"s3://aegovan-data/embeddings/bert_aimed/bert_lowestloss\"\n",
    "\n",
    "\n",
    "\n"
   ]
  },
  {
   "cell_type": "code",
   "execution_count": 2,
   "id": "designed-clark",
   "metadata": {},
   "outputs": [],
   "source": [
    "get_s3_bucket_name = lambda x: x.split(\"//\")[1].split(\"/\")[0]\n",
    "get_s3_bucket_key = lambda x: \"/\".join( x.split(\"//\")[1].split(\"/\")[1:])"
   ]
  },
  {
   "cell_type": "code",
   "execution_count": 3,
   "id": "collective-alert",
   "metadata": {},
   "outputs": [
    {
     "data": {
      "text/plain": [
       "'sagemakerresults/aimed-bert-unique-1fold-loss-2021-05-13-18-00-33-913/output/model.tar.gz'"
      ]
     },
     "execution_count": 3,
     "metadata": {},
     "output_type": "execute_result"
    }
   ],
   "source": [
    "get_s3_bucket_key(model_original_url)"
   ]
  },
  {
   "cell_type": "code",
   "execution_count": 4,
   "id": "absent-database",
   "metadata": {},
   "outputs": [],
   "source": [
    "import sagemaker, shutil\n",
    "sm_session = sagemaker.session.Session()"
   ]
  },
  {
   "cell_type": "code",
   "execution_count": 5,
   "id": "noted-velvet",
   "metadata": {},
   "outputs": [],
   "source": [
    "sm_session.download_data(temp_dir_model_original, \n",
    "                         get_s3_bucket_name(model_original_url), \n",
    "                         get_s3_bucket_key(model_original_url) )"
   ]
  },
  {
   "cell_type": "code",
   "execution_count": 6,
   "id": "legislative-attitude",
   "metadata": {},
   "outputs": [],
   "source": [
    "import tarfile\n",
    "\n",
    "with tarfile.open(os.path.join(temp_dir_model_original, \"model.tar.gz\"), \"r:gz\") as so:\n",
    "    so.extractall(path=temp_dir_model_original)"
   ]
  },
  {
   "cell_type": "code",
   "execution_count": 7,
   "id": "bottom-tracker",
   "metadata": {},
   "outputs": [],
   "source": [
    "from transformers import BertForSequenceClassification"
   ]
  },
  {
   "cell_type": "code",
   "execution_count": 8,
   "id": "nutritional-wireless",
   "metadata": {},
   "outputs": [],
   "source": [
    "import torch.nn as nn \n",
    "\n",
    "num_labels = 7 \n",
    "\n",
    "bert_model = BertForSequenceClassification.from_pretrained(temp_dir_model_original)\n",
    "bert_model.classifier = nn.Linear(bert_model.classifier.in_features, 7)\n",
    "\n",
    "bert_model.save_pretrained(temp_dir_model_updated)\n",
    "\n"
   ]
  },
  {
   "cell_type": "code",
   "execution_count": 9,
   "id": "thrown-rotation",
   "metadata": {},
   "outputs": [
    {
     "data": {
      "text/plain": [
       "'s3://aegovan-data/embeddings/bert_aimed/bert_lowestloss'"
      ]
     },
     "execution_count": 9,
     "metadata": {},
     "output_type": "execute_result"
    }
   ],
   "source": [
    "sm_session.upload_data(temp_dir_model_updated, \n",
    "                         get_s3_bucket_name(model_updated_url), \n",
    "                         get_s3_bucket_key(model_updated_url) )"
   ]
  },
  {
   "cell_type": "code",
   "execution_count": 10,
   "id": "peripheral-flexibility",
   "metadata": {},
   "outputs": [],
   "source": [
    "shutil.rmtree(temp_dir)"
   ]
  }
 ],
 "metadata": {
  "kernelspec": {
   "display_name": "Python 3",
   "language": "python",
   "name": "python3"
  },
  "language_info": {
   "codemirror_mode": {
    "name": "ipython",
    "version": 3
   },
   "file_extension": ".py",
   "mimetype": "text/x-python",
   "name": "python",
   "nbconvert_exporter": "python",
   "pygments_lexer": "ipython3",
   "version": "3.7.4"
  }
 },
 "nbformat": 4,
 "nbformat_minor": 5
}
