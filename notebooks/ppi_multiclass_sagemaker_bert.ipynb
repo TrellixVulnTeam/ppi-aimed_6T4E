{
 "cells": [
  {
   "cell_type": "markdown",
   "metadata": {},
   "source": [
    "### Set up"
   ]
  },
  {
   "cell_type": "markdown",
   "metadata": {},
   "source": [
    "#### 1. Set  up  accounts and role"
   ]
  },
  {
   "cell_type": "code",
   "execution_count": 1,
   "metadata": {},
   "outputs": [],
   "source": [
    "import sagemaker\n",
    "import boto3\n",
    "from uuid import uuid4\n",
    "\n",
    "sagemaker_session = sagemaker.Session()\n",
    "account_id =  boto3.client('sts').get_caller_identity().get('Account')\n",
    "region = boto3.session.Session().region_name\n",
    "\n",
    "\n",
    "#role = sagemaker.get_execution_role()\n",
    "role=\"arn:aws:iam::{}:role/service-role/AmazonSageMaker-ExecutionRole-20190118T115449\".format(account_id)\n",
    "max_runs=1"
   ]
  },
  {
   "cell_type": "markdown",
   "metadata": {},
   "source": [
    "#### 2. Setup image and instance type"
   ]
  },
  {
   "cell_type": "code",
   "execution_count": 2,
   "metadata": {},
   "outputs": [],
   "source": [
    "# pytorch_custom_image_name=\"ppi-extractor:gpu-1.0.0-201910130520\"\n",
    "instance_type = \"ml.p3.2xlarge\"\n",
    "instance_type_gpu_map = {\"ml.p3.8xlarge\":4, \"ml.p3.2xlarge\": 1, \"ml.p3.16xlarge\":8}"
   ]
  },
  {
   "cell_type": "code",
   "execution_count": 3,
   "metadata": {},
   "outputs": [],
   "source": [
    "# docker_repo = \"{}.dkr.ecr.{}.amazonaws.com/{}\".format(account_id, region, pytorch_custom_image_name)"
   ]
  },
  {
   "cell_type": "markdown",
   "metadata": {},
   "source": [
    "#### 3. Configure train/ test and validation datasets"
   ]
  },
  {
   "cell_type": "code",
   "execution_count": 4,
   "metadata": {},
   "outputs": [],
   "source": [
    "bucket = \"aegovan-data\""
   ]
  },
  {
   "cell_type": "code",
   "execution_count": 5,
   "metadata": {},
   "outputs": [],
   "source": [
    "pretrained_bert=\"s3://{}/embeddings/bert/\".format(bucket)\n",
    "\n",
    "trainfile = \"s3://{}/processed_dataset/train_multiclass.json\".format(bucket)\n",
    "testfile= \"s3://{}/processed_dataset/test_multiclass.json\".format(bucket)\n",
    "valfile=\"s3://{}/processed_dataset/val_multiclass.json\".format(bucket)\n",
    "\n",
    "s3_output_path= \"s3://{}/ppi_multiclass_sagemakerresults/\".format(bucket)\n",
    "s3_code_path= \"s3://{}/ppi_bert_code\".format(bucket)\n",
    "s3_checkpoint = \"s3://{}/ppi_multiclass_bert_checkpoint/{}\".format(bucket, str(uuid4()))"
   ]
  },
  {
   "cell_type": "markdown",
   "metadata": {},
   "source": [
    "### Start training"
   ]
  },
  {
   "cell_type": "code",
   "execution_count": 6,
   "metadata": {},
   "outputs": [],
   "source": [
    "commit_id = \"dddc8b13126252f2278b1ea17597e7c6d4503d10\""
   ]
  },
  {
   "cell_type": "code",
   "execution_count": 7,
   "metadata": {},
   "outputs": [],
   "source": [
    "train_inputs = {\n",
    "    \"train\" : trainfile,\n",
    "    \"val\" : valfile,\n",
    "    \"PRETRAINED_MODEL\" : pretrained_bert\n",
    "}"
   ]
  },
  {
   "cell_type": "code",
   "execution_count": 8,
   "metadata": {},
   "outputs": [],
   "source": [
    "sm_localcheckpoint_dir=\"/opt/ml/checkpoints/\"\n"
   ]
  },
  {
   "cell_type": "code",
   "execution_count": 9,
   "metadata": {},
   "outputs": [],
   "source": [
    "BertNetworkFactoryhyperparameters = {\n",
    "    \"datasetfactory\":\"datasets.ppi_multiclass_dataset_factory.PpiMulticlassDatasetFactory\",\n",
    "    \"modelfactory\" :\"models.bert_model_factory.BertModelFactory\",\n",
    "    \"tokenisor_lower_case\":0,\n",
    "    \"uselosseval\":1,\n",
    "    \"batch\": \"8\" * instance_type_gpu_map[instance_type],\n",
    "    \"gradientaccumulationsteps\" : \"8\",\n",
    "    # \"protein_name_replacer_random_seed\":42,\n",
    "    \"epochs\" : \"500\",   \n",
    "    \"log-level\" : \"INFO\",\n",
    "    \"learningrate\":.00001,\n",
    "    \"earlystoppingpatience\":50,\n",
    "    \"checkpointdir\" : sm_localcheckpoint_dir,\n",
    "    # Checkpoints once every n epochs\n",
    "    \"checkpointfreq\": 2,\n",
    "    \"weight_decay\":0.01,\n",
    "    \"commit_id\" : commit_id\n",
    "\n",
    "\n",
    "\n",
    "}"
   ]
  },
  {
   "cell_type": "code",
   "execution_count": 10,
   "metadata": {},
   "outputs": [],
   "source": [
    "metric_definitions = [{\"Name\": \"TrainLoss\",\n",
    "                     \"Regex\": \"###score: train_loss### (\\d*[.]?\\d*)\"}\n",
    "                    ,{\"Name\": \"ValidationLoss\",\n",
    "                     \"Regex\": \"###score: val_loss### (\\d*[.]?\\d*)\"}\n",
    "                \n",
    "                    ,{\"Name\": \"TrainAucScore\",\n",
    "                     \"Regex\": \"###score: train_ResultScorerAucMacro_score### (\\d*[.]?\\d*)\"}\n",
    "                   ,{\"Name\": \"ValidationAucScore\",\n",
    "                     \"Regex\": \"###score: val_ResultScorerAucMacro_score### (\\d*[.]?\\d*)\"}\n",
    "                      \n",
    "                      \n",
    "                     ,{\"Name\": \"TrainF1MacroScore\",\n",
    "                     \"Regex\": \"###score: train_ResultScorerF1Macro_score### (\\d*[.]?\\d*)\"}\n",
    "                   ,{\"Name\": \"ValidationF1MacroScore\",\n",
    "                     \"Regex\": \"###score: val_ResultScorerF1Macro_score### (\\d*[.]?\\d*)\"}\n",
    "                    ]"
   ]
  },
  {
   "cell_type": "code",
   "execution_count": 11,
   "metadata": {},
   "outputs": [
    {
     "name": "stdout",
     "output_type": "stream",
     "text": [
      "commit c33a268805f9bb657f89c5526a42cf53f0c5f058\n",
      "    Adding weight decay - Update notebok\n"
     ]
    }
   ],
   "source": [
    "!git log -1 | head -1\n",
    "!git log -1 | head -5 | tail -1"
   ]
  },
  {
   "cell_type": "code",
   "execution_count": 12,
   "metadata": {},
   "outputs": [],
   "source": [
    "# set True if you need spot instance\n",
    "use_spot = False\n",
    "train_max_run_secs =   5 *24 * 60 * 60\n",
    "spot_wait_sec =  5 * 60\n",
    "max_wait_time_secs = train_max_run_secs +  spot_wait_sec\n",
    "\n",
    "if not use_spot:\n",
    "    max_wait_time_secs = None\n",
    "    \n",
    "# During local mode, no spot.., use smaller dataset\n",
    "if instance_type == 'local':\n",
    "    use_spot = False\n",
    "    max_wait_time_secs = 0\n",
    "    wait = True\n",
    "    # Use smaller dataset to run locally\n",
    "    inputs = inputs_sample"
   ]
  },
  {
   "cell_type": "code",
   "execution_count": 13,
   "metadata": {},
   "outputs": [],
   "source": [
    "hyperparameters = BertNetworkFactoryhyperparameters\n",
    "inputs = train_inputs \n",
    "base_name = \"ppimulticlass-bert\""
   ]
  },
  {
   "cell_type": "code",
   "execution_count": 14,
   "metadata": {},
   "outputs": [
    {
     "data": {
      "text/plain": [
       "{'datasetfactory': 'datasets.ppi_multiclass_dataset_factory.PpiMulticlassDatasetFactory',\n",
       " 'modelfactory': 'models.bert_model_factory.BertModelFactory',\n",
       " 'tokenisor_lower_case': 0,\n",
       " 'uselosseval': 1,\n",
       " 'batch': '8',\n",
       " 'gradientaccumulationsteps': '8',\n",
       " 'epochs': '500',\n",
       " 'log-level': 'INFO',\n",
       " 'learningrate': 1e-05,\n",
       " 'earlystoppingpatience': 50,\n",
       " 'checkpointdir': '/opt/ml/checkpoints/',\n",
       " 'checkpointfreq': 2,\n",
       " 'weight_decay': 0.01,\n",
       " 'commit_id': 'dddc8b13126252f2278b1ea17597e7c6d4503d10'}"
      ]
     },
     "execution_count": 14,
     "metadata": {},
     "output_type": "execute_result"
    }
   ],
   "source": [
    "hyperparameters"
   ]
  },
  {
   "cell_type": "code",
   "execution_count": 15,
   "metadata": {},
   "outputs": [],
   "source": [
    "git_config = {'repo': 'https://github.com/elangovana/ppi-aimed.git',\n",
    "              'branch': 'main',\n",
    "              'commit': hyperparameters[\"commit_id\"]\n",
    "             }"
   ]
  },
  {
   "cell_type": "code",
   "execution_count": 16,
   "metadata": {},
   "outputs": [
    {
     "data": {
      "text/plain": [
       "{'datasetfactory': 'datasets.ppi_multiclass_dataset_factory.PpiMulticlassDatasetFactory',\n",
       " 'modelfactory': 'models.bert_model_factory.BertModelFactory',\n",
       " 'tokenisor_lower_case': 0,\n",
       " 'uselosseval': 1,\n",
       " 'batch': '8',\n",
       " 'gradientaccumulationsteps': '8',\n",
       " 'epochs': '500',\n",
       " 'log-level': 'INFO',\n",
       " 'learningrate': 1e-05,\n",
       " 'earlystoppingpatience': 50,\n",
       " 'checkpointdir': '/opt/ml/checkpoints/',\n",
       " 'checkpointfreq': 2,\n",
       " 'weight_decay': 0.01,\n",
       " 'commit_id': 'dddc8b13126252f2278b1ea17597e7c6d4503d10'}"
      ]
     },
     "execution_count": 16,
     "metadata": {},
     "output_type": "execute_result"
    }
   ],
   "source": [
    "hyperparameters"
   ]
  },
  {
   "cell_type": "code",
   "execution_count": 17,
   "metadata": {},
   "outputs": [
    {
     "data": {
      "text/plain": [
       "{'train': 's3://aegovan-data/processed_dataset/train_multiclass.json',\n",
       " 'val': 's3://aegovan-data/processed_dataset/val_multiclass.json',\n",
       " 'PRETRAINED_MODEL': 's3://aegovan-data/embeddings/bert/'}"
      ]
     },
     "execution_count": 17,
     "metadata": {},
     "output_type": "execute_result"
    }
   ],
   "source": [
    "inputs"
   ]
  },
  {
   "cell_type": "code",
   "execution_count": 18,
   "metadata": {},
   "outputs": [
    {
     "ename": "ResourceLimitExceeded",
     "evalue": "An error occurred (ResourceLimitExceeded) when calling the CreateTrainingJob operation: The account-level service limit 'ml.p3.2xlarge for spot training job usage' is 2 Instances, with current utilization of 2 Instances and a request delta of 1 Instances. Please contact AWS support to request an increase for this limit.",
     "output_type": "error",
     "traceback": [
      "\u001B[0;31m---------------------------------------------------------------------------\u001B[0m",
      "\u001B[0;31mResourceLimitExceeded\u001B[0m                     Traceback (most recent call last)",
      "\u001B[0;32m<ipython-input-18-ecf74ca03ef6>\u001B[0m in \u001B[0;36m<module>\u001B[0;34m\u001B[0m\n\u001B[1;32m     25\u001B[0m                     checkpoint_local_path=sm_localcheckpoint_dir)\n\u001B[1;32m     26\u001B[0m \u001B[0;34m\u001B[0m\u001B[0m\n\u001B[0;32m---> 27\u001B[0;31m \u001B[0mestimator\u001B[0m\u001B[0;34m.\u001B[0m\u001B[0mfit\u001B[0m\u001B[0;34m(\u001B[0m\u001B[0minputs\u001B[0m\u001B[0;34m,\u001B[0m \u001B[0mwait\u001B[0m\u001B[0;34m=\u001B[0m\u001B[0;32mFalse\u001B[0m\u001B[0;34m)\u001B[0m\u001B[0;34m\u001B[0m\u001B[0;34m\u001B[0m\u001B[0m\n\u001B[0m",
      "\u001B[0;32m~/venv/ppi-aimed/lib/python3.7/site-packages/sagemaker/estimator.py\u001B[0m in \u001B[0;36mfit\u001B[0;34m(self, inputs, wait, logs, job_name, experiment_config)\u001B[0m\n\u001B[1;32m    667\u001B[0m         \u001B[0mself\u001B[0m\u001B[0;34m.\u001B[0m\u001B[0m_prepare_for_training\u001B[0m\u001B[0;34m(\u001B[0m\u001B[0mjob_name\u001B[0m\u001B[0;34m=\u001B[0m\u001B[0mjob_name\u001B[0m\u001B[0;34m)\u001B[0m\u001B[0;34m\u001B[0m\u001B[0;34m\u001B[0m\u001B[0m\n\u001B[1;32m    668\u001B[0m \u001B[0;34m\u001B[0m\u001B[0m\n\u001B[0;32m--> 669\u001B[0;31m         \u001B[0mself\u001B[0m\u001B[0;34m.\u001B[0m\u001B[0mlatest_training_job\u001B[0m \u001B[0;34m=\u001B[0m \u001B[0m_TrainingJob\u001B[0m\u001B[0;34m.\u001B[0m\u001B[0mstart_new\u001B[0m\u001B[0;34m(\u001B[0m\u001B[0mself\u001B[0m\u001B[0;34m,\u001B[0m \u001B[0minputs\u001B[0m\u001B[0;34m,\u001B[0m \u001B[0mexperiment_config\u001B[0m\u001B[0;34m)\u001B[0m\u001B[0;34m\u001B[0m\u001B[0;34m\u001B[0m\u001B[0m\n\u001B[0m\u001B[1;32m    670\u001B[0m         \u001B[0mself\u001B[0m\u001B[0;34m.\u001B[0m\u001B[0mjobs\u001B[0m\u001B[0;34m.\u001B[0m\u001B[0mappend\u001B[0m\u001B[0;34m(\u001B[0m\u001B[0mself\u001B[0m\u001B[0;34m.\u001B[0m\u001B[0mlatest_training_job\u001B[0m\u001B[0;34m)\u001B[0m\u001B[0;34m\u001B[0m\u001B[0;34m\u001B[0m\u001B[0m\n\u001B[1;32m    671\u001B[0m         \u001B[0;32mif\u001B[0m \u001B[0mwait\u001B[0m\u001B[0;34m:\u001B[0m\u001B[0;34m\u001B[0m\u001B[0;34m\u001B[0m\u001B[0m\n",
      "\u001B[0;32m~/venv/ppi-aimed/lib/python3.7/site-packages/sagemaker/estimator.py\u001B[0m in \u001B[0;36mstart_new\u001B[0;34m(cls, estimator, inputs, experiment_config)\u001B[0m\n\u001B[1;32m   1430\u001B[0m         \"\"\"\n\u001B[1;32m   1431\u001B[0m         \u001B[0mtrain_args\u001B[0m \u001B[0;34m=\u001B[0m \u001B[0mcls\u001B[0m\u001B[0;34m.\u001B[0m\u001B[0m_get_train_args\u001B[0m\u001B[0;34m(\u001B[0m\u001B[0mestimator\u001B[0m\u001B[0;34m,\u001B[0m \u001B[0minputs\u001B[0m\u001B[0;34m,\u001B[0m \u001B[0mexperiment_config\u001B[0m\u001B[0;34m)\u001B[0m\u001B[0;34m\u001B[0m\u001B[0;34m\u001B[0m\u001B[0m\n\u001B[0;32m-> 1432\u001B[0;31m         \u001B[0mestimator\u001B[0m\u001B[0;34m.\u001B[0m\u001B[0msagemaker_session\u001B[0m\u001B[0;34m.\u001B[0m\u001B[0mtrain\u001B[0m\u001B[0;34m(\u001B[0m\u001B[0;34m**\u001B[0m\u001B[0mtrain_args\u001B[0m\u001B[0;34m)\u001B[0m\u001B[0;34m\u001B[0m\u001B[0;34m\u001B[0m\u001B[0m\n\u001B[0m\u001B[1;32m   1433\u001B[0m \u001B[0;34m\u001B[0m\u001B[0m\n\u001B[1;32m   1434\u001B[0m         \u001B[0;32mreturn\u001B[0m \u001B[0mcls\u001B[0m\u001B[0;34m(\u001B[0m\u001B[0mestimator\u001B[0m\u001B[0;34m.\u001B[0m\u001B[0msagemaker_session\u001B[0m\u001B[0;34m,\u001B[0m \u001B[0mestimator\u001B[0m\u001B[0;34m.\u001B[0m\u001B[0m_current_job_name\u001B[0m\u001B[0;34m)\u001B[0m\u001B[0;34m\u001B[0m\u001B[0;34m\u001B[0m\u001B[0m\n",
      "\u001B[0;32m~/venv/ppi-aimed/lib/python3.7/site-packages/sagemaker/session.py\u001B[0m in \u001B[0;36mtrain\u001B[0;34m(self, input_mode, input_config, role, job_name, output_config, resource_config, vpc_config, hyperparameters, stop_condition, tags, metric_definitions, enable_network_isolation, image_uri, algorithm_arn, encrypt_inter_container_traffic, use_spot_instances, checkpoint_s3_uri, checkpoint_local_path, experiment_config, debugger_rule_configs, debugger_hook_config, tensorboard_output_config, enable_sagemaker_metrics, profiler_rule_configs, profiler_config, environment)\u001B[0m\n\u001B[1;32m    565\u001B[0m         \u001B[0mLOGGER\u001B[0m\u001B[0;34m.\u001B[0m\u001B[0minfo\u001B[0m\u001B[0;34m(\u001B[0m\u001B[0;34m\"Creating training-job with name: %s\"\u001B[0m\u001B[0;34m,\u001B[0m \u001B[0mjob_name\u001B[0m\u001B[0;34m)\u001B[0m\u001B[0;34m\u001B[0m\u001B[0;34m\u001B[0m\u001B[0m\n\u001B[1;32m    566\u001B[0m         \u001B[0mLOGGER\u001B[0m\u001B[0;34m.\u001B[0m\u001B[0mdebug\u001B[0m\u001B[0;34m(\u001B[0m\u001B[0;34m\"train request: %s\"\u001B[0m\u001B[0;34m,\u001B[0m \u001B[0mjson\u001B[0m\u001B[0;34m.\u001B[0m\u001B[0mdumps\u001B[0m\u001B[0;34m(\u001B[0m\u001B[0mtrain_request\u001B[0m\u001B[0;34m,\u001B[0m \u001B[0mindent\u001B[0m\u001B[0;34m=\u001B[0m\u001B[0;36m4\u001B[0m\u001B[0;34m)\u001B[0m\u001B[0;34m)\u001B[0m\u001B[0;34m\u001B[0m\u001B[0;34m\u001B[0m\u001B[0m\n\u001B[0;32m--> 567\u001B[0;31m         \u001B[0mself\u001B[0m\u001B[0;34m.\u001B[0m\u001B[0msagemaker_client\u001B[0m\u001B[0;34m.\u001B[0m\u001B[0mcreate_training_job\u001B[0m\u001B[0;34m(\u001B[0m\u001B[0;34m**\u001B[0m\u001B[0mtrain_request\u001B[0m\u001B[0;34m)\u001B[0m\u001B[0;34m\u001B[0m\u001B[0;34m\u001B[0m\u001B[0m\n\u001B[0m\u001B[1;32m    568\u001B[0m \u001B[0;34m\u001B[0m\u001B[0m\n\u001B[1;32m    569\u001B[0m     def _get_train_request(  # noqa: C901\n",
      "\u001B[0;32m~/venv/ppi-aimed/lib/python3.7/site-packages/botocore/client.py\u001B[0m in \u001B[0;36m_api_call\u001B[0;34m(self, *args, **kwargs)\u001B[0m\n\u001B[1;32m    355\u001B[0m                     \"%s() only accepts keyword arguments.\" % py_operation_name)\n\u001B[1;32m    356\u001B[0m             \u001B[0;31m# The \"self\" in this scope is referring to the BaseClient.\u001B[0m\u001B[0;34m\u001B[0m\u001B[0;34m\u001B[0m\u001B[0;34m\u001B[0m\u001B[0m\n\u001B[0;32m--> 357\u001B[0;31m             \u001B[0;32mreturn\u001B[0m \u001B[0mself\u001B[0m\u001B[0;34m.\u001B[0m\u001B[0m_make_api_call\u001B[0m\u001B[0;34m(\u001B[0m\u001B[0moperation_name\u001B[0m\u001B[0;34m,\u001B[0m \u001B[0mkwargs\u001B[0m\u001B[0;34m)\u001B[0m\u001B[0;34m\u001B[0m\u001B[0;34m\u001B[0m\u001B[0m\n\u001B[0m\u001B[1;32m    358\u001B[0m \u001B[0;34m\u001B[0m\u001B[0m\n\u001B[1;32m    359\u001B[0m         \u001B[0m_api_call\u001B[0m\u001B[0;34m.\u001B[0m\u001B[0m__name__\u001B[0m \u001B[0;34m=\u001B[0m \u001B[0mstr\u001B[0m\u001B[0;34m(\u001B[0m\u001B[0mpy_operation_name\u001B[0m\u001B[0;34m)\u001B[0m\u001B[0;34m\u001B[0m\u001B[0;34m\u001B[0m\u001B[0m\n",
      "\u001B[0;32m~/venv/ppi-aimed/lib/python3.7/site-packages/botocore/client.py\u001B[0m in \u001B[0;36m_make_api_call\u001B[0;34m(self, operation_name, api_params)\u001B[0m\n\u001B[1;32m    674\u001B[0m             \u001B[0merror_code\u001B[0m \u001B[0;34m=\u001B[0m \u001B[0mparsed_response\u001B[0m\u001B[0;34m.\u001B[0m\u001B[0mget\u001B[0m\u001B[0;34m(\u001B[0m\u001B[0;34m\"Error\"\u001B[0m\u001B[0;34m,\u001B[0m \u001B[0;34m{\u001B[0m\u001B[0;34m}\u001B[0m\u001B[0;34m)\u001B[0m\u001B[0;34m.\u001B[0m\u001B[0mget\u001B[0m\u001B[0;34m(\u001B[0m\u001B[0;34m\"Code\"\u001B[0m\u001B[0;34m)\u001B[0m\u001B[0;34m\u001B[0m\u001B[0;34m\u001B[0m\u001B[0m\n\u001B[1;32m    675\u001B[0m             \u001B[0merror_class\u001B[0m \u001B[0;34m=\u001B[0m \u001B[0mself\u001B[0m\u001B[0;34m.\u001B[0m\u001B[0mexceptions\u001B[0m\u001B[0;34m.\u001B[0m\u001B[0mfrom_code\u001B[0m\u001B[0;34m(\u001B[0m\u001B[0merror_code\u001B[0m\u001B[0;34m)\u001B[0m\u001B[0;34m\u001B[0m\u001B[0;34m\u001B[0m\u001B[0m\n\u001B[0;32m--> 676\u001B[0;31m             \u001B[0;32mraise\u001B[0m \u001B[0merror_class\u001B[0m\u001B[0;34m(\u001B[0m\u001B[0mparsed_response\u001B[0m\u001B[0;34m,\u001B[0m \u001B[0moperation_name\u001B[0m\u001B[0;34m)\u001B[0m\u001B[0;34m\u001B[0m\u001B[0;34m\u001B[0m\u001B[0m\n\u001B[0m\u001B[1;32m    677\u001B[0m         \u001B[0;32melse\u001B[0m\u001B[0;34m:\u001B[0m\u001B[0;34m\u001B[0m\u001B[0;34m\u001B[0m\u001B[0m\n\u001B[1;32m    678\u001B[0m             \u001B[0;32mreturn\u001B[0m \u001B[0mparsed_response\u001B[0m\u001B[0;34m\u001B[0m\u001B[0;34m\u001B[0m\u001B[0m\n",
      "\u001B[0;31mResourceLimitExceeded\u001B[0m: An error occurred (ResourceLimitExceeded) when calling the CreateTrainingJob operation: The account-level service limit 'ml.p3.2xlarge for spot training job usage' is 2 Instances, with current utilization of 2 Instances and a request delta of 1 Instances. Please contact AWS support to request an increase for this limit."
     ]
    }
   ],
   "source": [
    "from sagemaker.pytorch import PyTorch\n",
    "\n",
    "estimator = PyTorch(\n",
    "  entry_point='main_train_pipeline.py',\n",
    "                    source_dir = 'src',\n",
    "                    dependencies =['src/datasets', 'src/models','src/utils', 'src/scorers'],\n",
    "                     git_config= git_config,\n",
    "#                     image_name= docker_repo,\n",
    "                    role=role,\n",
    "                    framework_version =\"1.4.0\",\n",
    "                    py_version='py3',\n",
    "                    instance_count=1,\n",
    "                    instance_type=instance_type,\n",
    "                    hyperparameters = hyperparameters,\n",
    "                    output_path=s3_output_path,\n",
    "                    metric_definitions=metric_definitions,\n",
    "                    volume_size=30,\n",
    "                    code_location=s3_code_path,\n",
    "                    debugger_hook_config=False,\n",
    "                    base_job_name =base_name,  \n",
    "                    use_spot_instances = use_spot,\n",
    "                    max_run =  train_max_run_secs,\n",
    "                    max_wait = max_wait_time_secs,   \n",
    "                    checkpoint_s3_uri=s3_checkpoint,\n",
    "                    checkpoint_local_path=sm_localcheckpoint_dir)\n",
    "\n",
    "estimator.fit(inputs, wait=False)"
   ]
  }
 ],
 "metadata": {
  "kernelspec": {
   "display_name": "Python 3",
   "language": "python",
   "name": "python3"
  },
  "language_info": {
   "codemirror_mode": {
    "name": "ipython",
    "version": 3
   },
   "file_extension": ".py",
   "mimetype": "text/x-python",
   "name": "python",
   "nbconvert_exporter": "python",
   "pygments_lexer": "ipython3",
   "version": "3.7.4"
  }
 },
 "nbformat": 4,
 "nbformat_minor": 1
}