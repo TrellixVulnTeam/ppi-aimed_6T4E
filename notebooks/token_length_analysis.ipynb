{
 "cells": [
  {
   "cell_type": "markdown",
   "metadata": {},
   "source": [
    "# Analyse Tokeniser \n",
    "\n",
    "This notebook calculates the input lengths post bert tokenisation"
   ]
  },
  {
   "cell_type": "code",
   "execution_count": 1,
   "metadata": {},
   "outputs": [],
   "source": [
    "model_dir = \"../temp_data/\"\n",
    "bucket = \"aegovan-data\"\n",
    "trainfile = \"s3://{}/processed_dataset/train_multiclass.json\".format(bucket)\n",
    "testfile = \"s3://{}/processed_dataset/test_multiclass.json\".format(bucket)\n",
    "valfile = \"s3://{}/processed_dataset/val_multiclass.json\".format(bucket)\n",
    "\n",
    "valfile_prediction = \"s3://aegovan-data/pubmed_asbtract/predictions_valtest_ppimulticlass-bert-f1-2021-05-10-9_2021051105/val_multiclass.json.json\".format(bucket)\n",
    "testfile_prediction = \"s3://aegovan-data/pubmed_asbtract/predictions_valtest_ppimulticlass-bert-f1-2021-05-10-9_2021051105/test_multiclass.json.json\".format(bucket)\n",
    "\n",
    "\n",
    "\n",
    "\n",
    "\n",
    "column=\"normalised_abstract\"\n"
   ]
  },
  {
   "cell_type": "code",
   "execution_count": 2,
   "metadata": {},
   "outputs": [],
   "source": [
    "import os, sys\n",
    "sys.path.append(\"../src\")"
   ]
  },
  {
   "cell_type": "code",
   "execution_count": 3,
   "metadata": {},
   "outputs": [],
   "source": [
    "from transformers import BertTokenizer\n",
    "from datasets.transformer_chain import TransformerChain\n",
    "from datasets.transformer_name_normaliser import TransformerNameNormaliser\n",
    "from datasets.transformer_ppi_participant_augmentor import TransformerPPIParticipantAugmentor\n",
    "\n",
    "\n",
    "tokeniser = BertTokenizer.from_pretrained(model_dir, do_lower_case=False)\n",
    "\n",
    "transformer_list = [\n",
    "            TransformerPPIParticipantAugmentor(participant1_key=\"participant1Id\"\n",
    "                                               , participant2_key=\"participant2Id\"\n",
    "                                               , annotations_dict_key=\"normalised_abstract_annotations\"\n",
    "                                               , result_key_participant=\"participantEntities\"\n",
    "                                               , result_key_other=\"otherEntities\"\n",
    "                                               ),\n",
    "            TransformerNameNormaliser(text_key=\"normalised_abstract\",\n",
    "                                      participants_entities_dict_key=\"participantEntities\",\n",
    "                                      other_entities_dict_key=\"otherEntities\",\n",
    "                                      random_seed=42),\n",
    "           lambda x:tokeniser.tokenize(x)\n",
    "        ]\n",
    "\n",
    "       \n",
    "\n",
    "transformer_chain = TransformerChain(transformer_list)\n"
   ]
  },
  {
   "cell_type": "code",
   "execution_count": 4,
   "metadata": {},
   "outputs": [],
   "source": [
    "import boto3\n",
    "\n",
    "def download_single_file(bucket_name_path, local_path):\n",
    "    index = bucket_name_path.find(\"://\")\n",
    "\n",
    "    # remove the s3:// if present\n",
    "    if index > -1:\n",
    "        bucket_name_path = bucket_name_path[index + 3:]\n",
    "\n",
    "    key_start_index = bucket_name_path.find(\"/\")\n",
    "    bucket_name = bucket_name_path\n",
    "    key = \"/\"\n",
    "    if key_start_index > -1:\n",
    "        bucket_name = bucket_name_path[0:key_start_index]\n",
    "        key = bucket_name_path[key_start_index + 1:]\n",
    "        \n",
    "    client = boto3.resource('s3')\n",
    "    client.Bucket(bucket_name).download_file(key, local_path)\n",
    "\n"
   ]
  },
  {
   "cell_type": "code",
   "execution_count": 5,
   "metadata": {},
   "outputs": [],
   "source": [
    "import json\n",
    "import pandas as pd\n",
    "\n",
    "\n",
    "def get_counts(input_file, column):\n",
    "    data = pd.read_json(input_file)\n",
    "            \n",
    "    counts = []\n",
    "    \n",
    "    data[\"tokens\"] =  data.apply (lambda x:  transformer_chain(x.to_dict()), axis=1)\n",
    "    data[\"token_len\"] = data.apply (lambda x:  len(x[\"tokens\"]), axis=1)\n",
    "    return data\n",
    "\n",
    "def get_counts_unique(input_file, column):\n",
    "    data = pd.read_json(input_file)\n",
    "            \n",
    "    pubmed_abstracts = data.drop_duplicates(subset=[column])\n",
    "    \n",
    "    \n",
    "    result = pd.DataFrame()\n",
    "    \n",
    "    result[\"tokens\"] =  pubmed_abstracts.apply (lambda x:  transformer_chain(x.to_dict()), axis=1)\n",
    "    result[\"token_len\"] = result.apply (lambda x:  len(x[\"tokens\"]), axis=1)\n",
    "    return result"
   ]
  },
  {
   "cell_type": "code",
   "execution_count": 6,
   "metadata": {},
   "outputs": [],
   "source": [
    "import os\n",
    "\n",
    "def download_and_get_counts(s3_file):\n",
    "    local_file = os.path.join(\".\", s3_file.split(\"/\")[-1] )\n",
    "    download_single_file(s3_file, local_file) \n",
    "    df = get_counts (local_file, column)\n",
    "    df_unique = get_counts_unique (local_file, column)\n",
    "    \n",
    "    return df, df_unique\n",
    "    \n"
   ]
  },
  {
   "cell_type": "code",
   "execution_count": 7,
   "metadata": {},
   "outputs": [
    {
     "data": {
      "text/plain": [
       "count    1305.000000\n",
       "mean      378.209195\n",
       "std        95.530605\n",
       "min       174.000000\n",
       "0%        174.000000\n",
       "10%       256.000000\n",
       "20%       285.000000\n",
       "30%       323.000000\n",
       "40%       344.600000\n",
       "50%       377.000000\n",
       "60%       402.000000\n",
       "70%       426.000000\n",
       "80%       464.000000\n",
       "90%       511.000000\n",
       "max       612.000000\n",
       "Name: token_len, dtype: float64"
      ]
     },
     "execution_count": 7,
     "metadata": {},
     "output_type": "execute_result"
    }
   ],
   "source": [
    "df_train, df_train_unique  = download_and_get_counts(trainfile)\n",
    "\n",
    "df_train[\"token_len\"].describe(percentiles=[i/100 for i in range(0,100,10)])"
   ]
  },
  {
   "cell_type": "code",
   "execution_count": 8,
   "metadata": {},
   "outputs": [
    {
     "data": {
      "text/plain": [
       "count    167.000000\n",
       "mean     354.562874\n",
       "std       98.217765\n",
       "min      177.000000\n",
       "0%       177.000000\n",
       "10%      229.600000\n",
       "20%      264.200000\n",
       "30%      298.200000\n",
       "40%      327.000000\n",
       "50%      344.000000\n",
       "60%      369.800000\n",
       "70%      407.200000\n",
       "80%      437.800000\n",
       "90%      485.400000\n",
       "max      612.000000\n",
       "Name: token_len, dtype: float64"
      ]
     },
     "execution_count": 8,
     "metadata": {},
     "output_type": "execute_result"
    }
   ],
   "source": [
    "df_train_unique[\"token_len\"].describe(percentiles=[i/100 for i in range(0,100,10)])"
   ]
  },
  {
   "cell_type": "code",
   "execution_count": 9,
   "metadata": {},
   "outputs": [
    {
     "data": {
      "text/plain": [
       "count     42.000000\n",
       "mean     333.357143\n",
       "std      100.921805\n",
       "min      177.000000\n",
       "0%       177.000000\n",
       "10%      226.200000\n",
       "20%      237.000000\n",
       "30%      258.900000\n",
       "40%      289.400000\n",
       "50%      323.500000\n",
       "60%      355.800000\n",
       "70%      391.200000\n",
       "80%      421.400000\n",
       "90%      462.700000\n",
       "max      538.000000\n",
       "Name: token_len, dtype: float64"
      ]
     },
     "execution_count": 9,
     "metadata": {},
     "output_type": "execute_result"
    }
   ],
   "source": [
    "df_test, df_test_unique  = download_and_get_counts(testfile)\n",
    "df_test_unique[\"token_len\"].describe(percentiles=[i/100 for i in range(0,100,10)])"
   ]
  },
  {
   "cell_type": "code",
   "execution_count": 10,
   "metadata": {},
   "outputs": [
    {
     "data": {
      "text/plain": [
       "count    352.000000\n",
       "mean     353.213068\n",
       "std      102.591340\n",
       "min      175.000000\n",
       "0%       175.000000\n",
       "10%      209.200000\n",
       "20%      250.200000\n",
       "30%      296.300000\n",
       "40%      323.000000\n",
       "50%      348.000000\n",
       "60%      376.000000\n",
       "70%      414.700000\n",
       "80%      447.000000\n",
       "90%      496.900000\n",
       "max      538.000000\n",
       "Name: token_len, dtype: float64"
      ]
     },
     "execution_count": 10,
     "metadata": {},
     "output_type": "execute_result"
    }
   ],
   "source": [
    "df_test[\"token_len\"].describe(percentiles=[i/100 for i in range(0,100,10)])"
   ]
  },
  {
   "cell_type": "code",
   "execution_count": 11,
   "metadata": {},
   "outputs": [
    {
     "data": {
      "text/plain": [
       "count     24.000000\n",
       "mean     356.583333\n",
       "std       85.539676\n",
       "min      198.000000\n",
       "0%       198.000000\n",
       "10%      252.400000\n",
       "20%      284.600000\n",
       "30%      324.300000\n",
       "40%      334.800000\n",
       "50%      349.500000\n",
       "60%      376.600000\n",
       "70%      395.600000\n",
       "80%      437.600000\n",
       "90%      472.200000\n",
       "max      496.000000\n",
       "Name: token_len, dtype: float64"
      ]
     },
     "execution_count": 11,
     "metadata": {},
     "output_type": "execute_result"
    }
   ],
   "source": [
    "df_val, df_val_unique  = download_and_get_counts(valfile)\n",
    "df_val_unique[\"token_len\"].describe(percentiles=[i/100 for i in range(0,100,10)])"
   ]
  },
  {
   "cell_type": "code",
   "execution_count": 12,
   "metadata": {},
   "outputs": [
    {
     "data": {
      "text/plain": [
       "count    200.000000\n",
       "mean     375.320000\n",
       "std       78.162488\n",
       "min      194.000000\n",
       "0%       194.000000\n",
       "10%      241.900000\n",
       "20%      323.000000\n",
       "30%      335.000000\n",
       "40%      361.800000\n",
       "50%      379.000000\n",
       "60%      389.000000\n",
       "70%      420.900000\n",
       "80%      467.000000\n",
       "90%      472.000000\n",
       "max      496.000000\n",
       "Name: token_len, dtype: float64"
      ]
     },
     "execution_count": 12,
     "metadata": {},
     "output_type": "execute_result"
    }
   ],
   "source": [
    "df_val[\"token_len\"].describe(percentiles=[i/100 for i in range(0,100,10)])"
   ]
  },
  {
   "cell_type": "code",
   "execution_count": 13,
   "metadata": {},
   "outputs": [],
   "source": [
    "df = pd.DataFrame()\n",
    "df[\"train_unique\"] = df_train_unique[\"token_len\"].describe(percentiles=[i/100 for i in range(0,100,10)])\n",
    "df[\"test_unique\"] = df_test_unique[\"token_len\"].describe(percentiles=[i/100 for i in range(0,100,10)])\n",
    "df[\"val_unique\"] = df_val_unique[\"token_len\"].describe(percentiles=[i/100 for i in range(0,100,10)])"
   ]
  },
  {
   "cell_type": "code",
   "execution_count": 14,
   "metadata": {},
   "outputs": [
    {
     "name": "stdout",
     "output_type": "stream",
     "text": [
      "\\begin{tabular}{lrrr}\n",
      "\\toprule\n",
      "{} &  train\\_unique &  test\\_unique &  val\\_unique \\\\\n",
      "\\midrule\n",
      "count &        167.00 &        42.00 &       24.00 \\\\\n",
      "mean  &        354.56 &       333.36 &      356.58 \\\\\n",
      "std   &         98.22 &       100.92 &       85.54 \\\\\n",
      "min   &        177.00 &       177.00 &      198.00 \\\\\n",
      "0\\%    &        177.00 &       177.00 &      198.00 \\\\\n",
      "10\\%   &        229.60 &       226.20 &      252.40 \\\\\n",
      "20\\%   &        264.20 &       237.00 &      284.60 \\\\\n",
      "30\\%   &        298.20 &       258.90 &      324.30 \\\\\n",
      "40\\%   &        327.00 &       289.40 &      334.80 \\\\\n",
      "50\\%   &        344.00 &       323.50 &      349.50 \\\\\n",
      "60\\%   &        369.80 &       355.80 &      376.60 \\\\\n",
      "70\\%   &        407.20 &       391.20 &      395.60 \\\\\n",
      "80\\%   &        437.80 &       421.40 &      437.60 \\\\\n",
      "90\\%   &        485.40 &       462.70 &      472.20 \\\\\n",
      "max   &        612.00 &       538.00 &      496.00 \\\\\n",
      "\\bottomrule\n",
      "\\end{tabular}\n",
      "\n"
     ]
    }
   ],
   "source": [
    "print(df.round(2).to_latex())\n"
   ]
  },
  {
   "cell_type": "code",
   "execution_count": 15,
   "metadata": {},
   "outputs": [
    {
     "name": "stdout",
     "output_type": "stream",
     "text": [
      "\\begin{tabular}{lrrr}\n",
      "\\toprule\n",
      "{} &    train &    test &     val \\\\\n",
      "\\midrule\n",
      "count &  1305.00 &  352.00 &  200.00 \\\\\n",
      "mean  &   378.21 &  353.21 &  375.32 \\\\\n",
      "std   &    95.53 &  102.59 &   78.16 \\\\\n",
      "min   &   174.00 &  175.00 &  194.00 \\\\\n",
      "0\\%    &   174.00 &  175.00 &  194.00 \\\\\n",
      "10\\%   &   256.00 &  209.20 &  241.90 \\\\\n",
      "20\\%   &   285.00 &  250.20 &  323.00 \\\\\n",
      "30\\%   &   323.00 &  296.30 &  335.00 \\\\\n",
      "40\\%   &   344.60 &  323.00 &  361.80 \\\\\n",
      "50\\%   &   377.00 &  348.00 &  379.00 \\\\\n",
      "60\\%   &   402.00 &  376.00 &  389.00 \\\\\n",
      "70\\%   &   426.00 &  414.70 &  420.90 \\\\\n",
      "80\\%   &   464.00 &  447.00 &  467.00 \\\\\n",
      "90\\%   &   511.00 &  496.90 &  472.00 \\\\\n",
      "max   &   612.00 &  538.00 &  496.00 \\\\\n",
      "\\bottomrule\n",
      "\\end{tabular}\n",
      "\n"
     ]
    }
   ],
   "source": [
    "df = pd.DataFrame()\n",
    "df[\"train\"] = df_train[\"token_len\"].describe(percentiles=[i/100 for i in range(0,100,10)])\n",
    "df[\"test\"] = df_test[\"token_len\"].describe(percentiles=[i/100 for i in range(0,100,10)])\n",
    "df[\"val\"] = df_val[\"token_len\"].describe(percentiles=[i/100 for i in range(0,100,10)])\n",
    "print(df.round(2).to_latex())"
   ]
  },
  {
   "cell_type": "markdown",
   "metadata": {},
   "source": [
    "### Prediction Analysis on Seq length"
   ]
  },
  {
   "cell_type": "code",
   "execution_count": 16,
   "metadata": {},
   "outputs": [],
   "source": [
    "df_prediction, _ = download_and_get_counts(testfile_prediction) "
   ]
  },
  {
   "cell_type": "code",
   "execution_count": 17,
   "metadata": {},
   "outputs": [],
   "source": [
    "from sklearn.metrics import f1_score, accuracy_score,precision_score, recall_score\n",
    "\n",
    "def get_scores(df, actual, predicted, labels=None):\n",
    "\n",
    "    f1 = f1_score(df[actual], df[predicted], average='macro' ,sample_weight=None, labels=labels)  \n",
    "    p = precision_score(df[actual], df[predicted], average='macro' ,sample_weight=None)  \n",
    "    r = recall_score(df[actual], df[ predicted], average='macro' ,sample_weight=None)  \n",
    "\n",
    "    return f1,p,r\n",
    "\n",
    "def plot_confusion_matrix(df, actual, predicted, save_file=None):\n",
    "    import matplotlib.pyplot as plt\n",
    "    import scikitplot as skplt\n",
    "\n",
    "\n",
    "    skplt.metrics.plot_confusion_matrix(df[actual], df[predicted], normalize=True , figsize=(4,4),  x_tick_rotation=90)\n",
    "  \n",
    "\n",
    "    skplt.metrics.plot_confusion_matrix(df[actual], df[predicted], figsize=(4,4), normalize=False,x_tick_rotation=90 )\n",
    "    \n",
    "    if save_file:\n",
    "        plt.savefig(save_file, bbox_inches=\"tight\")\n",
    "    \n",
    "    plt.show()\n"
   ]
  },
  {
   "cell_type": "code",
   "execution_count": 18,
   "metadata": {},
   "outputs": [],
   "source": [
    "positive_labels = list(set(df_prediction[\"class\"].unique().tolist()) - set(\"other\"))"
   ]
  },
  {
   "cell_type": "code",
   "execution_count": 19,
   "metadata": {},
   "outputs": [
    {
     "data": {
      "text/plain": [
       "(352, 22)"
      ]
     },
     "execution_count": 19,
     "metadata": {},
     "output_type": "execute_result"
    }
   ],
   "source": [
    "df_prediction.shape"
   ]
  },
  {
   "cell_type": "code",
   "execution_count": 20,
   "metadata": {},
   "outputs": [
    {
     "name": "stderr",
     "output_type": "stream",
     "text": [
      "/Users/aeg/venv/ppi-aimed/lib/python3.7/site-packages/sklearn/metrics/_classification.py:1245: UndefinedMetricWarning: Precision is ill-defined and being set to 0.0 in labels with no predicted samples. Use `zero_division` parameter to control this behavior.\n",
      "  _warn_prf(average, modifier, msg_start, len(result))\n"
     ]
    },
    {
     "data": {
      "text/plain": [
       "(0.45555555555555555, 0.43333333333333335, 0.48888888888888893)"
      ]
     },
     "execution_count": 20,
     "metadata": {},
     "output_type": "execute_result"
    }
   ],
   "source": [
    "get_scores ( df_prediction.query(\"token_len > 510\"), \"class\" , \"prediction\")\n",
    "\n"
   ]
  },
  {
   "cell_type": "code",
   "execution_count": 21,
   "metadata": {},
   "outputs": [
    {
     "data": {
      "image/png": "[encoded data removed]",
      "text/plain": [
       "<Figure size 288x288 with 2 Axes>"
      ]
     },
     "metadata": {
      "needs_background": "light"
     },
     "output_type": "display_data"
    },
    {
     "data": {
      "image/png": "[encoded data removed]",
      "text/plain": [
       "<Figure size 288x288 with 2 Axes>"
      ]
     },
     "metadata": {
      "needs_background": "light"
     },
     "output_type": "display_data"
    }
   ],
   "source": [
    "plot_confusion_matrix(df_prediction.query(\"token_len > 510\"), \"class\" , \"prediction\", \"len_long_confusion.png\")\n"
   ]
  },
  {
   "cell_type": "code",
   "execution_count": 22,
   "metadata": {},
   "outputs": [
    {
     "name": "stderr",
     "output_type": "stream",
     "text": [
      "/Users/aeg/venv/ppi-aimed/lib/python3.7/site-packages/sklearn/metrics/_classification.py:1493: UndefinedMetricWarning: F-score is ill-defined and being set to 0.0 in labels with no true nor predicted samples. Use `zero_division` parameter to control this behavior.\n",
      "  average, \"true nor predicted\", 'F-score is', len(true_sum)\n",
      "/Users/aeg/venv/ppi-aimed/lib/python3.7/site-packages/sklearn/metrics/_classification.py:1245: UndefinedMetricWarning: Precision is ill-defined and being set to 0.0 in labels with no predicted samples. Use `zero_division` parameter to control this behavior.\n",
      "  _warn_prf(average, modifier, msg_start, len(result))\n"
     ]
    },
    {
     "data": {
      "text/plain": [
       "(0.22777777777777777, 0.43333333333333335, 0.48888888888888893)"
      ]
     },
     "execution_count": 22,
     "metadata": {},
     "output_type": "execute_result"
    }
   ],
   "source": [
    "get_scores ( df_prediction.query(\"token_len > 510\"), \"class\" , \"prediction\", positive_labels)\n",
    "\n"
   ]
  },
  {
   "cell_type": "code",
   "execution_count": 23,
   "metadata": {},
   "outputs": [
    {
     "data": {
      "image/png": "[encoded data removed]",
      "text/plain": [
       "<Figure size 288x288 with 2 Axes>"
      ]
     },
     "metadata": {
      "needs_background": "light"
     },
     "output_type": "display_data"
    },
    {
     "data": {
      "image/png": "[encoded data removed]",
      "text/plain": [
       "<Figure size 288x288 with 2 Axes>"
      ]
     },
     "metadata": {
      "needs_background": "light"
     },
     "output_type": "display_data"
    }
   ],
   "source": [
    "plot_confusion_matrix(df_prediction.query(\"token_len < 510\"), \"class\" , \"prediction\", \"len_short_confusion.png\")\n",
    "\n"
   ]
  },
  {
   "cell_type": "code",
   "execution_count": 24,
   "metadata": {},
   "outputs": [
    {
     "name": "stderr",
     "output_type": "stream",
     "text": [
      "/Users/aeg/venv/ppi-aimed/lib/python3.7/site-packages/ipykernel_launcher.py:1: FutureWarning: Indexing with multiple keys (implicitly converted to a tuple of keys) will be deprecated, use a list instead.\n",
      "  \"\"\"Entry point for launching an IPython kernel.\n"
     ]
    },
    {
     "data": {
      "text/html": [
       "<div>\n",
       "<style scoped>\n",
       "    .dataframe tbody tr th:only-of-type {\n",
       "        vertical-align: middle;\n",
       "    }\n",
       "\n",
       "    .dataframe tbody tr th {\n",
       "        vertical-align: top;\n",
       "    }\n",
       "\n",
       "    .dataframe thead th {\n",
       "        text-align: right;\n",
       "    }\n",
       "</style>\n",
       "<table border=\"1\" class=\"dataframe\">\n",
       "  <thead>\n",
       "    <tr style=\"text-align: right;\">\n",
       "      <th></th>\n",
       "      <th></th>\n",
       "      <th>class</th>\n",
       "      <th>prediction</th>\n",
       "    </tr>\n",
       "    <tr>\n",
       "      <th>class</th>\n",
       "      <th>prediction</th>\n",
       "      <th></th>\n",
       "      <th></th>\n",
       "    </tr>\n",
       "  </thead>\n",
       "  <tbody>\n",
       "    <tr>\n",
       "      <th>dephosphorylation</th>\n",
       "      <th>phosphorylation</th>\n",
       "      <td>1</td>\n",
       "      <td>1</td>\n",
       "    </tr>\n",
       "    <tr>\n",
       "      <th rowspan=\"2\" valign=\"top\">other</th>\n",
       "      <th>other</th>\n",
       "      <td>29</td>\n",
       "      <td>29</td>\n",
       "    </tr>\n",
       "    <tr>\n",
       "      <th>phosphorylation</th>\n",
       "      <td>1</td>\n",
       "      <td>1</td>\n",
       "    </tr>\n",
       "    <tr>\n",
       "      <th rowspan=\"2\" valign=\"top\">phosphorylation</th>\n",
       "      <th>other</th>\n",
       "      <td>1</td>\n",
       "      <td>1</td>\n",
       "    </tr>\n",
       "    <tr>\n",
       "      <th>phosphorylation</th>\n",
       "      <td>1</td>\n",
       "      <td>1</td>\n",
       "    </tr>\n",
       "  </tbody>\n",
       "</table>\n",
       "</div>"
      ],
      "text/plain": [
       "                                   class  prediction\n",
       "class             prediction                        \n",
       "dephosphorylation phosphorylation      1           1\n",
       "other             other               29          29\n",
       "                  phosphorylation      1           1\n",
       "phosphorylation   other                1           1\n",
       "                  phosphorylation      1           1"
      ]
     },
     "execution_count": 24,
     "metadata": {},
     "output_type": "execute_result"
    }
   ],
   "source": [
    "df_prediction.query(\"token_len > 510\").groupby( [\"class\" , \"prediction\"])[\"class\" , \"prediction\"].count()"
   ]
  },
  {
   "cell_type": "code",
   "execution_count": 25,
   "metadata": {},
   "outputs": [
    {
     "data": {
      "text/plain": [
       "(352, 22)"
      ]
     },
     "execution_count": 25,
     "metadata": {},
     "output_type": "execute_result"
    }
   ],
   "source": [
    "df_prediction.shape"
   ]
  },
  {
   "cell_type": "code",
   "execution_count": 26,
   "metadata": {},
   "outputs": [
    {
     "data": {
      "text/plain": [
       "3"
      ]
     },
     "execution_count": 26,
     "metadata": {},
     "output_type": "execute_result"
    }
   ],
   "source": [
    "df_prediction.query(\"token_len >= 510\")[\"normalised_abstract\"].nunique()"
   ]
  },
  {
   "cell_type": "code",
   "execution_count": 27,
   "metadata": {},
   "outputs": [
    {
     "data": {
      "text/plain": [
       "39"
      ]
     },
     "execution_count": 27,
     "metadata": {},
     "output_type": "execute_result"
    }
   ],
   "source": [
    "df_prediction.query(\"token_len < 510\")[\"normalised_abstract\"].nunique()"
   ]
  },
  {
   "cell_type": "code",
   "execution_count": 28,
   "metadata": {},
   "outputs": [
    {
     "data": {
      "text/plain": [
       "(33, 22)"
      ]
     },
     "execution_count": 28,
     "metadata": {},
     "output_type": "execute_result"
    }
   ],
   "source": [
    "df_prediction.query(\"token_len >= 510\").shape"
   ]
  },
  {
   "cell_type": "code",
   "execution_count": 29,
   "metadata": {},
   "outputs": [
    {
     "name": "stderr",
     "output_type": "stream",
     "text": [
      "/Users/aeg/venv/ppi-aimed/lib/python3.7/site-packages/sklearn/metrics/_classification.py:1245: UndefinedMetricWarning: Precision is ill-defined and being set to 0.0 in labels with no predicted samples. Use `zero_division` parameter to control this behavior.\n",
      "  _warn_prf(average, modifier, msg_start, len(result))\n"
     ]
    },
    {
     "data": {
      "text/plain": [
       "(0.4835453066118534, 0.5460031347962382, 0.4588763575605681)"
      ]
     },
     "execution_count": 29,
     "metadata": {},
     "output_type": "execute_result"
    }
   ],
   "source": [
    "get_scores ( df_prediction.query(\"token_len < 510\"), \"class\" , \"prediction\")"
   ]
  },
  {
   "cell_type": "code",
   "execution_count": 30,
   "metadata": {},
   "outputs": [
    {
     "name": "stderr",
     "output_type": "stream",
     "text": [
      "/Users/aeg/venv/ppi-aimed/lib/python3.7/site-packages/sklearn/metrics/_classification.py:1245: UndefinedMetricWarning: Precision is ill-defined and being set to 0.0 in labels with no predicted samples. Use `zero_division` parameter to control this behavior.\n",
      "  _warn_prf(average, modifier, msg_start, len(result))\n"
     ]
    },
    {
     "data": {
      "text/plain": [
       "(0.47776679841897235, 0.5411458333333333, 0.454528392028392)"
      ]
     },
     "execution_count": 30,
     "metadata": {},
     "output_type": "execute_result"
    }
   ],
   "source": [
    "get_scores ( df_prediction.query(\"token_len > 10\"), \"class\" , \"prediction\", positive_labels)"
   ]
  },
  {
   "cell_type": "code",
   "execution_count": 31,
   "metadata": {},
   "outputs": [
    {
     "name": "stderr",
     "output_type": "stream",
     "text": [
      "/Users/aeg/venv/ppi-aimed/lib/python3.7/site-packages/sklearn/metrics/_classification.py:1245: UndefinedMetricWarning: Precision is ill-defined and being set to 0.0 in labels with no predicted samples. Use `zero_division` parameter to control this behavior.\n",
      "  _warn_prf(average, modifier, msg_start, len(result))\n"
     ]
    },
    {
     "data": {
      "text/plain": [
       "(0.47776679841897235, 0.5411458333333333, 0.454528392028392)"
      ]
     },
     "execution_count": 31,
     "metadata": {},
     "output_type": "execute_result"
    }
   ],
   "source": [
    "get_scores ( df_prediction, \"class\" , \"prediction\")"
   ]
  }
 ],
 "metadata": {
  "kernelspec": {
   "display_name": "Python 3",
   "language": "python",
   "name": "python3"
  },
  "language_info": {
   "codemirror_mode": {
    "name": "ipython",
    "version": 3
   },
   "file_extension": ".py",
   "mimetype": "text/x-python",
   "name": "python",
   "nbconvert_exporter": "python",
   "pygments_lexer": "ipython3",
   "version": "3.7.4"
  }
 },
 "nbformat": 4,
 "nbformat_minor": 1
}
