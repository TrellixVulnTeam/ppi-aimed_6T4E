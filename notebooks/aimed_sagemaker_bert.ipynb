{
 "cells": [
  {
   "cell_type": "markdown",
   "metadata": {},
   "source": [
    "### Set up"
   ]
  },
  {
   "cell_type": "markdown",
   "metadata": {},
   "source": [
    "#### 1. Set  up  accounts and role"
   ]
  },
  {
   "cell_type": "code",
   "execution_count": 1,
   "metadata": {},
   "outputs": [],
   "source": [
    "import sagemaker\n",
    "import boto3\n",
    "from datetime import datetime\n",
    "\n",
    "sagemaker_session = sagemaker.Session()\n",
    "account_id =  boto3.client('sts').get_caller_identity().get('Account')\n",
    "region = boto3.session.Session().region_name\n",
    "\n",
    "\n",
    "#role = sagemaker.get_execution_role()\n",
    "role=\"arn:aws:iam::{}:role/service-role/AmazonSageMaker-ExecutionRole-20190118T115449\".format(account_id)\n",
    "max_runs=1"
   ]
  },
  {
   "cell_type": "markdown",
   "metadata": {},
   "source": [
    "#### 2. Setup image and instance type"
   ]
  },
  {
   "cell_type": "code",
   "execution_count": 2,
   "metadata": {},
   "outputs": [],
   "source": [
    "# pytorch_custom_image_name=\"ppi-extractor:gpu-1.0.0-201910130520\"\n",
    "instance_type = \"ml.p3.2xlarge\" "
   ]
  },
  {
   "cell_type": "code",
   "execution_count": 3,
   "metadata": {},
   "outputs": [],
   "source": [
    "# docker_repo = \"{}.dkr.ecr.{}.amazonaws.com/{}\".format(account_id, region, pytorch_custom_image_name)"
   ]
  },
  {
   "cell_type": "markdown",
   "metadata": {},
   "source": [
    "#### 3. Configure train/ test and validation datasets"
   ]
  },
  {
   "cell_type": "code",
   "execution_count": 4,
   "metadata": {},
   "outputs": [],
   "source": [
    "bucket = \"aegovan-data\""
   ]
  },
  {
   "cell_type": "code",
   "execution_count": 5,
   "metadata": {},
   "outputs": [],
   "source": [
    "train_unique = \"s3://{}/aimed_dataset/kfold_unique\".format(bucket)\n",
    "train_random =\"s3://{}/aimed_dataset/kfold_random\".format(bucket)\n",
    "\n",
    "pretrained_bert=\"s3://{}/embeddings/bert/\".format(bucket)\n",
    "\n",
    "\n",
    "\n",
    "train_unique_single_fold=\"s3://{}/aimed_dataset/kfold_unique/fold_0/train\".format(bucket)\n",
    "val_unique_single_fold=\"s3://{}/aimed_dataset/kfold_unique/fold_0/validation\".format(bucket)\n",
    "\n",
    "train_random_single_fold=\"s3://{}/aimed_dataset/kfold_random/fold_0/train\".format(bucket)\n",
    "val_random_single_fold=\"s3://{}/aimed_dataset/kfold_random/fold_0/validation\".format(bucket)\n",
    "\n",
    "\n",
    "\n",
    "s3_output_path= \"s3://{}/sagemakerresults/\".format(bucket)\n",
    "s3_code_path= \"s3://{}/aimed_bert_code\".format(bucket)\n",
    "s3_checkpoint = \"s3://{}/aimed_bert_checkpoint/{}\".format(bucket, datetime.now().strftime(\"%m%d%Y%H%M%S\"))"
   ]
  },
  {
   "cell_type": "markdown",
   "metadata": {},
   "source": [
    "### Start training"
   ]
  },
  {
   "cell_type": "code",
   "execution_count": 6,
   "metadata": {},
   "outputs": [],
   "source": [
    "commit_id = \"6df30be45e08af56a0f10fbfc8a724737f7ca9e1\""
   ]
  },
  {
   "cell_type": "code",
   "execution_count": 7,
   "metadata": {},
   "outputs": [],
   "source": [
    "unique_inputs = {\n",
    "    \"train\" : train_unique,\n",
    "    \"PRETRAINED_MODEL\" : pretrained_bert\n",
    "}"
   ]
  },
  {
   "cell_type": "code",
   "execution_count": 8,
   "metadata": {},
   "outputs": [],
   "source": [
    "random_inputs = {\n",
    "    \"train\" : train_random,\n",
    "    \"PRETRAINED_MODEL\" : pretrained_bert\n",
    "}"
   ]
  },
  {
   "cell_type": "code",
   "execution_count": 9,
   "metadata": {},
   "outputs": [],
   "source": [
    "unique_single_fold = {\n",
    "    \"train\" : train_unique_single_fold,\n",
    "    \"val\" : val_unique_single_fold,\n",
    "    \"PRETRAINED_MODEL\" : pretrained_bert\n",
    "}"
   ]
  },
  {
   "cell_type": "code",
   "execution_count": 10,
   "metadata": {},
   "outputs": [],
   "source": [
    "random_single_fold = {\n",
    "    \"train\" : train_random_single_fold,\n",
    "    \"val\" : val_random_single_fold,\n",
    "    \"PRETRAINED_MODEL\" : pretrained_bert\n",
    "}"
   ]
  },
  {
   "cell_type": "code",
   "execution_count": 11,
   "metadata": {},
   "outputs": [],
   "source": [
    "sm_localcheckpoint_dir=\"/opt/ml/checkpoints/\"\n"
   ]
  },
  {
   "cell_type": "code",
   "execution_count": 12,
   "metadata": {},
   "outputs": [],
   "source": [
    "BertNetworkFactoryhyperparameters_kfold = {\n",
    "    \"datasetfactory\":\"datasets.aimed_dataset_factory.AimedDatasetFactory\",\n",
    "    \"modelfactory\" :\"models.bert_model_factory.BertModelFactory\",\n",
    "    \"tokenisor_lower_case\":0,\n",
    "    \"kfoldtrainprefix\": \"train\",\n",
    "    \"batch\": \"8\",\n",
    "    \"gradientaccumulationsteps\" : \"8\",\n",
    "    # \"protein_name_replacer_random_seed\":42,\n",
    "    \"epochs\" : \"100\",   \n",
    "    \"log-level\" : \"INFO\",\n",
    "    \"learningrate\":.00001,\n",
    "    \"earlystoppingpatience\":9,\n",
    "    \"checkpointdir\" : sm_localcheckpoint_dir,\n",
    "    # Checkpoints once every n epochs\n",
    "    \"checkpointfreq\": 2,\n",
    "    \n",
    "    \"commit_id\" : commit_id\n",
    "\n",
    "\n",
    "\n",
    "}"
   ]
  },
  {
   "cell_type": "code",
   "execution_count": 13,
   "metadata": {},
   "outputs": [
    {
     "data": {
      "text/plain": [
       "'train'"
      ]
     },
     "execution_count": 13,
     "metadata": {},
     "output_type": "execute_result"
    }
   ],
   "source": [
    "BertNetworkFactoryhyperparameters_single_fold = BertNetworkFactoryhyperparameters_kfold.copy()\n",
    "BertNetworkFactoryhyperparameters_single_fold.pop(\"kfoldtrainprefix\")"
   ]
  },
  {
   "cell_type": "code",
   "execution_count": 14,
   "metadata": {},
   "outputs": [],
   "source": [
    "BertNetworkFactoryhyperparameters_single_fold_loss = BertNetworkFactoryhyperparameters_single_fold.copy()\n",
    "BertNetworkFactoryhyperparameters_single_fold_loss[\"uselosseval\"] =1"
   ]
  },
  {
   "cell_type": "code",
   "execution_count": 15,
   "metadata": {},
   "outputs": [],
   "source": [
    "metric_definitions = [{\"Name\": \"TrainLoss\",\n",
    "                     \"Regex\": \"###score: train_loss### (\\d*[.]?\\d*)\"}\n",
    "                    ,{\"Name\": \"ValidationLoss\",\n",
    "                     \"Regex\": \"###score: val_loss### (\\d*[.]?\\d*)\"}\n",
    "                \n",
    "                    ,{\"Name\": \"TrainAucScore\",\n",
    "                     \"Regex\": \"###score: train_ResultScorerAucBinary_score### (\\d*[.]?\\d*)\"}\n",
    "                   ,{\"Name\": \"ValidationAucScore\",\n",
    "                     \"Regex\": \"###score: val_ResultScorerAucBinary_score### (\\d*[.]?\\d*)\"}\n",
    "                      \n",
    "                      ,{\"Name\": \"TrainPRScore\",\n",
    "                     \"Regex\": \"###score: train_ResultScorerPrBinary_score### (\\d*[.]?\\d*)\"}\n",
    "                   ,{\"Name\": \"ValidationPRScore\",\n",
    "                     \"Regex\": \"###score: val_ResultScorerPrBinary_score### (\\d*[.]?\\d*)\"}\n",
    "                      \n",
    "                     ,{\"Name\": \"TrainF1BinaryScore\",\n",
    "                     \"Regex\": \"###score: train_ResultScorerF1Binary_score### (\\d*[.]?\\d*)\"}\n",
    "                   ,{\"Name\": \"ValidationF1BinaryScore\",\n",
    "                     \"Regex\": \"###score: val_ResultScorerF1Binary_score### (\\d*[.]?\\d*)\"}\n",
    "                    ]"
   ]
  },
  {
   "cell_type": "code",
   "execution_count": 16,
   "metadata": {},
   "outputs": [
    {
     "name": "stdout",
     "output_type": "stream",
     "text": [
      "commit 19996f6b4651f32784885ed09fca43c1071696a0\n",
      "    Update notebooks\n"
     ]
    }
   ],
   "source": [
    "!git log -1 | head -1\n",
    "!git log -1 | head -5 | tail -1"
   ]
  },
  {
   "cell_type": "code",
   "execution_count": 17,
   "metadata": {},
   "outputs": [],
   "source": [
    "# set True if you need spot instance\n",
    "use_spot = True\n",
    "train_max_run_secs =   5 *24 * 60 * 60\n",
    "spot_wait_sec =  5 * 60\n",
    "max_wait_time_secs = train_max_run_secs +  spot_wait_sec\n",
    "\n",
    "if not use_spot:\n",
    "    max_wait_time_secs = None\n",
    "    \n",
    "# During local mode, no spot.., use smaller dataset\n",
    "if instance_type == 'local':\n",
    "    use_spot = False\n",
    "    max_wait_time_secs = 0\n",
    "    wait = True\n",
    "    # Use smaller dataset to run locally\n",
    "    inputs = inputs_sample"
   ]
  },
  {
   "cell_type": "code",
   "execution_count": null,
   "metadata": {},
   "outputs": [],
   "source": [
    "experiments = {\n",
    "    \"aimed-bert-unique-1fold-loss\" : {\n",
    "        \"hp\" :BertNetworkFactoryhyperparameters_single_fold_loss\n",
    "        \"inputs\" : unique_single_fold\n",
    "    },\n",
    "     \"aimed-bert-unique-1fold\" : {\n",
    "        \"hp\" :BertNetworkFactoryhyperparameters_single_fold\n",
    "        \"inputs\" : unique_single_fold\n",
    "    },\n",
    "      \"aimed-bert-unique-kfold\" : {\n",
    "        \"hp\" :BertNetworkFactoryhyperparameters_kfold\n",
    "        \"inputs\" : unique_inputs\n",
    "    }\n",
    "}"
   ]
  },
  {
   "cell_type": "code",
   "execution_count": 18,
   "metadata": {},
   "outputs": [],
   "source": [
    "\n",
    "base_name = \"aimed-bert-unique-1fold-loss\"\n",
    "\n",
    "hyperparameters = experiments[base_name][\"hp\"]\n",
    "inputs = experiments[base_name][\"inputs\"] "
   ]
  },
  {
   "cell_type": "code",
   "execution_count": 19,
   "metadata": {},
   "outputs": [
    {
     "data": {
      "text/plain": [
       "{'datasetfactory': 'datasets.aimed_dataset_factory.AimedDatasetFactory',\n",
       " 'modelfactory': 'models.bert_model_factory.BertModelFactory',\n",
       " 'tokenisor_lower_case': 0,\n",
       " 'batch': '8',\n",
       " 'gradientaccumulationsteps': '8',\n",
       " 'epochs': '100',\n",
       " 'log-level': 'INFO',\n",
       " 'learningrate': 1e-05,\n",
       " 'earlystoppingpatience': 9,\n",
       " 'checkpointdir': '/opt/ml/checkpoints/',\n",
       " 'checkpointfreq': 2,\n",
       " 'commit_id': '6df30be45e08af56a0f10fbfc8a724737f7ca9e1',\n",
       " 'uselosseval': 1}"
      ]
     },
     "execution_count": 19,
     "metadata": {},
     "output_type": "execute_result"
    }
   ],
   "source": [
    "hyperparameters"
   ]
  },
  {
   "cell_type": "code",
   "execution_count": 20,
   "metadata": {},
   "outputs": [],
   "source": [
    "git_config = {'repo': 'https://github.com/elangovana/ppi-aimed.git',\n",
    "              'branch': 'main',\n",
    "              'commit': hyperparameters[\"commit_id\"]\n",
    "             }"
   ]
  },
  {
   "cell_type": "code",
   "execution_count": 21,
   "metadata": {},
   "outputs": [
    {
     "data": {
      "text/plain": [
       "{'datasetfactory': 'datasets.aimed_dataset_factory.AimedDatasetFactory',\n",
       " 'modelfactory': 'models.bert_model_factory.BertModelFactory',\n",
       " 'tokenisor_lower_case': 0,\n",
       " 'batch': '8',\n",
       " 'gradientaccumulationsteps': '8',\n",
       " 'epochs': '100',\n",
       " 'log-level': 'INFO',\n",
       " 'learningrate': 1e-05,\n",
       " 'earlystoppingpatience': 9,\n",
       " 'checkpointdir': '/opt/ml/checkpoints/',\n",
       " 'checkpointfreq': 2,\n",
       " 'commit_id': '6df30be45e08af56a0f10fbfc8a724737f7ca9e1',\n",
       " 'uselosseval': 1}"
      ]
     },
     "execution_count": 21,
     "metadata": {},
     "output_type": "execute_result"
    }
   ],
   "source": [
    "hyperparameters"
   ]
  },
  {
   "cell_type": "code",
   "execution_count": 22,
   "metadata": {},
   "outputs": [
    {
     "data": {
      "text/plain": [
       "{'train': 's3://aegovan-data/aimed_dataset/kfold_unique/fold_0/train',\n",
       " 'val': 's3://aegovan-data/aimed_dataset/kfold_unique/fold_0/validation',\n",
       " 'PRETRAINED_MODEL': 's3://aegovan-data/embeddings/bert/'}"
      ]
     },
     "execution_count": 22,
     "metadata": {},
     "output_type": "execute_result"
    }
   ],
   "source": [
    "inputs"
   ]
  },
  {
   "cell_type": "code",
   "execution_count": 23,
   "metadata": {},
   "outputs": [],
   "source": [
    "\n",
    "\n",
    "from sagemaker.pytorch import PyTorch\n",
    "\n",
    "estimator = PyTorch(\n",
    "    entry_point='main_train_pipeline.py',\n",
    "                    source_dir = 'src',\n",
    "                    dependencies =['src/datasets', 'src/models','src/utils', 'src/scorers'],\n",
    "                      git_config= git_config,\n",
    "#                     image_name= docker_repo,\n",
    "                    role=role,\n",
    "                    framework_version =\"1.4.0\",\n",
    "                    py_version='py3',\n",
    "                    instance_count=1,\n",
    "                    instance_type=instance_type,\n",
    "                    hyperparameters = hyperparameters,\n",
    "                    output_path=s3_output_path,\n",
    "                    metric_definitions=metric_definitions,\n",
    "                    volume_size=30,\n",
    "                    code_location=s3_code_path,\n",
    "                    debugger_hook_config=False,\n",
    "                    base_job_name =base_name,  \n",
    "                    use_spot_instances = use_spot,\n",
    "                    max_run =  train_max_run_secs,\n",
    "                    max_wait = max_wait_time_secs,   \n",
    "                    checkpoint_s3_uri=s3_checkpoint,\n",
    "                    checkpoint_local_path=sm_localcheckpoint_dir)\n",
    "\n",
    "estimator.fit(inputs, wait=False)"
   ]
  }
 ],
 "metadata": {
  "kernelspec": {
   "display_name": "Python 3",
   "language": "python",
   "name": "python3"
  },
  "language_info": {
   "codemirror_mode": {
    "name": "ipython",
    "version": 3
   },
   "file_extension": ".py",
   "mimetype": "text/x-python",
   "name": "python",
   "nbconvert_exporter": "python",
   "pygments_lexer": "ipython3",
   "version": "3.7.4"
  }
 },
 "nbformat": 4,
 "nbformat_minor": 1
}
