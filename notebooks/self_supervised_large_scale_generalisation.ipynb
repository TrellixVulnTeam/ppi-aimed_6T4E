{
 "cells": [
  {
   "cell_type": "markdown",
   "metadata": {},
   "source": [
    "## Self supervised large scale generalisatiom"
   ]
  },
  {
   "cell_type": "code",
   "execution_count": 1,
   "metadata": {},
   "outputs": [],
   "source": [
    "import pandas as pd\n",
    "import os\n",
    "import matplotlib.pyplot as plt"
   ]
  },
  {
   "cell_type": "code",
   "execution_count": 2,
   "metadata": {},
   "outputs": [],
   "source": [
    "s3_prefix = \"s3://aegovan-data/selfsupervised_chemprot/predictions_selfsupervised-bert-f1-2022-09-17-23-42-42-470/2022091920/\"\n",
    "s3_output_prefix = \"{}_negative_generalisation/\".format(s3_prefix.rstrip(\"/\"))\n",
    "s3_training = \"s3://aegovan-data/self-supervised/train.json\"\n",
    "\n"
   ]
  },
  {
   "cell_type": "code",
   "execution_count": 3,
   "metadata": {},
   "outputs": [],
   "source": [
    "is_download_files= False"
   ]
  },
  {
   "cell_type": "code",
   "execution_count": 4,
   "metadata": {},
   "outputs": [],
   "source": [
    "label_order = [\"False\", \"True\"]\n",
    "pos_labels = list( filter(lambda x: x , label_order))\n",
    "label_order_key = lambda x:  label_order.index(x)\n",
    "\n",
    "label_title_map = {}"
   ]
  },
  {
   "cell_type": "code",
   "execution_count": 5,
   "metadata": {},
   "outputs": [],
   "source": [
    "local_temp = \"../temp\"\n",
    "local_temp_pred_dir = os.path.join( local_temp, \"pred_results\")\n",
    "local_temp_wk_dir = os.path.join( local_temp, \"wk\")"
   ]
  },
  {
   "cell_type": "code",
   "execution_count": 6,
   "metadata": {},
   "outputs": [],
   "source": [
    "import shutil\n",
    "\n",
    "def setup_dir(local_temp,local_temp_pred_dir, local_temp_wk_dir):\n",
    "    if os.path.exists(local_temp):\n",
    "        shutil.rmtree(local_temp)\n",
    "    os.makedirs(local_temp_pred_dir)\n",
    "    os.makedirs(local_temp_wk_dir)\n"
   ]
  },
  {
   "cell_type": "code",
   "execution_count": 7,
   "metadata": {},
   "outputs": [],
   "source": [
    "import boto3\n",
    "import glob\n",
    "from multiprocessing.dummy import Pool as ThreadPool\n",
    "import argparse\n",
    "import datetime \n",
    "import os\n",
    "\n",
    "\n",
    "def upload_file(localpath, s3path):\n",
    "        \"\"\"\n",
    "Uploads a file to s3\n",
    "        :param localpath: The local path\n",
    "        :param s3path: The s3 path in format s3://mybucket/mydir/mysample.txt\n",
    "        \"\"\"\n",
    "\n",
    "        bucket, key = get_bucketname_key(s3path)\n",
    "\n",
    "        if key.endswith(\"/\"):\n",
    "            key = \"{}{}\".format(key, os.path.basename(localpath))\n",
    "        \n",
    "        s3 = boto3.client('s3')\n",
    "        \n",
    "        s3.upload_file(localpath, bucket, key)\n",
    "\n",
    "def get_bucketname_key(uripath):\n",
    "    assert uripath.startswith(\"s3://\")\n",
    "\n",
    "    path_without_scheme = uripath[5:]\n",
    "    bucket_end_index = path_without_scheme.find(\"/\")\n",
    "\n",
    "    bucket_name = path_without_scheme\n",
    "    key = \"/\"\n",
    "    if bucket_end_index > -1:\n",
    "        bucket_name = path_without_scheme[0:bucket_end_index]\n",
    "        key = path_without_scheme[bucket_end_index + 1:]\n",
    "\n",
    "    return bucket_name, key\n",
    "\n",
    "\n",
    "def download_file(s3path, local_dir):\n",
    "    bucket, key = get_bucketname_key(s3path)\n",
    "    \n",
    "    s3 = boto3.client('s3')\n",
    "    \n",
    "    local_file = os.path.join(local_dir, s3path.split(\"/\")[-1])\n",
    "    \n",
    "\n",
    "    s3.download_file(bucket, key, local_file)\n",
    "    \n",
    "def download_object(s3path):\n",
    "    bucket, key = get_bucketname_key(s3path)\n",
    "    \n",
    "    s3 = boto3.client('s3')    \n",
    "\n",
    "    s3_response_object = s3.get_object(Bucket=bucket, Key=key)\n",
    "    object_content = s3_response_object['Body'].read()\n",
    "    \n",
    "    return len(object_content)\n",
    "\n",
    "\n",
    "\n",
    "def list_files(s3path_prefix):\n",
    "    assert s3path_prefix.startswith(\"s3://\")\n",
    "    assert s3path_prefix.endswith(\"/\")\n",
    "    \n",
    "    bucket, key = get_bucketname_key(s3path_prefix)\n",
    "    \n",
    "   \n",
    "   \n",
    "    s3 = boto3.resource('s3')\n",
    "    \n",
    "    bucket = s3.Bucket(name=bucket)\n",
    "\n",
    "    return ( (o.bucket_name, o.key) for o in bucket.objects.filter(Prefix=key))\n",
    "\n",
    "\n",
    "\n",
    "\n",
    "\n",
    "def upload_files(local_dir, s3_prefix, num_threads=20):    \n",
    "    input_tuples = ( (f,  s3_prefix) for f in glob.glob(\"{}/*\".format(local_dir)))\n",
    "    \n",
    "    with ThreadPool(num_threads) as pool:\n",
    "        pool.starmap(uploadfile, input_tuples)\n",
    "    \n",
    "\n",
    "\n",
    "def download_files(s3_prefix, local_dir, num_threads=20):    \n",
    "    input_tuples = ( (\"s3://{}/{}\".format(s3_bucket,s3_key),  local_dir) for s3_bucket, s3_key in list_files(s3_prefix))\n",
    "    \n",
    "    with ThreadPool(num_threads) as pool:\n",
    "        results = pool.starmap(download_file, input_tuples)\n",
    "        \n",
    "        \n",
    "\n",
    "def download_objects(s3_prefix, num_threads=20):    \n",
    "    s3_files = ( \"s3://{}/{}\".format(s3_bucket,s3_key) for s3_bucket, s3_key in list_files(s3_prefix))\n",
    "    \n",
    "    with ThreadPool(num_threads) as pool:\n",
    "        results = pool.map(download_object, s3_files)\n",
    "        \n",
    "    return sum(results)/1024\n",
    "        \n",
    "\n",
    "def get_directory_size(start_path):\n",
    "    total_size = 0\n",
    "    for dirpath, dirnames, filenames in os.walk(start_path):\n",
    "        for f in filenames:\n",
    "            fp = os.path.join(dirpath, f)\n",
    "            # skip if it is symbolic link\n",
    "            if not os.path.islink(fp):\n",
    "                total_size += os.path.getsize(fp)\n",
    "    return total_size\n",
    "\n",
    "def get_s3file_size(bucket, key):\n",
    "    s3 = boto3.client('s3')\n",
    "    response = s3.head_object(Bucket=bucket, Key=key)\n",
    "    size = response['ContentLength']\n",
    "    return size\n",
    "    \n",
    "def download_files_min_files(s3_prefix, local_dir, min_file_size=310, num_threads=20):    \n",
    "    input_tuples = ( (\"s3://{}/{}\".format(s3_bucket,s3_key),  local_dir) for s3_bucket, s3_key in list_files(s3_prefix) if get_s3file_size(s3_bucket, s3_key) > min_file_size )\n",
    "    \n",
    "    with ThreadPool(num_threads) as pool:\n",
    "        results = pool.starmap(download_file, input_tuples)\n",
    "        \n"
   ]
  },
  {
   "cell_type": "code",
   "execution_count": 8,
   "metadata": {},
   "outputs": [
    {
     "name": "stdout",
     "output_type": "stream",
     "text": [
      "CPU times: user 2 µs, sys: 0 ns, total: 2 µs\n",
      "Wall time: 4.77 µs\n"
     ]
    }
   ],
   "source": [
    "%%time\n",
    "\n",
    "if is_download_files:\n",
    "    setup_dir(local_temp,local_temp_pred_dir, local_temp_wk_dir)\n",
    "    download_files(s3_prefix, local_temp_pred_dir)"
   ]
  },
  {
   "cell_type": "code",
   "execution_count": 9,
   "metadata": {},
   "outputs": [
    {
     "name": "stdout",
     "output_type": "stream",
     "text": [
      "     100\r\n"
     ]
    }
   ],
   "source": [
    "!ls -l $local_temp_pred_dir | wc -l"
   ]
  },
  {
   "cell_type": "code",
   "execution_count": 10,
   "metadata": {},
   "outputs": [],
   "source": [
    "default_threshold =  0.95\n",
    "threshold_config =  {l: { \"confidence\":default_threshold}  for l in label_order}\n"
   ]
  },
  {
   "cell_type": "code",
   "execution_count": 11,
   "metadata": {},
   "outputs": [
    {
     "data": {
      "text/plain": [
       "{'False': {'confidence': 0.95}, 'True': {'confidence': 0.95}}"
      ]
     },
     "execution_count": 11,
     "metadata": {},
     "output_type": "execute_result"
    }
   ],
   "source": [
    "threshold_config"
   ]
  },
  {
   "cell_type": "code",
   "execution_count": 12,
   "metadata": {},
   "outputs": [],
   "source": [
    "def load_df_from_files(local_temp_pred_dir):\n",
    "   \n",
    "    list_df = []\n",
    "    for f in os.listdir(local_temp_pred_dir):\n",
    "        df = pd.read_json(os.path.join(local_temp_pred_dir, f), orient=\"records\" )\n",
    "        df[\"prediction\"]=df[\"prediction\"].astype(str)\n",
    "        list_df.append(df)\n",
    "    return pd.concat(list_df)\n"
   ]
  },
  {
   "cell_type": "code",
   "execution_count": 13,
   "metadata": {
    "scrolled": false
   },
   "outputs": [],
   "source": [
    "def get_summary_df(local_temp_pred_dir, use_std=False):\n",
    "    list_df_high_quality = []\n",
    "    list_df_low_quality = []\n",
    "    list_df_summary = []\n",
    "    for f in os.listdir(local_temp_pred_dir):\n",
    "        df = pd.read_json(os.path.join(local_temp_pred_dir, f), orient=\"records\" )\n",
    "        df[\"prediction\"]=df[\"prediction\"].astype(str)\n",
    "\n",
    "        \n",
    "        list_df_summary.append(df[[\"prediction\", \"confidence\", \"confidence_std\", \"abstract_id\"]])\n",
    "\n",
    "        # Filter below threshold items\n",
    "        high_quality_frames_per_interaction = []\n",
    "        low_quality_frames_per_interaction = []\n",
    "\n",
    "\n",
    "        for k,t in threshold_config.items():\n",
    "            conf_median = t[\"confidence\"]\n",
    "            conf_std_median = 1.0\n",
    "            \n",
    "            # HQ filter query\n",
    "            high_qry = \"prediction == '{}' and confidence >= {} and confidence_std <= {}\" .format(k, conf_median, conf_std_median)\n",
    "            if not use_std:\n",
    "                high_qry = \"prediction == '{}' and confidence >= {} \" .format(k, conf_median)\n",
    "            df_sub = df.query(high_qry)\n",
    "            sample = min(1000, len(df_sub) )\n",
    "            high_quality_frames_per_interaction.append(df_sub.sample(n=sample))\n",
    "\n",
    "\n",
    "            # Low quality filter query\n",
    "            conf_min = 0.8\n",
    "            conf_std_min = 0.0\n",
    "            low_qry = \"prediction == '{}' and confidence < {} and confidence_std > {}\" .format(k, conf_min, conf_std_min)\n",
    "            if not use_std:\n",
    "                low_qry = \"prediction == '{}' and confidence < {} \" .format(k, conf_min)\n",
    "            df_low = df.query(low_qry)\n",
    "            sample=min(1000, len(df_low) )\n",
    "            low_quality_frames_per_interaction.append(df_low.sort_values(by=[\"prediction\", \"confidence_std\"]).head(n=sample))\n",
    "           \n",
    "\n",
    "        high_quality_df = pd.concat(high_quality_frames_per_interaction)\n",
    "        low_quality_df = pd.concat(low_quality_frames_per_interaction)\n",
    "\n",
    "\n",
    "        list_df_high_quality.append(high_quality_df)\n",
    "        list_df_low_quality.append(low_quality_df)\n",
    "\n",
    "\n",
    "    \n",
    "    return pd.concat(list_df_high_quality), pd.concat(list_df_summary), pd.concat(list_df_low_quality)\n",
    "\n"
   ]
  },
  {
   "cell_type": "code",
   "execution_count": 14,
   "metadata": {},
   "outputs": [],
   "source": [
    "\n",
    "\n",
    "def is_in_training_pubmed(df, training_df):\n",
    "    return df[\"abstract_id\"].isin(training_df[\"abstract_id\"])"
   ]
  },
  {
   "cell_type": "code",
   "execution_count": 15,
   "metadata": {},
   "outputs": [],
   "source": [
    "download_file(s3_training, local_temp_wk_dir)\n",
    "training_data_file = os.path.join(local_temp_wk_dir, s3_training.split(\"/\")[-1])\n",
    "data_training_full_df = pd.read_json(training_data_file)"
   ]
  },
  {
   "cell_type": "code",
   "execution_count": 16,
   "metadata": {},
   "outputs": [
    {
     "name": "stdout",
     "output_type": "stream",
     "text": [
      "CPU times: user 25.1 s, sys: 2.79 s, total: 27.9 s\n",
      "Wall time: 28 s\n"
     ]
    }
   ],
   "source": [
    "%%time \n",
    "\n",
    "\n",
    "df_high_quality_threshold, df_summary, df_low_quality_threshold = get_summary_df (local_temp_pred_dir)\n",
    "df_high_quality_threshold[ \"RecordInTrainingData\"] = is_in_training_pubmed( df_high_quality_threshold, data_training_full_df)\n",
    "df_summary[\"RecordInTrainingData\"] = is_in_training_pubmed( df_summary, data_training_full_df)\n",
    "df_low_quality_threshold[ \"RecordInTrainingData\"]= is_in_training_pubmed( df_low_quality_threshold, data_training_full_df)"
   ]
  },
  {
   "cell_type": "code",
   "execution_count": 17,
   "metadata": {},
   "outputs": [
    {
     "data": {
      "text/plain": [
       "prediction               object\n",
       "confidence              float64\n",
       "confidence_std          float64\n",
       "abstract_id               int64\n",
       "RecordInTrainingData       bool\n",
       "dtype: object"
      ]
     },
     "execution_count": 17,
     "metadata": {},
     "output_type": "execute_result"
    }
   ],
   "source": [
    "df_summary.dtypes"
   ]
  },
  {
   "cell_type": "code",
   "execution_count": 18,
   "metadata": {},
   "outputs": [
    {
     "data": {
      "text/html": [
       "<div>\n",
       "<style scoped>\n",
       "    .dataframe tbody tr th:only-of-type {\n",
       "        vertical-align: middle;\n",
       "    }\n",
       "\n",
       "    .dataframe tbody tr th {\n",
       "        vertical-align: top;\n",
       "    }\n",
       "\n",
       "    .dataframe thead th {\n",
       "        text-align: right;\n",
       "    }\n",
       "</style>\n",
       "<table border=\"1\" class=\"dataframe\">\n",
       "  <thead>\n",
       "    <tr style=\"text-align: right;\">\n",
       "      <th></th>\n",
       "      <th>count</th>\n",
       "      <th>mean</th>\n",
       "      <th>std</th>\n",
       "      <th>min</th>\n",
       "      <th>25%</th>\n",
       "      <th>50%</th>\n",
       "      <th>75%</th>\n",
       "      <th>max</th>\n",
       "    </tr>\n",
       "    <tr>\n",
       "      <th>prediction</th>\n",
       "      <th></th>\n",
       "      <th></th>\n",
       "      <th></th>\n",
       "      <th></th>\n",
       "      <th></th>\n",
       "      <th></th>\n",
       "      <th></th>\n",
       "      <th></th>\n",
       "    </tr>\n",
       "  </thead>\n",
       "  <tbody>\n",
       "    <tr>\n",
       "      <th>False</th>\n",
       "      <td>2019270.0</td>\n",
       "      <td>0.990737</td>\n",
       "      <td>0.045619</td>\n",
       "      <td>0.500013</td>\n",
       "      <td>0.998954</td>\n",
       "      <td>0.999207</td>\n",
       "      <td>0.999253</td>\n",
       "      <td>0.999648</td>\n",
       "    </tr>\n",
       "    <tr>\n",
       "      <th>True</th>\n",
       "      <td>222440.0</td>\n",
       "      <td>0.932311</td>\n",
       "      <td>0.116868</td>\n",
       "      <td>0.500005</td>\n",
       "      <td>0.932357</td>\n",
       "      <td>0.990719</td>\n",
       "      <td>0.997000</td>\n",
       "      <td>0.998745</td>\n",
       "    </tr>\n",
       "  </tbody>\n",
       "</table>\n",
       "</div>"
      ],
      "text/plain": [
       "                count      mean       std       min       25%       50%  \\\n",
       "prediction                                                                \n",
       "False       2019270.0  0.990737  0.045619  0.500013  0.998954  0.999207   \n",
       "True         222440.0  0.932311  0.116868  0.500005  0.932357  0.990719   \n",
       "\n",
       "                 75%       max  \n",
       "prediction                      \n",
       "False       0.999253  0.999648  \n",
       "True        0.997000  0.998745  "
      ]
     },
     "execution_count": 18,
     "metadata": {},
     "output_type": "execute_result"
    }
   ],
   "source": [
    "df_summary.groupby(\"prediction\")[\"confidence\"].describe()"
   ]
  },
  {
   "cell_type": "code",
   "execution_count": 19,
   "metadata": {},
   "outputs": [],
   "source": [
    "import matplotlib.gridspec as gridspec\n",
    "\n",
    "import numpy as np\n",
    "\n",
    "def box_plot_prediction_confidence(df, df_high_quality, subplot_spec, title_prefix=\"\", set_title=True):\n",
    "    \n",
    "    df = df[~df.RecordInTrainingData].copy()\n",
    "    df_high_quality = df_high_quality[~df_high_quality.RecordInTrainingData].copy()\n",
    "    \n",
    "    \n",
    "    interaction_types = label_order\n",
    "    \n",
    "    num_plots = len(interaction_types)\n",
    "    gs = gridspec.GridSpecFromSubplotSpec(1, len(label_order), subplot_spec=subplot_spec)\n",
    "    \n",
    "    for i, interaction in enumerate(interaction_types):\n",
    "        df_interaction = df.query(f\"prediction == '{interaction}'\")\n",
    "        df_interaction_high_quality = df_high_quality.query(f\"prediction == '{interaction}'\")\n",
    "        \n",
    "        if len(df_interaction) == 0: continue\n",
    "        \n",
    "        ax = fig.add_subplot(gs[0, i])\n",
    "    \n",
    "    \n",
    "        # Rename columns\n",
    "        new_column_names = {\"confidence\":\"c\", \n",
    "                           \"confidence_std\" : \"v\"\n",
    "                            }\n",
    "        df_interaction = df_interaction.rename(columns = new_column_names)\n",
    "        df_interaction_high_quality=df_interaction_high_quality.rename(columns = new_column_names)\n",
    "        \n",
    "        \n",
    "        # Style and formatting..\n",
    "        \n",
    "        if set_title:\n",
    "            ax.set_title(\"{}{}\\nT={} (HQ={}%)\".format( title_prefix,\n",
    "                                               label_title_map.get(interaction, interaction).title(),\n",
    "                                               len(df_interaction),\n",
    "                                               round(100 * len(df_interaction_high_quality)/len(df_interaction),2)                \n",
    "                                              )\n",
    "                        )\n",
    "        ax.set_ylim(0,1)\n",
    "        \n",
    "        ax.tick_params(\n",
    "            axis='x',          # changes apply to the x-axis\n",
    "            which='both',      # both major and minor ticks are affected\n",
    "            bottom=False,      # ticks along the bottom edge are off\n",
    "            top=False,         # ticks along the top edge are off\n",
    "            labelbottom=False)\n",
    "        \n",
    "        ax.spines['bottom'].set_color('grey')\n",
    "        ax.spines['top'].set_color('grey') \n",
    "        ax.spines['right'].set_color('grey')\n",
    "        ax.spines['left'].set_color('grey')\n",
    "        \n",
    "        \n",
    "        # Plot violin plot        \n",
    "        ax.violinplot(df_interaction[[\"c\", \"v\" ]],  showmeans=True )\n",
    "        if len(df_interaction_high_quality) > 0:\n",
    "            ax.violinplot(df_interaction_high_quality[[\"c\", \"v\" ]],  showmeans=True )\n",
    "        \n",
    "        \n",
    "        x_labels = ['C', 'V']\n",
    "        \n",
    "        ax.xaxis.set_tick_params(direction='out')\n",
    "        ax.xaxis.set_ticks_position('bottom')\n",
    "        ax.set_xticks(np.arange(1, len(x_labels) + 1))\n",
    "        ax.set_xticklabels(x_labels)\n",
    "        ax.set_xlim(0.25, len(x_labels) + 0.75)\n",
    "        \n",
    "        \n",
    "       \n",
    "\n",
    "\n",
    "\n",
    "        \n"
   ]
  },
  {
   "cell_type": "code",
   "execution_count": 20,
   "metadata": {},
   "outputs": [
    {
     "data": {
      "text/plain": [
       "((190090, 9), (2241710, 5))"
      ]
     },
     "execution_count": 20,
     "metadata": {},
     "output_type": "execute_result"
    }
   ],
   "source": [
    "df_high_quality_threshold.shape, df_summary.shape"
   ]
  },
  {
   "cell_type": "code",
   "execution_count": 21,
   "metadata": {},
   "outputs": [
    {
     "name": "stderr",
     "output_type": "stream",
     "text": [
      "/Users/aeg/venv/ppi-aimed/lib/python3.7/site-packages/numpy/linalg/linalg.py:2158: RuntimeWarning: invalid value encountered in det\n",
      "  r = _umath_linalg.det(a, signature=signature)\n"
     ]
    },
    {
     "data": {
      "image/png": "[encoded data removed]",
      "text/plain": [
       "<Figure size 1800x504 with 2 Axes>"
      ]
     },
     "metadata": {
      "needs_background": "light"
     },
     "output_type": "display_data"
    }
   ],
   "source": [
    "fig = plt.figure(figsize=(25 , 7))\n",
    "gs = fig.add_gridspec(nrows=2)\n",
    "\n",
    "box_plot_prediction_confidence(df_summary, df_high_quality_threshold, gs[0])\n",
    "\n",
    "plt.savefig(\"largescaleprediction_distribution.pdf\", bbox_inches=\"tight\")"
   ]
  },
  {
   "cell_type": "code",
   "execution_count": 22,
   "metadata": {},
   "outputs": [
    {
     "data": {
      "text/plain": [
       "False    31142\n",
       "True     28902\n",
       "Name: prediction, dtype: int64"
      ]
     },
     "execution_count": 22,
     "metadata": {},
     "output_type": "execute_result"
    }
   ],
   "source": [
    "df_low_quality_threshold[\"prediction\"].value_counts()"
   ]
  },
  {
   "cell_type": "code",
   "execution_count": 23,
   "metadata": {},
   "outputs": [
    {
     "name": "stderr",
     "output_type": "stream",
     "text": [
      "/Users/aeg/venv/ppi-aimed/lib/python3.7/site-packages/numpy/linalg/linalg.py:2158: RuntimeWarning: invalid value encountered in det\n",
      "  r = _umath_linalg.det(a, signature=signature)\n"
     ]
    },
    {
     "data": {
      "image/png": "[encoded data removed]",
      "text/plain": [
       "<Figure size 1800x504 with 2 Axes>"
      ]
     },
     "metadata": {
      "needs_background": "light"
     },
     "output_type": "display_data"
    }
   ],
   "source": [
    "fig = plt.figure(figsize=(25 , 7))\n",
    "gs = fig.add_gridspec(nrows=2)\n",
    "\n",
    "box_plot_prediction_confidence(df_summary, df_low_quality_threshold, gs[0])\n",
    "\n"
   ]
  },
  {
   "cell_type": "code",
   "execution_count": 24,
   "metadata": {},
   "outputs": [
    {
     "data": {
      "text/plain": [
       "(2241710, 5)"
      ]
     },
     "execution_count": 24,
     "metadata": {},
     "output_type": "execute_result"
    }
   ],
   "source": [
    "df_summary.shape"
   ]
  },
  {
   "cell_type": "code",
   "execution_count": 25,
   "metadata": {},
   "outputs": [
    {
     "data": {
      "text/html": [
       "<div>\n",
       "<style scoped>\n",
       "    .dataframe tbody tr th:only-of-type {\n",
       "        vertical-align: middle;\n",
       "    }\n",
       "\n",
       "    .dataframe tbody tr th {\n",
       "        vertical-align: top;\n",
       "    }\n",
       "\n",
       "    .dataframe thead th {\n",
       "        text-align: right;\n",
       "    }\n",
       "</style>\n",
       "<table border=\"1\" class=\"dataframe\">\n",
       "  <thead>\n",
       "    <tr style=\"text-align: right;\">\n",
       "      <th></th>\n",
       "      <th>prediction</th>\n",
       "      <th>False</th>\n",
       "      <th>True</th>\n",
       "    </tr>\n",
       "  </thead>\n",
       "  <tbody>\n",
       "    <tr>\n",
       "      <th rowspan=\"8\" valign=\"top\">confidence</th>\n",
       "      <th>count</th>\n",
       "      <td>2.019270e+06</td>\n",
       "      <td>222440.000000</td>\n",
       "    </tr>\n",
       "    <tr>\n",
       "      <th>mean</th>\n",
       "      <td>9.907368e-01</td>\n",
       "      <td>0.932311</td>\n",
       "    </tr>\n",
       "    <tr>\n",
       "      <th>std</th>\n",
       "      <td>4.561930e-02</td>\n",
       "      <td>0.116868</td>\n",
       "    </tr>\n",
       "    <tr>\n",
       "      <th>min</th>\n",
       "      <td>5.000131e-01</td>\n",
       "      <td>0.500005</td>\n",
       "    </tr>\n",
       "    <tr>\n",
       "      <th>25%</th>\n",
       "      <td>9.989537e-01</td>\n",
       "      <td>0.932357</td>\n",
       "    </tr>\n",
       "    <tr>\n",
       "      <th>50%</th>\n",
       "      <td>9.992068e-01</td>\n",
       "      <td>0.990719</td>\n",
       "    </tr>\n",
       "    <tr>\n",
       "      <th>75%</th>\n",
       "      <td>9.992532e-01</td>\n",
       "      <td>0.997000</td>\n",
       "    </tr>\n",
       "    <tr>\n",
       "      <th>max</th>\n",
       "      <td>9.996483e-01</td>\n",
       "      <td>0.998745</td>\n",
       "    </tr>\n",
       "  </tbody>\n",
       "</table>\n",
       "</div>"
      ],
      "text/plain": [
       "prediction               False           True\n",
       "confidence count  2.019270e+06  222440.000000\n",
       "           mean   9.907368e-01       0.932311\n",
       "           std    4.561930e-02       0.116868\n",
       "           min    5.000131e-01       0.500005\n",
       "           25%    9.989537e-01       0.932357\n",
       "           50%    9.992068e-01       0.990719\n",
       "           75%    9.992532e-01       0.997000\n",
       "           max    9.996483e-01       0.998745"
      ]
     },
     "execution_count": 25,
     "metadata": {},
     "output_type": "execute_result"
    }
   ],
   "source": [
    "df_summary[[\"confidence\",\"prediction\"]].groupby(\"prediction\").describe().T"
   ]
  },
  {
   "cell_type": "code",
   "execution_count": 26,
   "metadata": {},
   "outputs": [
    {
     "name": "stdout",
     "output_type": "stream",
     "text": [
      "\\begin{tabular}{lrr}\n",
      "\\toprule\n",
      "{} &  all\\_count &  thresh\\_count \\\\\n",
      "prediction &            &               \\\\\n",
      "\\midrule\n",
      "False      &    2019232 &         97082 \\\\\n",
      "True       &     222435 &         93004 \\\\\n",
      "Total      &    2241667 &        190086 \\\\\n",
      "\\bottomrule\n",
      "\\end{tabular}\n",
      "\n",
      "CPU times: user 259 ms, sys: 59.1 ms, total: 318 ms\n",
      "Wall time: 322 ms\n"
     ]
    },
    {
     "data": {
      "text/html": [
       "<div>\n",
       "<style scoped>\n",
       "    .dataframe tbody tr th:only-of-type {\n",
       "        vertical-align: middle;\n",
       "    }\n",
       "\n",
       "    .dataframe tbody tr th {\n",
       "        vertical-align: top;\n",
       "    }\n",
       "\n",
       "    .dataframe thead th {\n",
       "        text-align: right;\n",
       "    }\n",
       "</style>\n",
       "<table border=\"1\" class=\"dataframe\">\n",
       "  <thead>\n",
       "    <tr style=\"text-align: right;\">\n",
       "      <th></th>\n",
       "      <th>all_count</th>\n",
       "      <th>thresh_count</th>\n",
       "    </tr>\n",
       "    <tr>\n",
       "      <th>prediction</th>\n",
       "      <th></th>\n",
       "      <th></th>\n",
       "    </tr>\n",
       "  </thead>\n",
       "  <tbody>\n",
       "    <tr>\n",
       "      <th>False</th>\n",
       "      <td>2019232</td>\n",
       "      <td>97082</td>\n",
       "    </tr>\n",
       "    <tr>\n",
       "      <th>True</th>\n",
       "      <td>222435</td>\n",
       "      <td>93004</td>\n",
       "    </tr>\n",
       "    <tr>\n",
       "      <th>Total</th>\n",
       "      <td>2241667</td>\n",
       "      <td>190086</td>\n",
       "    </tr>\n",
       "  </tbody>\n",
       "</table>\n",
       "</div>"
      ],
      "text/plain": [
       "            all_count  thresh_count\n",
       "prediction                         \n",
       "False         2019232         97082\n",
       "True           222435         93004\n",
       "Total         2241667        190086"
      ]
     },
     "execution_count": 26,
     "metadata": {},
     "output_type": "execute_result"
    }
   ],
   "source": [
    "%%time\n",
    "\n",
    "def prepare_predictions_summary(df_full, df_high_quality_threshold):\n",
    "    \n",
    "    \n",
    "    df_full = df_full[~df_full.RecordInTrainingData].copy()\n",
    "    \n",
    "    df_high_quality_threshold = df_high_quality_threshold[~df_high_quality_threshold.RecordInTrainingData].copy()\n",
    "\n",
    "\n",
    "        \n",
    "    \n",
    "    summary_df = pd.DataFrame(df_full\n",
    "                  .groupby([ \"prediction\"]).size()).rename(columns={0: \"all_count\"})\n",
    "\n",
    "    \n",
    "\n",
    "    thresh_df = pd.DataFrame(df_high_quality_threshold\\\n",
    "              .groupby('prediction').size())\\\n",
    "              .rename(columns={0: \"thresh_count\"})\n",
    "    \n",
    "    \n",
    "    \n",
    "    \n",
    "    dfs = [summary_df,  thresh_df]\n",
    "    result_df = pd.DataFrame()\n",
    "    \n",
    "    for df in dfs:\n",
    "        result_df = result_df.merge(df, left_index=True,  right_index=True, how=\"outer\")\n",
    "        \n",
    "        \n",
    "    for col in result_df.columns:\n",
    "        result_df.loc[\"Total\",col] = result_df[col].sum()\n",
    "        \n",
    "    result_df = result_df.fillna(0)\n",
    "        \n",
    "    result_df = result_df.astype(int)\n",
    "    return result_df\n",
    "\n",
    "\n",
    "latex_df_results = prepare_predictions_summary(df_summary, df_high_quality_threshold)\n",
    "\n",
    "print(latex_df_results.to_latex( index=True))\n",
    "\n",
    "latex_df_results"
   ]
  },
  {
   "cell_type": "code",
   "execution_count": 27,
   "metadata": {},
   "outputs": [
    {
     "data": {
      "text/plain": [
       "prediction\n",
       "False    97083\n",
       "True     93007\n",
       "dtype: int64"
      ]
     },
     "execution_count": 27,
     "metadata": {},
     "output_type": "execute_result"
    }
   ],
   "source": [
    "df_high_quality_threshold.groupby([\"prediction\"]).size()"
   ]
  },
  {
   "cell_type": "code",
   "execution_count": 28,
   "metadata": {},
   "outputs": [],
   "source": [
    "\n",
    "pd.set_option('display.max_columns', None)\n",
    "pd.set_option('display.max_rows', 100)\n",
    "\n",
    "plt.rcParams.update({'font.size': 12})"
   ]
  },
  {
   "cell_type": "code",
   "execution_count": 29,
   "metadata": {},
   "outputs": [],
   "source": [
    "\n",
    "local_file_high_q_sample = os.path.join(local_temp, \"highquality_sample.json\")\n",
    "local_file_low_q_sample = os.path.join(local_temp, \"lowquality_sample.json\")\n",
    "\n",
    "df_high_quality_threshold.to_json(local_file_high_q_sample,  orient='records')\n",
    "df_low_quality_threshold.to_json(local_file_low_q_sample,   orient='records')\n",
    "\n",
    "\n"
   ]
  },
  {
   "cell_type": "code",
   "execution_count": 30,
   "metadata": {},
   "outputs": [],
   "source": [
    "upload_file( local_file_high_q_sample, \"{}/\".format( s3_output_prefix.rstrip(\"/\")))\n",
    "upload_file( local_file_low_q_sample, \"{}/\".format( s3_output_prefix.rstrip(\"/\")))\n",
    "\n"
   ]
  },
  {
   "cell_type": "code",
   "execution_count": 47,
   "metadata": {},
   "outputs": [],
   "source": [
    "from utils.ppi_multiclass_comparer import PpiMulticlassComparer\n",
    "from utils.similarity_comparer import SimilarityComparer\n",
    "import pandas as pd\n",
    "import tempfile\n",
    "\n",
    "def get_sim_scores(ref_file_or_df, target_file_or_df, n_gram, additional_target_cols):\n",
    "    marker_ref_file = ref_file_or_df\n",
    "    marker_target_file = target_file_or_df\n",
    "\n",
    "    \n",
    "    if isinstance(ref_file_or_df, str):\n",
    "        df_ref_marker = pd.read_json(marker_ref_file)\n",
    "        df_target_marker =  pd.read_json(marker_target_file)\n",
    "    else:\n",
    "        df_ref_marker = marker_ref_file\n",
    "        df_target_marker = marker_target_file\n",
    "    \n",
    "    comparer =  SimilarityComparer(n_gram=n_gram, max_features=1050)\n",
    "    comparison_result = comparer(df_ref_marker[\"abstract\"].tolist(), df_target_marker[\"abstract\"].tolist())\n",
    "    \n",
    "    sim_score = comparison_result[0]\n",
    "    \n",
    "    df_target_marker[\"sim_score\"]  = comparison_result[0]\n",
    "    return df_target_marker\n",
    "    \n",
    "def plot_sim_scores(df, ax, interaction, title_prefix ):\n",
    "    \n",
    "    for i, interaction_type in enumerate(interaction): \n",
    "        df_interaction = df.query(f\"interaction_type == '{interaction_type}'\")\n",
    "        \n",
    "        if len(df_interaction) ==0: continue\n",
    "            \n",
    "        ax[i].set_ylim(0,1)\n",
    "        \n",
    "        ax[i].set_title(f\"{title_prefix} {interaction_type}\")\n",
    "\n",
    "        ax[i].tick_params(\n",
    "            axis='x',          # changes apply to the x-axis\n",
    "            which='both',      # both major and minor ticks are affected\n",
    "            bottom=False,      # ticks along the bottom edge are off\n",
    "            top=False,         # ticks along the top edge are off\n",
    "            labelbottom=False)\n",
    "\n",
    "        ax[i].spines['bottom'].set_color('grey')\n",
    "        ax[i].spines['top'].set_color('grey') \n",
    "        ax[i].spines['right'].set_color('grey')\n",
    "        ax[i].spines['left'].set_color('grey')\n",
    "        \n",
    "        \n",
    "\n",
    "        ax[i].violinplot(df_interaction[\"best_score\"],  showmeans=True )"
   ]
  },
  {
   "cell_type": "code",
   "execution_count": 43,
   "metadata": {},
   "outputs": [
    {
     "data": {
      "text/plain": [
       "(190090, 9)"
      ]
     },
     "execution_count": 43,
     "metadata": {},
     "output_type": "execute_result"
    }
   ],
   "source": [
    "df_high_quality_threshold.shape"
   ]
  },
  {
   "cell_type": "code",
   "execution_count": 48,
   "metadata": {},
   "outputs": [
    {
     "data": {
      "text/html": [
       "<div>\n",
       "<style scoped>\n",
       "    .dataframe tbody tr th:only-of-type {\n",
       "        vertical-align: middle;\n",
       "    }\n",
       "\n",
       "    .dataframe tbody tr th {\n",
       "        vertical-align: top;\n",
       "    }\n",
       "\n",
       "    .dataframe thead th {\n",
       "        text-align: right;\n",
       "    }\n",
       "</style>\n",
       "<table border=\"1\" class=\"dataframe\">\n",
       "  <thead>\n",
       "    <tr style=\"text-align: right;\">\n",
       "      <th></th>\n",
       "      <th>abstract_id</th>\n",
       "      <th>abstract</th>\n",
       "      <th>false</th>\n",
       "      <th>true</th>\n",
       "      <th>prediction</th>\n",
       "      <th>confidence</th>\n",
       "      <th>confidence_std</th>\n",
       "      <th>raw_confidence</th>\n",
       "      <th>RecordInTrainingData</th>\n",
       "      <th>sim_score</th>\n",
       "    </tr>\n",
       "  </thead>\n",
       "  <tbody>\n",
       "    <tr>\n",
       "      <th>9</th>\n",
       "      <td>20791874</td>\n",
       "      <td>When breathing air, the average arterial oxyge...</td>\n",
       "      <td>0.999210</td>\n",
       "      <td>0.000790</td>\n",
       "      <td>False</td>\n",
       "      <td>0.999210</td>\n",
       "      <td>NaN</td>\n",
       "      <td>[0.9992102384567261]</td>\n",
       "      <td>False</td>\n",
       "      <td>0.225449</td>\n",
       "    </tr>\n",
       "    <tr>\n",
       "      <th>10</th>\n",
       "      <td>20791875</td>\n",
       "      <td>A comparative trial of co-trimoxazole and chlo...</td>\n",
       "      <td>0.999268</td>\n",
       "      <td>0.000732</td>\n",
       "      <td>False</td>\n",
       "      <td>0.999268</td>\n",
       "      <td>NaN</td>\n",
       "      <td>[0.9992682337760921]</td>\n",
       "      <td>False</td>\n",
       "      <td>0.358464</td>\n",
       "    </tr>\n",
       "    <tr>\n",
       "      <th>12</th>\n",
       "      <td>20791877</td>\n",
       "      <td>Subtyping of hepatitis B antigen (HBA) in bloo...</td>\n",
       "      <td>0.999327</td>\n",
       "      <td>0.000673</td>\n",
       "      <td>False</td>\n",
       "      <td>0.999327</td>\n",
       "      <td>NaN</td>\n",
       "      <td>[0.9993270635604851]</td>\n",
       "      <td>False</td>\n",
       "      <td>0.267713</td>\n",
       "    </tr>\n",
       "    <tr>\n",
       "      <th>4</th>\n",
       "      <td>20791862</td>\n",
       "      <td>An abrupt method of terminating prescriptions ...</td>\n",
       "      <td>0.999256</td>\n",
       "      <td>0.000744</td>\n",
       "      <td>False</td>\n",
       "      <td>0.999256</td>\n",
       "      <td>NaN</td>\n",
       "      <td>[0.9992560744285581]</td>\n",
       "      <td>False</td>\n",
       "      <td>0.378387</td>\n",
       "    </tr>\n",
       "    <tr>\n",
       "      <th>13</th>\n",
       "      <td>20791880</td>\n",
       "      <td>When a patient presents with wheezing, pulmona...</td>\n",
       "      <td>0.999311</td>\n",
       "      <td>0.000689</td>\n",
       "      <td>False</td>\n",
       "      <td>0.999311</td>\n",
       "      <td>NaN</td>\n",
       "      <td>[0.999311208724975]</td>\n",
       "      <td>False</td>\n",
       "      <td>0.232936</td>\n",
       "    </tr>\n",
       "  </tbody>\n",
       "</table>\n",
       "</div>"
      ],
      "text/plain": [
       "    abstract_id                                           abstract     false  \\\n",
       "9      20791874  When breathing air, the average arterial oxyge...  0.999210   \n",
       "10     20791875  A comparative trial of co-trimoxazole and chlo...  0.999268   \n",
       "12     20791877  Subtyping of hepatitis B antigen (HBA) in bloo...  0.999327   \n",
       "4      20791862  An abrupt method of terminating prescriptions ...  0.999256   \n",
       "13     20791880  When a patient presents with wheezing, pulmona...  0.999311   \n",
       "\n",
       "        true prediction  confidence  confidence_std        raw_confidence  \\\n",
       "9   0.000790      False    0.999210             NaN  [0.9992102384567261]   \n",
       "10  0.000732      False    0.999268             NaN  [0.9992682337760921]   \n",
       "12  0.000673      False    0.999327             NaN  [0.9993270635604851]   \n",
       "4   0.000744      False    0.999256             NaN  [0.9992560744285581]   \n",
       "13  0.000689      False    0.999311             NaN   [0.999311208724975]   \n",
       "\n",
       "    RecordInTrainingData  sim_score  \n",
       "9                  False   0.225449  \n",
       "10                 False   0.358464  \n",
       "12                 False   0.267713  \n",
       "4                  False   0.378387  \n",
       "13                 False   0.232936  "
      ]
     },
     "execution_count": 48,
     "metadata": {},
     "output_type": "execute_result"
    }
   ],
   "source": [
    "df_sim_score_high = get_sim_scores(data_training_full_df, df_high_quality_threshold, n_gram=1, additional_target_cols=list(df_high_quality_threshold.columns))\n",
    "\n",
    "df_sim_score_high.head()\n"
   ]
  },
  {
   "cell_type": "code",
   "execution_count": 49,
   "metadata": {},
   "outputs": [
    {
     "data": {
      "text/plain": [
       "<AxesSubplot:>"
      ]
     },
     "execution_count": 49,
     "metadata": {},
     "output_type": "execute_result"
    },
    {
     "data": {
      "image/png": "[encoded data removed]",
      "text/plain": [
       "<Figure size 432x288 with 1 Axes>"
      ]
     },
     "metadata": {
      "needs_background": "light"
     },
     "output_type": "display_data"
    }
   ],
   "source": [
    "df_sim_score_high[[\"confidence\",\"sim_score\"]].plot.box()"
   ]
  },
  {
   "cell_type": "code",
   "execution_count": 50,
   "metadata": {},
   "outputs": [
    {
     "data": {
      "text/plain": [
       "<AxesSubplot:>"
      ]
     },
     "execution_count": 50,
     "metadata": {},
     "output_type": "execute_result"
    },
    {
     "data": {
      "image/png": "[encoded data removed]",
      "text/plain": [
       "<Figure size 432x288 with 1 Axes>"
      ]
     },
     "metadata": {
      "needs_background": "light"
     },
     "output_type": "display_data"
    }
   ],
   "source": [
    "df_sim_score_low = get_sim_scores(data_training_full_df, df_low_quality_threshold, n_gram=1, additional_target_cols=list(df_low_quality_threshold.columns))\n",
    "df_sim_score_low[[\"confidence\",\"sim_score\"]].plot.box()"
   ]
  },
  {
   "cell_type": "code",
   "execution_count": 51,
   "metadata": {},
   "outputs": [],
   "source": [
    "def plot_box_sim_scores_confidence(df_high, df_low):\n",
    "    p_unique = sorted(list(df_high[\"prediction\"].unique()))\n",
    "    \n",
    "    _, axes = plt.subplots(1, len(p_unique), figsize=(30 ,8))\n",
    "    \n",
    "    for i, l in enumerate(p_unique):\n",
    "        dh = df_high.query(f\"prediction == '{l}'\")\n",
    "        dl = df_low.query(f\"prediction == '{l}'\")\n",
    "        \n",
    "        dl = dl[[\"confidence\", \"sim_score\"]]\n",
    "        dh = dh[[\"confidence\", \"sim_score\"]]                   \n",
    "                    \n",
    "        \n",
    "        data = dh.values.T.tolist()\n",
    "        data.extend(dl.values.T.tolist())\n",
    "      \n",
    "        ax=axes[i]\n",
    "        ax.boxplot(data, showmeans=True)\n",
    "        ax.set_title(l)\n",
    "        ax.set_xticklabels([\"HC\",\"HS\", \"LC\", \"LH\"])\n"
   ]
  },
  {
   "cell_type": "code",
   "execution_count": 52,
   "metadata": {},
   "outputs": [
    {
     "data": {
      "image/png": "[encoded data removed]",
      "text/plain": [
       "<Figure size 2160x576 with 2 Axes>"
      ]
     },
     "metadata": {
      "needs_background": "light"
     },
     "output_type": "display_data"
    }
   ],
   "source": [
    "plot_box_sim_scores_confidence(df_sim_score_high, df_sim_score_low)"
   ]
  },
  {
   "cell_type": "code",
   "execution_count": 53,
   "metadata": {},
   "outputs": [
    {
     "data": {
      "text/html": [
       "<div>\n",
       "<style scoped>\n",
       "    .dataframe tbody tr th:only-of-type {\n",
       "        vertical-align: middle;\n",
       "    }\n",
       "\n",
       "    .dataframe tbody tr th {\n",
       "        vertical-align: top;\n",
       "    }\n",
       "\n",
       "    .dataframe thead tr th {\n",
       "        text-align: left;\n",
       "    }\n",
       "\n",
       "    .dataframe thead tr:last-of-type th {\n",
       "        text-align: right;\n",
       "    }\n",
       "</style>\n",
       "<table border=\"1\" class=\"dataframe\">\n",
       "  <thead>\n",
       "    <tr>\n",
       "      <th></th>\n",
       "      <th colspan=\"8\" halign=\"left\">confidence</th>\n",
       "      <th colspan=\"8\" halign=\"left\">sim_score</th>\n",
       "    </tr>\n",
       "    <tr>\n",
       "      <th></th>\n",
       "      <th>count</th>\n",
       "      <th>mean</th>\n",
       "      <th>std</th>\n",
       "      <th>min</th>\n",
       "      <th>25%</th>\n",
       "      <th>50%</th>\n",
       "      <th>75%</th>\n",
       "      <th>max</th>\n",
       "      <th>count</th>\n",
       "      <th>mean</th>\n",
       "      <th>std</th>\n",
       "      <th>min</th>\n",
       "      <th>25%</th>\n",
       "      <th>50%</th>\n",
       "      <th>75%</th>\n",
       "      <th>max</th>\n",
       "    </tr>\n",
       "    <tr>\n",
       "      <th>prediction</th>\n",
       "      <th></th>\n",
       "      <th></th>\n",
       "      <th></th>\n",
       "      <th></th>\n",
       "      <th></th>\n",
       "      <th></th>\n",
       "      <th></th>\n",
       "      <th></th>\n",
       "      <th></th>\n",
       "      <th></th>\n",
       "      <th></th>\n",
       "      <th></th>\n",
       "      <th></th>\n",
       "      <th></th>\n",
       "      <th></th>\n",
       "      <th></th>\n",
       "    </tr>\n",
       "  </thead>\n",
       "  <tbody>\n",
       "    <tr>\n",
       "      <th>False</th>\n",
       "      <td>97083.0</td>\n",
       "      <td>0.998102</td>\n",
       "      <td>0.004719</td>\n",
       "      <td>0.950005</td>\n",
       "      <td>0.999026</td>\n",
       "      <td>0.999211</td>\n",
       "      <td>0.999255</td>\n",
       "      <td>0.999640</td>\n",
       "      <td>97083.0</td>\n",
       "      <td>0.295319</td>\n",
       "      <td>0.100436</td>\n",
       "      <td>0.000000</td>\n",
       "      <td>0.220088</td>\n",
       "      <td>0.280409</td>\n",
       "      <td>0.356699</td>\n",
       "      <td>0.966071</td>\n",
       "    </tr>\n",
       "    <tr>\n",
       "      <th>True</th>\n",
       "      <td>93007.0</td>\n",
       "      <td>0.990446</td>\n",
       "      <td>0.010945</td>\n",
       "      <td>0.950000</td>\n",
       "      <td>0.988063</td>\n",
       "      <td>0.995639</td>\n",
       "      <td>0.997493</td>\n",
       "      <td>0.998703</td>\n",
       "      <td>93007.0</td>\n",
       "      <td>0.345798</td>\n",
       "      <td>0.097307</td>\n",
       "      <td>0.085003</td>\n",
       "      <td>0.275631</td>\n",
       "      <td>0.338254</td>\n",
       "      <td>0.407334</td>\n",
       "      <td>0.987141</td>\n",
       "    </tr>\n",
       "  </tbody>\n",
       "</table>\n",
       "</div>"
      ],
      "text/plain": [
       "           confidence                                                    \\\n",
       "                count      mean       std       min       25%       50%   \n",
       "prediction                                                                \n",
       "False         97083.0  0.998102  0.004719  0.950005  0.999026  0.999211   \n",
       "True          93007.0  0.990446  0.010945  0.950000  0.988063  0.995639   \n",
       "\n",
       "                               sim_score                                \\\n",
       "                 75%       max     count      mean       std       min   \n",
       "prediction                                                               \n",
       "False       0.999255  0.999640   97083.0  0.295319  0.100436  0.000000   \n",
       "True        0.997493  0.998703   93007.0  0.345798  0.097307  0.085003   \n",
       "\n",
       "                                                    \n",
       "                 25%       50%       75%       max  \n",
       "prediction                                          \n",
       "False       0.220088  0.280409  0.356699  0.966071  \n",
       "True        0.275631  0.338254  0.407334  0.987141  "
      ]
     },
     "execution_count": 53,
     "metadata": {},
     "output_type": "execute_result"
    }
   ],
   "source": [
    "df_sim_score_high[[\"confidence\", \"sim_score\",\"prediction\"]].groupby([\"prediction\"]).describe()"
   ]
  },
  {
   "cell_type": "code",
   "execution_count": 54,
   "metadata": {},
   "outputs": [
    {
     "data": {
      "text/html": [
       "<div>\n",
       "<style scoped>\n",
       "    .dataframe tbody tr th:only-of-type {\n",
       "        vertical-align: middle;\n",
       "    }\n",
       "\n",
       "    .dataframe tbody tr th {\n",
       "        vertical-align: top;\n",
       "    }\n",
       "\n",
       "    .dataframe thead tr th {\n",
       "        text-align: left;\n",
       "    }\n",
       "\n",
       "    .dataframe thead tr:last-of-type th {\n",
       "        text-align: right;\n",
       "    }\n",
       "</style>\n",
       "<table border=\"1\" class=\"dataframe\">\n",
       "  <thead>\n",
       "    <tr>\n",
       "      <th></th>\n",
       "      <th colspan=\"8\" halign=\"left\">confidence</th>\n",
       "      <th colspan=\"8\" halign=\"left\">sim_score</th>\n",
       "    </tr>\n",
       "    <tr>\n",
       "      <th></th>\n",
       "      <th>count</th>\n",
       "      <th>mean</th>\n",
       "      <th>std</th>\n",
       "      <th>min</th>\n",
       "      <th>25%</th>\n",
       "      <th>50%</th>\n",
       "      <th>75%</th>\n",
       "      <th>max</th>\n",
       "      <th>count</th>\n",
       "      <th>mean</th>\n",
       "      <th>std</th>\n",
       "      <th>min</th>\n",
       "      <th>25%</th>\n",
       "      <th>50%</th>\n",
       "      <th>75%</th>\n",
       "      <th>max</th>\n",
       "    </tr>\n",
       "    <tr>\n",
       "      <th>prediction</th>\n",
       "      <th></th>\n",
       "      <th></th>\n",
       "      <th></th>\n",
       "      <th></th>\n",
       "      <th></th>\n",
       "      <th></th>\n",
       "      <th></th>\n",
       "      <th></th>\n",
       "      <th></th>\n",
       "      <th></th>\n",
       "      <th></th>\n",
       "      <th></th>\n",
       "      <th></th>\n",
       "      <th></th>\n",
       "      <th></th>\n",
       "      <th></th>\n",
       "    </tr>\n",
       "  </thead>\n",
       "  <tbody>\n",
       "    <tr>\n",
       "      <th>False</th>\n",
       "      <td>31142.0</td>\n",
       "      <td>0.663448</td>\n",
       "      <td>0.087475</td>\n",
       "      <td>0.500013</td>\n",
       "      <td>0.589295</td>\n",
       "      <td>0.669999</td>\n",
       "      <td>0.741396</td>\n",
       "      <td>0.799999</td>\n",
       "      <td>31142.0</td>\n",
       "      <td>0.339506</td>\n",
       "      <td>0.104105</td>\n",
       "      <td>0.093019</td>\n",
       "      <td>0.261375</td>\n",
       "      <td>0.331301</td>\n",
       "      <td>0.408063</td>\n",
       "      <td>0.815471</td>\n",
       "    </tr>\n",
       "    <tr>\n",
       "      <th>True</th>\n",
       "      <td>28902.0</td>\n",
       "      <td>0.660325</td>\n",
       "      <td>0.087674</td>\n",
       "      <td>0.500005</td>\n",
       "      <td>0.585394</td>\n",
       "      <td>0.665283</td>\n",
       "      <td>0.738018</td>\n",
       "      <td>0.799998</td>\n",
       "      <td>28902.0</td>\n",
       "      <td>0.340747</td>\n",
       "      <td>0.104079</td>\n",
       "      <td>0.086244</td>\n",
       "      <td>0.262236</td>\n",
       "      <td>0.331923</td>\n",
       "      <td>0.408793</td>\n",
       "      <td>0.855620</td>\n",
       "    </tr>\n",
       "  </tbody>\n",
       "</table>\n",
       "</div>"
      ],
      "text/plain": [
       "           confidence                                                    \\\n",
       "                count      mean       std       min       25%       50%   \n",
       "prediction                                                                \n",
       "False         31142.0  0.663448  0.087475  0.500013  0.589295  0.669999   \n",
       "True          28902.0  0.660325  0.087674  0.500005  0.585394  0.665283   \n",
       "\n",
       "                               sim_score                                \\\n",
       "                 75%       max     count      mean       std       min   \n",
       "prediction                                                               \n",
       "False       0.741396  0.799999   31142.0  0.339506  0.104105  0.093019   \n",
       "True        0.738018  0.799998   28902.0  0.340747  0.104079  0.086244   \n",
       "\n",
       "                                                    \n",
       "                 25%       50%       75%       max  \n",
       "prediction                                          \n",
       "False       0.261375  0.331301  0.408063  0.815471  \n",
       "True        0.262236  0.331923  0.408793  0.855620  "
      ]
     },
     "execution_count": 54,
     "metadata": {},
     "output_type": "execute_result"
    }
   ],
   "source": [
    "df_sim_score_low[[\"confidence\", \"sim_score\",\"prediction\"]].groupby([\"prediction\"]).describe()"
   ]
  }
 ],
 "metadata": {
  "kernelspec": {
   "display_name": "Python 3",
   "language": "python",
   "name": "python3"
  },
  "language_info": {
   "codemirror_mode": {
    "name": "ipython",
    "version": 3
   },
   "file_extension": ".py",
   "mimetype": "text/x-python",
   "name": "python",
   "nbconvert_exporter": "python",
   "pygments_lexer": "ipython3",
   "version": "3.7.4"
  }
 },
 "nbformat": 4,
 "nbformat_minor": 1
}