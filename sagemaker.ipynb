{
 "cells": [
  {
   "cell_type": "code",
   "execution_count": 1,
   "metadata": {},
   "outputs": [],
   "source": [
    "import logging\n",
    "import tempfile, os, sys\n",
    "import pandas as pd\n",
    "import matplotlib.pyplot as plt\n",
    "\n",
    "sys.path.append(\"src\")"
   ]
  },
  {
   "cell_type": "code",
   "execution_count": 2,
   "metadata": {},
   "outputs": [],
   "source": [
    "data_dir = \"temp_data\"\n",
    "working_directory = tempfile.mkdtemp()"
   ]
  },
  {
   "cell_type": "code",
   "execution_count": 3,
   "metadata": {},
   "outputs": [],
   "source": [
    "aimed_xml = os.path.join(data_dir, \"aimed.xml\")"
   ]
  },
  {
   "cell_type": "code",
   "execution_count": 4,
   "metadata": {},
   "outputs": [],
   "source": [
    "aimed_json = os.path.join(working_directory, \"aimed.json\")"
   ]
  },
  {
   "cell_type": "markdown",
   "metadata": {},
   "source": [
    "## Convert raw xml to flattened json"
   ]
  },
  {
   "cell_type": "code",
   "execution_count": 5,
   "metadata": {},
   "outputs": [],
   "source": [
    "from preprocessors.aimed_json_converter import AIMedJsonConverter"
   ]
  },
  {
   "cell_type": "code",
   "execution_count": 6,
   "metadata": {},
   "outputs": [],
   "source": [
    "AIMedJsonConverter().convert_fromfile(aimed_xml, aimed_json)"
   ]
  },
  {
   "cell_type": "code",
   "execution_count": 7,
   "metadata": {},
   "outputs": [],
   "source": [
    "df =  pd.read_json(aimed_json)"
   ]
  },
  {
   "cell_type": "code",
   "execution_count": 8,
   "metadata": {},
   "outputs": [
    {
     "data": {
      "text/html": [
       "<div>\n",
       "<style scoped>\n",
       "    .dataframe tbody tr th:only-of-type {\n",
       "        vertical-align: middle;\n",
       "    }\n",
       "\n",
       "    .dataframe tbody tr th {\n",
       "        vertical-align: top;\n",
       "    }\n",
       "\n",
       "    .dataframe thead th {\n",
       "        text-align: right;\n",
       "    }\n",
       "</style>\n",
       "<table border=\"1\" class=\"dataframe\">\n",
       "  <thead>\n",
       "    <tr style=\"text-align: right;\">\n",
       "      <th></th>\n",
       "      <th>interacts</th>\n",
       "      <th>text</th>\n",
       "      <th>participant1Id</th>\n",
       "      <th>participant1Offset</th>\n",
       "      <th>participant1Len</th>\n",
       "      <th>participant1Text</th>\n",
       "      <th>participant2Id</th>\n",
       "      <th>participant2Offset</th>\n",
       "      <th>participant2Len</th>\n",
       "      <th>participant2Text</th>\n",
       "      <th>documentId</th>\n",
       "      <th>sentenceId</th>\n",
       "      <th>otherEntities</th>\n",
       "    </tr>\n",
       "  </thead>\n",
       "  <tbody>\n",
       "    <tr>\n",
       "      <th>0</th>\n",
       "      <td>False</td>\n",
       "      <td>Cytokines measurements during IFN-alpha treatm...</td>\n",
       "      <td>AIMed.d0.s5.e0</td>\n",
       "      <td>30</td>\n",
       "      <td>9</td>\n",
       "      <td>IFN-alpha</td>\n",
       "      <td>AIMed.d0.s5.e1</td>\n",
       "      <td>89</td>\n",
       "      <td>4</td>\n",
       "      <td>IL-4</td>\n",
       "      <td>AIMed.d0</td>\n",
       "      <td>AIMed.d0.s5</td>\n",
       "      <td>[]</td>\n",
       "    </tr>\n",
       "    <tr>\n",
       "      <th>1</th>\n",
       "      <td>False</td>\n",
       "      <td>Levels of IFN-gamma were slightly increased fo...</td>\n",
       "      <td>AIMed.d0.s6.e0</td>\n",
       "      <td>10</td>\n",
       "      <td>9</td>\n",
       "      <td>IFN-gamma</td>\n",
       "      <td>AIMed.d0.s6.e1</td>\n",
       "      <td>54</td>\n",
       "      <td>9</td>\n",
       "      <td>IFN-alpha</td>\n",
       "      <td>AIMed.d0</td>\n",
       "      <td>AIMed.d0.s6</td>\n",
       "      <td>[]</td>\n",
       "    </tr>\n",
       "    <tr>\n",
       "      <th>2</th>\n",
       "      <td>False</td>\n",
       "      <td>In patients with a complete response to IFN-al...</td>\n",
       "      <td>AIMed.d0.s7.e0</td>\n",
       "      <td>40</td>\n",
       "      <td>9</td>\n",
       "      <td>IFN-alpha</td>\n",
       "      <td>AIMed.d0.s7.e1</td>\n",
       "      <td>65</td>\n",
       "      <td>9</td>\n",
       "      <td>IFN-gamma</td>\n",
       "      <td>AIMed.d0</td>\n",
       "      <td>AIMed.d0.s7</td>\n",
       "      <td>[{'id': 'AIMed.d0.s7.e2', 'charOffset': 109, '...</td>\n",
       "    </tr>\n",
       "    <tr>\n",
       "      <th>3</th>\n",
       "      <td>False</td>\n",
       "      <td>In patients with a complete response to IFN-al...</td>\n",
       "      <td>AIMed.d0.s7.e0</td>\n",
       "      <td>40</td>\n",
       "      <td>9</td>\n",
       "      <td>IFN-alpha</td>\n",
       "      <td>AIMed.d0.s7.e2</td>\n",
       "      <td>109</td>\n",
       "      <td>9</td>\n",
       "      <td>IFN-alpha</td>\n",
       "      <td>AIMed.d0</td>\n",
       "      <td>AIMed.d0.s7</td>\n",
       "      <td>[{'id': 'AIMed.d0.s7.e1', 'charOffset': 65, 'l...</td>\n",
       "    </tr>\n",
       "    <tr>\n",
       "      <th>4</th>\n",
       "      <td>False</td>\n",
       "      <td>In patients with a complete response to IFN-al...</td>\n",
       "      <td>AIMed.d0.s7.e0</td>\n",
       "      <td>40</td>\n",
       "      <td>9</td>\n",
       "      <td>IFN-alpha</td>\n",
       "      <td>AIMed.d0.s7.e3</td>\n",
       "      <td>186</td>\n",
       "      <td>4</td>\n",
       "      <td>IL-4</td>\n",
       "      <td>AIMed.d0</td>\n",
       "      <td>AIMed.d0.s7</td>\n",
       "      <td>[{'id': 'AIMed.d0.s7.e1', 'charOffset': 65, 'l...</td>\n",
       "    </tr>\n",
       "  </tbody>\n",
       "</table>\n",
       "</div>"
      ],
      "text/plain": [
       "   interacts                                               text  \\\n",
       "0      False  Cytokines measurements during IFN-alpha treatm...   \n",
       "1      False  Levels of IFN-gamma were slightly increased fo...   \n",
       "2      False  In patients with a complete response to IFN-al...   \n",
       "3      False  In patients with a complete response to IFN-al...   \n",
       "4      False  In patients with a complete response to IFN-al...   \n",
       "\n",
       "   participant1Id  participant1Offset  participant1Len participant1Text  \\\n",
       "0  AIMed.d0.s5.e0                  30                9        IFN-alpha   \n",
       "1  AIMed.d0.s6.e0                  10                9        IFN-gamma   \n",
       "2  AIMed.d0.s7.e0                  40                9        IFN-alpha   \n",
       "3  AIMed.d0.s7.e0                  40                9        IFN-alpha   \n",
       "4  AIMed.d0.s7.e0                  40                9        IFN-alpha   \n",
       "\n",
       "   participant2Id  participant2Offset  participant2Len participant2Text  \\\n",
       "0  AIMed.d0.s5.e1                  89                4             IL-4   \n",
       "1  AIMed.d0.s6.e1                  54                9        IFN-alpha   \n",
       "2  AIMed.d0.s7.e1                  65                9        IFN-gamma   \n",
       "3  AIMed.d0.s7.e2                 109                9        IFN-alpha   \n",
       "4  AIMed.d0.s7.e3                 186                4             IL-4   \n",
       "\n",
       "  documentId   sentenceId                                      otherEntities  \n",
       "0   AIMed.d0  AIMed.d0.s5                                                 []  \n",
       "1   AIMed.d0  AIMed.d0.s6                                                 []  \n",
       "2   AIMed.d0  AIMed.d0.s7  [{'id': 'AIMed.d0.s7.e2', 'charOffset': 109, '...  \n",
       "3   AIMed.d0  AIMed.d0.s7  [{'id': 'AIMed.d0.s7.e1', 'charOffset': 65, 'l...  \n",
       "4   AIMed.d0  AIMed.d0.s7  [{'id': 'AIMed.d0.s7.e1', 'charOffset': 65, 'l...  "
      ]
     },
     "execution_count": 8,
     "metadata": {},
     "output_type": "execute_result"
    }
   ],
   "source": [
    "df.head()"
   ]
  },
  {
   "cell_type": "code",
   "execution_count": 9,
   "metadata": {},
   "outputs": [
    {
     "data": {
      "text/plain": [
       "(5834, 13)"
      ]
     },
     "execution_count": 9,
     "metadata": {},
     "output_type": "execute_result"
    }
   ],
   "source": [
    "df.shape"
   ]
  },
  {
   "cell_type": "code",
   "execution_count": 10,
   "metadata": {},
   "outputs": [
    {
     "data": {
      "text/plain": [
       "False    4834\n",
       "True     1000\n",
       "Name: interacts, dtype: int64"
      ]
     },
     "execution_count": 10,
     "metadata": {},
     "output_type": "execute_result"
    }
   ],
   "source": [
    "df.interacts.value_counts()"
   ]
  },
  {
   "cell_type": "code",
   "execution_count": 11,
   "metadata": {
    "pycharm": {
     "is_executing": true
    }
   },
   "outputs": [
    {
     "data": {
      "text/plain": [
       "<AxesSubplot:ylabel='interacts'>"
      ]
     },
     "execution_count": 11,
     "metadata": {},
     "output_type": "execute_result"
    },
    {
     "data": {
      "image/png": "[encoded data removed]",
      "text/plain": [
       "<Figure size 432x288 with 1 Axes>"
      ]
     },
     "metadata": {},
     "output_type": "display_data"
    }
   ],
   "source": [
    "df.interacts.value_counts().plot.pie( autopct='%1.1f%%')"
   ]
  },
  {
   "cell_type": "markdown",
   "metadata": {},
   "source": [
    "## K Fold split"
   ]
  },
  {
   "cell_type": "code",
   "execution_count": 12,
   "metadata": {},
   "outputs": [],
   "source": [
    "from preprocessors.kfold_aimed_json_splitter import KFoldAimedJsonSplitter\n",
    "\n",
    "splitter = KFoldAimedJsonSplitter()\n"
   ]
  },
  {
   "cell_type": "code",
   "execution_count": 13,
   "metadata": {},
   "outputs": [],
   "source": [
    "def plot_k_fold_label_distibution(split_files):\n",
    "    \n",
    "    fig,ax = plt.subplots(1,2, figsize=(10,5) )\n",
    "    \n",
    "    t_all= []\n",
    "    v_all = []\n",
    "    for i, (t,v) in enumerate(split_files):\n",
    "        t_counts = pd.read_json(t).interacts.value_counts()\n",
    "\n",
    "\n",
    "\n",
    "        t_all.append({\n",
    "            \"True\":t_counts[True]\n",
    "            ,\"False\":  t_counts[False]\n",
    "        }\n",
    "        )\n",
    "\n",
    "\n",
    "        v_counts = pd.read_json(v).interacts.value_counts()\n",
    "        v_total = v_counts[True]+ v_counts[False]\n",
    "\n",
    "        v_all.append({\n",
    "            \"True\":v_counts[True]\n",
    "            ,\"False\":  v_counts[False]\n",
    "        }\n",
    "        )\n",
    "\n",
    "    t_df = pd.DataFrame(t_all)\n",
    "    t_df[\"Truepercentage\"]=t_df.apply(lambda r: 100 * r[\"True\"]/(r[\"True\"] + r[\"False\"]), axis=1)\n",
    "    t_df[[\"True\", \"False\"]].plot.bar(ax= ax[0], title=\"Train\")\n",
    "        \n",
    "    \n",
    "    v_df= pd.DataFrame(v_all)\n",
    "    v_df[\"Truepercentage\"]=v_df.apply(lambda r: 100 * r[\"True\"]/(r[\"True\"] + r[\"False\"]), axis=1)\n",
    "\n",
    "\n",
    "    v_df[[\"True\", \"False\"]].plot.bar(ax= ax[1], title=\"Validation\")\n",
    "    \n",
    "    return t_df, v_df\n"
   ]
  },
  {
   "cell_type": "markdown",
   "metadata": {},
   "source": [
    "### Random Split"
   ]
  },
  {
   "cell_type": "code",
   "execution_count": 14,
   "metadata": {},
   "outputs": [],
   "source": [
    "random_split_dir = os.path.join(working_directory, \"kfold_random\")"
   ]
  },
  {
   "cell_type": "code",
   "execution_count": 15,
   "metadata": {},
   "outputs": [],
   "source": [
    "random_split_files = splitter.split(aimed_json, random_split_dir, k=10, unique_doc_col=None)  "
   ]
  },
  {
   "cell_type": "code",
   "execution_count": 16,
   "metadata": {},
   "outputs": [
    {
     "data": {
      "image/png": "[encoded data removed]",
      "text/plain": [
       "<Figure size 720x360 with 2 Axes>"
      ]
     },
     "metadata": {
      "needs_background": "light"
     },
     "output_type": "display_data"
    }
   ],
   "source": [
    "t_df, v_df = plot_k_fold_label_distibution(random_split_files)"
   ]
  },
  {
   "cell_type": "code",
   "execution_count": 17,
   "metadata": {},
   "outputs": [
    {
     "data": {
      "text/html": [
       "<div>\n",
       "<style scoped>\n",
       "    .dataframe tbody tr th:only-of-type {\n",
       "        vertical-align: middle;\n",
       "    }\n",
       "\n",
       "    .dataframe tbody tr th {\n",
       "        vertical-align: top;\n",
       "    }\n",
       "\n",
       "    .dataframe thead th {\n",
       "        text-align: right;\n",
       "    }\n",
       "</style>\n",
       "<table border=\"1\" class=\"dataframe\">\n",
       "  <thead>\n",
       "    <tr style=\"text-align: right;\">\n",
       "      <th></th>\n",
       "      <th>True</th>\n",
       "      <th>False</th>\n",
       "      <th>Truepercentage</th>\n",
       "    </tr>\n",
       "  </thead>\n",
       "  <tbody>\n",
       "    <tr>\n",
       "      <th>count</th>\n",
       "      <td>10.0</td>\n",
       "      <td>10.000000</td>\n",
       "      <td>10.000000</td>\n",
       "    </tr>\n",
       "    <tr>\n",
       "      <th>mean</th>\n",
       "      <td>900.0</td>\n",
       "      <td>4350.600000</td>\n",
       "      <td>17.140898</td>\n",
       "    </tr>\n",
       "    <tr>\n",
       "      <th>std</th>\n",
       "      <td>0.0</td>\n",
       "      <td>0.516398</td>\n",
       "      <td>0.001686</td>\n",
       "    </tr>\n",
       "    <tr>\n",
       "      <th>min</th>\n",
       "      <td>900.0</td>\n",
       "      <td>4350.000000</td>\n",
       "      <td>17.139592</td>\n",
       "    </tr>\n",
       "    <tr>\n",
       "      <th>25%</th>\n",
       "      <td>900.0</td>\n",
       "      <td>4350.000000</td>\n",
       "      <td>17.139592</td>\n",
       "    </tr>\n",
       "    <tr>\n",
       "      <th>50%</th>\n",
       "      <td>900.0</td>\n",
       "      <td>4351.000000</td>\n",
       "      <td>17.139592</td>\n",
       "    </tr>\n",
       "    <tr>\n",
       "      <th>75%</th>\n",
       "      <td>900.0</td>\n",
       "      <td>4351.000000</td>\n",
       "      <td>17.142857</td>\n",
       "    </tr>\n",
       "    <tr>\n",
       "      <th>max</th>\n",
       "      <td>900.0</td>\n",
       "      <td>4351.000000</td>\n",
       "      <td>17.142857</td>\n",
       "    </tr>\n",
       "  </tbody>\n",
       "</table>\n",
       "</div>"
      ],
      "text/plain": [
       "        True        False  Truepercentage\n",
       "count   10.0    10.000000       10.000000\n",
       "mean   900.0  4350.600000       17.140898\n",
       "std      0.0     0.516398        0.001686\n",
       "min    900.0  4350.000000       17.139592\n",
       "25%    900.0  4350.000000       17.139592\n",
       "50%    900.0  4351.000000       17.139592\n",
       "75%    900.0  4351.000000       17.142857\n",
       "max    900.0  4351.000000       17.142857"
      ]
     },
     "execution_count": 17,
     "metadata": {},
     "output_type": "execute_result"
    }
   ],
   "source": [
    "t_df.describe()"
   ]
  },
  {
   "cell_type": "code",
   "execution_count": 18,
   "metadata": {},
   "outputs": [
    {
     "data": {
      "text/html": [
       "<div>\n",
       "<style scoped>\n",
       "    .dataframe tbody tr th:only-of-type {\n",
       "        vertical-align: middle;\n",
       "    }\n",
       "\n",
       "    .dataframe tbody tr th {\n",
       "        vertical-align: top;\n",
       "    }\n",
       "\n",
       "    .dataframe thead th {\n",
       "        text-align: right;\n",
       "    }\n",
       "</style>\n",
       "<table border=\"1\" class=\"dataframe\">\n",
       "  <thead>\n",
       "    <tr style=\"text-align: right;\">\n",
       "      <th></th>\n",
       "      <th>True</th>\n",
       "      <th>False</th>\n",
       "      <th>Truepercentage</th>\n",
       "    </tr>\n",
       "  </thead>\n",
       "  <tbody>\n",
       "    <tr>\n",
       "      <th>count</th>\n",
       "      <td>10.0</td>\n",
       "      <td>10.000000</td>\n",
       "      <td>10.000000</td>\n",
       "    </tr>\n",
       "    <tr>\n",
       "      <th>mean</th>\n",
       "      <td>100.0</td>\n",
       "      <td>483.400000</td>\n",
       "      <td>17.140910</td>\n",
       "    </tr>\n",
       "    <tr>\n",
       "      <th>std</th>\n",
       "      <td>0.0</td>\n",
       "      <td>0.516398</td>\n",
       "      <td>0.015167</td>\n",
       "    </tr>\n",
       "    <tr>\n",
       "      <th>min</th>\n",
       "      <td>100.0</td>\n",
       "      <td>483.000000</td>\n",
       "      <td>17.123288</td>\n",
       "    </tr>\n",
       "    <tr>\n",
       "      <th>25%</th>\n",
       "      <td>100.0</td>\n",
       "      <td>483.000000</td>\n",
       "      <td>17.123288</td>\n",
       "    </tr>\n",
       "    <tr>\n",
       "      <th>50%</th>\n",
       "      <td>100.0</td>\n",
       "      <td>483.000000</td>\n",
       "      <td>17.152659</td>\n",
       "    </tr>\n",
       "    <tr>\n",
       "      <th>75%</th>\n",
       "      <td>100.0</td>\n",
       "      <td>484.000000</td>\n",
       "      <td>17.152659</td>\n",
       "    </tr>\n",
       "    <tr>\n",
       "      <th>max</th>\n",
       "      <td>100.0</td>\n",
       "      <td>484.000000</td>\n",
       "      <td>17.152659</td>\n",
       "    </tr>\n",
       "  </tbody>\n",
       "</table>\n",
       "</div>"
      ],
      "text/plain": [
       "        True       False  Truepercentage\n",
       "count   10.0   10.000000       10.000000\n",
       "mean   100.0  483.400000       17.140910\n",
       "std      0.0    0.516398        0.015167\n",
       "min    100.0  483.000000       17.123288\n",
       "25%    100.0  483.000000       17.123288\n",
       "50%    100.0  483.000000       17.152659\n",
       "75%    100.0  484.000000       17.152659\n",
       "max    100.0  484.000000       17.152659"
      ]
     },
     "execution_count": 18,
     "metadata": {},
     "output_type": "execute_result"
    }
   ],
   "source": [
    "v_df.describe()"
   ]
  },
  {
   "cell_type": "markdown",
   "metadata": {},
   "source": [
    "### Unique document split"
   ]
  },
  {
   "cell_type": "code",
   "execution_count": 19,
   "metadata": {},
   "outputs": [],
   "source": [
    "unique_split_dir = os.path.join(working_directory, \"kfold_unique\")"
   ]
  },
  {
   "cell_type": "code",
   "execution_count": 20,
   "metadata": {},
   "outputs": [],
   "source": [
    "unique_split_files = splitter.split(aimed_json, unique_split_dir, k=10, unique_doc_col=\"documentId\")  "
   ]
  },
  {
   "cell_type": "code",
   "execution_count": 21,
   "metadata": {},
   "outputs": [
    {
     "data": {
      "image/png": "[encoded data removed]",
      "text/plain": [
       "<Figure size 720x360 with 2 Axes>"
      ]
     },
     "metadata": {
      "needs_background": "light"
     },
     "output_type": "display_data"
    }
   ],
   "source": [
    "t_df, v_df = plot_k_fold_label_distibution(unique_split_files)"
   ]
  },
  {
   "cell_type": "code",
   "execution_count": 22,
   "metadata": {},
   "outputs": [
    {
     "data": {
      "text/html": [
       "<div>\n",
       "<style scoped>\n",
       "    .dataframe tbody tr th:only-of-type {\n",
       "        vertical-align: middle;\n",
       "    }\n",
       "\n",
       "    .dataframe tbody tr th {\n",
       "        vertical-align: top;\n",
       "    }\n",
       "\n",
       "    .dataframe thead th {\n",
       "        text-align: right;\n",
       "    }\n",
       "</style>\n",
       "<table border=\"1\" class=\"dataframe\">\n",
       "  <thead>\n",
       "    <tr style=\"text-align: right;\">\n",
       "      <th></th>\n",
       "      <th>True</th>\n",
       "      <th>False</th>\n",
       "      <th>Truepercentage</th>\n",
       "    </tr>\n",
       "  </thead>\n",
       "  <tbody>\n",
       "    <tr>\n",
       "      <th>count</th>\n",
       "      <td>10.000000</td>\n",
       "      <td>10.000000</td>\n",
       "      <td>10.000000</td>\n",
       "    </tr>\n",
       "    <tr>\n",
       "      <th>mean</th>\n",
       "      <td>900.000000</td>\n",
       "      <td>4350.600000</td>\n",
       "      <td>17.143890</td>\n",
       "    </tr>\n",
       "    <tr>\n",
       "      <th>std</th>\n",
       "      <td>14.854853</td>\n",
       "      <td>93.704263</td>\n",
       "      <td>0.289057</td>\n",
       "    </tr>\n",
       "    <tr>\n",
       "      <th>min</th>\n",
       "      <td>881.000000</td>\n",
       "      <td>4189.000000</td>\n",
       "      <td>16.679091</td>\n",
       "    </tr>\n",
       "    <tr>\n",
       "      <th>25%</th>\n",
       "      <td>887.250000</td>\n",
       "      <td>4301.250000</td>\n",
       "      <td>16.910345</td>\n",
       "    </tr>\n",
       "    <tr>\n",
       "      <th>50%</th>\n",
       "      <td>899.000000</td>\n",
       "      <td>4363.000000</td>\n",
       "      <td>17.202148</td>\n",
       "    </tr>\n",
       "    <tr>\n",
       "      <th>75%</th>\n",
       "      <td>911.250000</td>\n",
       "      <td>4408.750000</td>\n",
       "      <td>17.383265</td>\n",
       "    </tr>\n",
       "    <tr>\n",
       "      <th>max</th>\n",
       "      <td>923.000000</td>\n",
       "      <td>4471.000000</td>\n",
       "      <td>17.507587</td>\n",
       "    </tr>\n",
       "  </tbody>\n",
       "</table>\n",
       "</div>"
      ],
      "text/plain": [
       "             True        False  Truepercentage\n",
       "count   10.000000    10.000000       10.000000\n",
       "mean   900.000000  4350.600000       17.143890\n",
       "std     14.854853    93.704263        0.289057\n",
       "min    881.000000  4189.000000       16.679091\n",
       "25%    887.250000  4301.250000       16.910345\n",
       "50%    899.000000  4363.000000       17.202148\n",
       "75%    911.250000  4408.750000       17.383265\n",
       "max    923.000000  4471.000000       17.507587"
      ]
     },
     "execution_count": 22,
     "metadata": {},
     "output_type": "execute_result"
    }
   ],
   "source": [
    "t_df.describe()"
   ]
  },
  {
   "cell_type": "code",
   "execution_count": 23,
   "metadata": {},
   "outputs": [
    {
     "data": {
      "text/html": [
       "<div>\n",
       "<style scoped>\n",
       "    .dataframe tbody tr th:only-of-type {\n",
       "        vertical-align: middle;\n",
       "    }\n",
       "\n",
       "    .dataframe tbody tr th {\n",
       "        vertical-align: top;\n",
       "    }\n",
       "\n",
       "    .dataframe thead th {\n",
       "        text-align: right;\n",
       "    }\n",
       "</style>\n",
       "<table border=\"1\" class=\"dataframe\">\n",
       "  <thead>\n",
       "    <tr style=\"text-align: right;\">\n",
       "      <th></th>\n",
       "      <th>True</th>\n",
       "      <th>False</th>\n",
       "      <th>Truepercentage</th>\n",
       "    </tr>\n",
       "  </thead>\n",
       "  <tbody>\n",
       "    <tr>\n",
       "      <th>count</th>\n",
       "      <td>10.000000</td>\n",
       "      <td>10.000000</td>\n",
       "      <td>10.000000</td>\n",
       "    </tr>\n",
       "    <tr>\n",
       "      <th>mean</th>\n",
       "      <td>100.000000</td>\n",
       "      <td>483.400000</td>\n",
       "      <td>17.384428</td>\n",
       "    </tr>\n",
       "    <tr>\n",
       "      <th>std</th>\n",
       "      <td>14.854853</td>\n",
       "      <td>93.704263</td>\n",
       "      <td>2.796433</td>\n",
       "    </tr>\n",
       "    <tr>\n",
       "      <th>min</th>\n",
       "      <td>77.000000</td>\n",
       "      <td>363.000000</td>\n",
       "      <td>13.701068</td>\n",
       "    </tr>\n",
       "    <tr>\n",
       "      <th>25%</th>\n",
       "      <td>88.750000</td>\n",
       "      <td>425.250000</td>\n",
       "      <td>15.279773</td>\n",
       "    </tr>\n",
       "    <tr>\n",
       "      <th>50%</th>\n",
       "      <td>101.000000</td>\n",
       "      <td>471.000000</td>\n",
       "      <td>16.500315</td>\n",
       "    </tr>\n",
       "    <tr>\n",
       "      <th>75%</th>\n",
       "      <td>112.750000</td>\n",
       "      <td>532.750000</td>\n",
       "      <td>19.658606</td>\n",
       "    </tr>\n",
       "    <tr>\n",
       "      <th>max</th>\n",
       "      <td>119.000000</td>\n",
       "      <td>645.000000</td>\n",
       "      <td>22.435897</td>\n",
       "    </tr>\n",
       "  </tbody>\n",
       "</table>\n",
       "</div>"
      ],
      "text/plain": [
       "             True       False  Truepercentage\n",
       "count   10.000000   10.000000       10.000000\n",
       "mean   100.000000  483.400000       17.384428\n",
       "std     14.854853   93.704263        2.796433\n",
       "min     77.000000  363.000000       13.701068\n",
       "25%     88.750000  425.250000       15.279773\n",
       "50%    101.000000  471.000000       16.500315\n",
       "75%    112.750000  532.750000       19.658606\n",
       "max    119.000000  645.000000       22.435897"
      ]
     },
     "execution_count": 23,
     "metadata": {},
     "output_type": "execute_result"
    }
   ],
   "source": [
    "v_df.describe()"
   ]
  }
 ],
 "metadata": {
  "kernelspec": {
   "display_name": "Python 3",
   "language": "python",
   "name": "python3"
  },
  "language_info": {
   "codemirror_mode": {
    "name": "ipython",
    "version": 3
   },
   "file_extension": ".py",
   "mimetype": "text/x-python",
   "name": "python",
   "nbconvert_exporter": "python",
   "pygments_lexer": "ipython3",
   "version": "3.7.4"
  }
 },
 "nbformat": 4,
 "nbformat_minor": 1
}
