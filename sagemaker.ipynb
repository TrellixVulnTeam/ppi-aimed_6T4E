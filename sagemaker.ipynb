{
 "cells": [
  {
   "cell_type": "code",
   "execution_count": 1,
   "metadata": {},
   "outputs": [],
   "source": [
    "import logging\n",
    "import tempfile, os, sys\n",
    "import pandas as pd\n",
    "\n",
    "sys.path.append(\"src\")"
   ]
  },
  {
   "cell_type": "code",
   "execution_count": 2,
   "metadata": {},
   "outputs": [],
   "source": [
    "data_dir = \"temp_data\"\n",
    "working_directory = tempfile.mkdtemp()"
   ]
  },
  {
   "cell_type": "code",
   "execution_count": 3,
   "metadata": {},
   "outputs": [],
   "source": [
    "aimed_xml = os.path.join(data_dir, \"aimed.xml\")"
   ]
  },
  {
   "cell_type": "code",
   "execution_count": 4,
   "metadata": {},
   "outputs": [],
   "source": [
    "aimed_json = os.path.join(working_directory, \"aimed.json\")"
   ]
  },
  {
   "cell_type": "markdown",
   "metadata": {},
   "source": [
    "## Convert raw xml to flattened json"
   ]
  },
  {
   "cell_type": "code",
   "execution_count": 5,
   "metadata": {},
   "outputs": [],
   "source": [
    "from preprocessors.aimed_json_converter import AIMedJsonConverter"
   ]
  },
  {
   "cell_type": "code",
   "execution_count": 6,
   "metadata": {},
   "outputs": [],
   "source": [
    "AIMedJsonConverter().convert_fromfile(aimed_xml, aimed_json)"
   ]
  },
  {
   "cell_type": "code",
   "execution_count": 7,
   "metadata": {},
   "outputs": [],
   "source": [
    "df =  pd.read_json(aimed_json)"
   ]
  },
  {
   "cell_type": "code",
   "execution_count": 8,
   "metadata": {},
   "outputs": [
    {
     "data": {
      "text/html": [
       "<div>\n",
       "<style scoped>\n",
       "    .dataframe tbody tr th:only-of-type {\n",
       "        vertical-align: middle;\n",
       "    }\n",
       "\n",
       "    .dataframe tbody tr th {\n",
       "        vertical-align: top;\n",
       "    }\n",
       "\n",
       "    .dataframe thead th {\n",
       "        text-align: right;\n",
       "    }\n",
       "</style>\n",
       "<table border=\"1\" class=\"dataframe\">\n",
       "  <thead>\n",
       "    <tr style=\"text-align: right;\">\n",
       "      <th></th>\n",
       "      <th>interacts</th>\n",
       "      <th>text</th>\n",
       "      <th>participant1Id</th>\n",
       "      <th>participant1Offset</th>\n",
       "      <th>participant1Len</th>\n",
       "      <th>participant1Text</th>\n",
       "      <th>participant2Id</th>\n",
       "      <th>participant2Offset</th>\n",
       "      <th>participant2Len</th>\n",
       "      <th>participant2Text</th>\n",
       "      <th>documentId</th>\n",
       "      <th>sentenceId</th>\n",
       "      <th>otherEntities</th>\n",
       "    </tr>\n",
       "  </thead>\n",
       "  <tbody>\n",
       "    <tr>\n",
       "      <th>0</th>\n",
       "      <td>False</td>\n",
       "      <td>Cytokines measurements during IFN-alpha treatm...</td>\n",
       "      <td>AIMed.d0.s5.e0</td>\n",
       "      <td>30</td>\n",
       "      <td>9</td>\n",
       "      <td>IFN-alpha</td>\n",
       "      <td>AIMed.d0.s5.e1</td>\n",
       "      <td>89</td>\n",
       "      <td>4</td>\n",
       "      <td>IL-4</td>\n",
       "      <td>AIMed.d0</td>\n",
       "      <td>AIMed.d0.s5</td>\n",
       "      <td>[]</td>\n",
       "    </tr>\n",
       "    <tr>\n",
       "      <th>1</th>\n",
       "      <td>False</td>\n",
       "      <td>Levels of IFN-gamma were slightly increased fo...</td>\n",
       "      <td>AIMed.d0.s6.e0</td>\n",
       "      <td>10</td>\n",
       "      <td>9</td>\n",
       "      <td>IFN-gamma</td>\n",
       "      <td>AIMed.d0.s6.e1</td>\n",
       "      <td>54</td>\n",
       "      <td>9</td>\n",
       "      <td>IFN-alpha</td>\n",
       "      <td>AIMed.d0</td>\n",
       "      <td>AIMed.d0.s6</td>\n",
       "      <td>[]</td>\n",
       "    </tr>\n",
       "    <tr>\n",
       "      <th>2</th>\n",
       "      <td>False</td>\n",
       "      <td>In patients with a complete response to IFN-al...</td>\n",
       "      <td>AIMed.d0.s7.e0</td>\n",
       "      <td>40</td>\n",
       "      <td>9</td>\n",
       "      <td>IFN-alpha</td>\n",
       "      <td>AIMed.d0.s7.e1</td>\n",
       "      <td>65</td>\n",
       "      <td>9</td>\n",
       "      <td>IFN-gamma</td>\n",
       "      <td>AIMed.d0</td>\n",
       "      <td>AIMed.d0.s7</td>\n",
       "      <td>[{'id': 'AIMed.d0.s7.e2', 'charOffset': 109, '...</td>\n",
       "    </tr>\n",
       "    <tr>\n",
       "      <th>3</th>\n",
       "      <td>False</td>\n",
       "      <td>In patients with a complete response to IFN-al...</td>\n",
       "      <td>AIMed.d0.s7.e0</td>\n",
       "      <td>40</td>\n",
       "      <td>9</td>\n",
       "      <td>IFN-alpha</td>\n",
       "      <td>AIMed.d0.s7.e2</td>\n",
       "      <td>109</td>\n",
       "      <td>9</td>\n",
       "      <td>IFN-alpha</td>\n",
       "      <td>AIMed.d0</td>\n",
       "      <td>AIMed.d0.s7</td>\n",
       "      <td>[{'id': 'AIMed.d0.s7.e1', 'charOffset': 65, 'l...</td>\n",
       "    </tr>\n",
       "    <tr>\n",
       "      <th>4</th>\n",
       "      <td>False</td>\n",
       "      <td>In patients with a complete response to IFN-al...</td>\n",
       "      <td>AIMed.d0.s7.e0</td>\n",
       "      <td>40</td>\n",
       "      <td>9</td>\n",
       "      <td>IFN-alpha</td>\n",
       "      <td>AIMed.d0.s7.e3</td>\n",
       "      <td>186</td>\n",
       "      <td>4</td>\n",
       "      <td>IL-4</td>\n",
       "      <td>AIMed.d0</td>\n",
       "      <td>AIMed.d0.s7</td>\n",
       "      <td>[{'id': 'AIMed.d0.s7.e1', 'charOffset': 65, 'l...</td>\n",
       "    </tr>\n",
       "  </tbody>\n",
       "</table>\n",
       "</div>"
      ],
      "text/plain": [
       "   interacts                                               text  \\\n",
       "0      False  Cytokines measurements during IFN-alpha treatm...   \n",
       "1      False  Levels of IFN-gamma were slightly increased fo...   \n",
       "2      False  In patients with a complete response to IFN-al...   \n",
       "3      False  In patients with a complete response to IFN-al...   \n",
       "4      False  In patients with a complete response to IFN-al...   \n",
       "\n",
       "   participant1Id  participant1Offset  participant1Len participant1Text  \\\n",
       "0  AIMed.d0.s5.e0                  30                9        IFN-alpha   \n",
       "1  AIMed.d0.s6.e0                  10                9        IFN-gamma   \n",
       "2  AIMed.d0.s7.e0                  40                9        IFN-alpha   \n",
       "3  AIMed.d0.s7.e0                  40                9        IFN-alpha   \n",
       "4  AIMed.d0.s7.e0                  40                9        IFN-alpha   \n",
       "\n",
       "   participant2Id  participant2Offset  participant2Len participant2Text  \\\n",
       "0  AIMed.d0.s5.e1                  89                4             IL-4   \n",
       "1  AIMed.d0.s6.e1                  54                9        IFN-alpha   \n",
       "2  AIMed.d0.s7.e1                  65                9        IFN-gamma   \n",
       "3  AIMed.d0.s7.e2                 109                9        IFN-alpha   \n",
       "4  AIMed.d0.s7.e3                 186                4             IL-4   \n",
       "\n",
       "  documentId   sentenceId                                      otherEntities  \n",
       "0   AIMed.d0  AIMed.d0.s5                                                 []  \n",
       "1   AIMed.d0  AIMed.d0.s6                                                 []  \n",
       "2   AIMed.d0  AIMed.d0.s7  [{'id': 'AIMed.d0.s7.e2', 'charOffset': 109, '...  \n",
       "3   AIMed.d0  AIMed.d0.s7  [{'id': 'AIMed.d0.s7.e1', 'charOffset': 65, 'l...  \n",
       "4   AIMed.d0  AIMed.d0.s7  [{'id': 'AIMed.d0.s7.e1', 'charOffset': 65, 'l...  "
      ]
     },
     "execution_count": 8,
     "metadata": {},
     "output_type": "execute_result"
    }
   ],
   "source": [
    "df.head()"
   ]
  },
  {
   "cell_type": "code",
   "execution_count": 9,
   "metadata": {},
   "outputs": [
    {
     "data": {
      "text/plain": [
       "(5834, 13)"
      ]
     },
     "execution_count": 9,
     "metadata": {},
     "output_type": "execute_result"
    }
   ],
   "source": [
    "df.shape"
   ]
  },
  {
   "cell_type": "code",
   "execution_count": 10,
   "metadata": {},
   "outputs": [
    {
     "data": {
      "text/plain": [
       "False    4834\n",
       "True     1000\n",
       "Name: interacts, dtype: int64"
      ]
     },
     "execution_count": 10,
     "metadata": {},
     "output_type": "execute_result"
    }
   ],
   "source": [
    "df.interacts.value_counts()"
   ]
  },
  {
   "cell_type": "code",
   "execution_count": 11,
   "metadata": {},
   "outputs": [
    {
     "data": {
      "text/plain": [
       "<AxesSubplot:ylabel='interacts'>"
      ]
     },
     "execution_count": 11,
     "metadata": {},
     "output_type": "execute_result"
    },
    {
     "data": {
      "image/png": "[encoded data removed]",
      "text/plain": [
       "<Figure size 432x288 with 1 Axes>"
      ]
     },
     "metadata": {},
     "output_type": "display_data"
    }
   ],
   "source": [
    "df.interacts.value_counts().plot.pie( autopct='%1.1f%%')"
   ]
  }
 ],
 "metadata": {
  "kernelspec": {
   "display_name": "Python 3",
   "language": "python",
   "name": "python3"
  },
  "language_info": {
   "codemirror_mode": {
    "name": "ipython",
    "version": 3
   },
   "file_extension": ".py",
   "mimetype": "text/x-python",
   "name": "python",
   "nbconvert_exporter": "python",
   "pygments_lexer": "ipython3",
   "version": "3.7.4"
  }
 },
 "nbformat": 4,
 "nbformat_minor": 1
}
